{
 "cells": [
  {
   "cell_type": "markdown",
   "metadata": {
    "collapsed": true
   },
   "source": [
    "# FINAL PROJECT - OCCASION VEHICLES PRICE ESTIMATOR\n",
    "___\n",
    "#### MASTER IN DATA SCIENCE - KSCHOOL - 2016/17\n",
    "#### KOLDO PINA ORTIZ\n",
    "____"
   ]
  },
  {
   "cell_type": "markdown",
   "metadata": {
    "collapsed": true
   },
   "source": [
    "## Motivation"
   ]
  },
  {
   "cell_type": "markdown",
   "metadata": {
    "collapsed": true
   },
   "source": [
    "The aim of the present work is to get a good estimator of the price of a second-hand vehicle, based on the prices of the second-hand market"
   ]
  },
  {
   "cell_type": "markdown",
   "metadata": {
    "collapsed": true
   },
   "source": [
    "## Action Plan"
   ]
  },
  {
   "cell_type": "markdown",
   "metadata": {
    "collapsed": false
   },
   "source": [
    "To reach our goal, we will follow the the next steps:\n",
    "\n",
    "1. ***Scrape*** website, **motos.net** to obtain the ***data***.\n",
    "2. ***Clean*** the ***data***.\n",
    "2. ***Merge*** some ***data***.\n",
    "3. ***Train*** various models.\n",
    "4. Compare the metrics and choose the model with the best one.\n",
    "5. Create a flask web server with the app."
   ]
  },
  {
   "cell_type": "markdown",
   "metadata": {
    "collapsed": true
   },
   "source": [
    "## Scrape"
   ]
  },
  {
   "cell_type": "markdown",
   "metadata": {},
   "source": [
    "We are going to scrape each website separately.\n",
    "To this end, we have developed two python scripts called ***scraper_motos.py*** and ***scrapers_coches.py***.\n",
    "Both return a dataframe.\n",
    "\n",
    "You can import them to the notebook."
   ]
  },
  {
   "cell_type": "code",
   "execution_count": 5,
   "metadata": {
    "collapsed": false
   },
   "outputs": [],
   "source": [
    "#Call the scraper_motos function to scrape motos.net and create a csv file with the raw data\n",
    "#from scraper_motos import scraper_motos\n",
    "#scraper_motos().to_csv('motos_raw_data.csv', index = False, header = True, encoding = 'utf-8')"
   ]
  },
  {
   "cell_type": "code",
   "execution_count": null,
   "metadata": {
    "collapsed": true
   },
   "outputs": [],
   "source": [
    "#Start time: 2017-05-14 20:41:19.733669\n",
    "#num_ads 26161\n",
    "#End time: 2017-05-14 23:58:13.605710"
   ]
  },
  {
   "cell_type": "code",
   "execution_count": 2,
   "metadata": {
    "collapsed": false
   },
   "outputs": [],
   "source": [
    "#from scraper_coches import Scraper_coches\n",
    "#Scraper_coches().to_csv('coches_raw_data.csv', index = False, header = True, encoding = 'utf-8')"
   ]
  },
  {
   "cell_type": "code",
   "execution_count": null,
   "metadata": {
    "collapsed": false
   },
   "outputs": [],
   "source": [
    "#Start time: 2017-05-03 19:44:43.260000s\n",
    "#num_pages 5365\n",
    "#End time: 2017-05-04 12:12:29.699000"
   ]
  },
  {
   "cell_type": "code",
   "execution_count": 105,
   "metadata": {
    "collapsed": false
   },
   "outputs": [
    {
     "data": {
      "text/plain": [
       "(26081, 10)"
      ]
     },
     "execution_count": 105,
     "metadata": {},
     "output_type": "execute_result"
    }
   ],
   "source": [
    "import pandas as pd\n",
    "df_motos_raw = pd.read_csv('motos_raw_data.csv')\n",
    "df_motos_raw.shape"
   ]
  },
  {
   "cell_type": "code",
   "execution_count": 106,
   "metadata": {
    "collapsed": false
   },
   "outputs": [
    {
     "data": {
      "text/html": [
       "<div>\n",
       "<table border=\"1\" class=\"dataframe\">\n",
       "  <thead>\n",
       "    <tr style=\"text-align: right;\">\n",
       "      <th></th>\n",
       "      <th>city</th>\n",
       "      <th>brand</th>\n",
       "      <th>model</th>\n",
       "      <th>type</th>\n",
       "      <th>cc</th>\n",
       "      <th>color</th>\n",
       "      <th>km</th>\n",
       "      <th>year</th>\n",
       "      <th>price</th>\n",
       "      <th>url</th>\n",
       "    </tr>\n",
       "  </thead>\n",
       "  <tbody>\n",
       "    <tr>\n",
       "      <th>0</th>\n",
       "      <td>Granada</td>\n",
       "      <td>TRIUMPH</td>\n",
       "      <td>SPEED TRIPLE</td>\n",
       "      <td>Naked</td>\n",
       "      <td>1050.0</td>\n",
       "      <td>Amarillo</td>\n",
       "      <td>32000.0</td>\n",
       "      <td>2006</td>\n",
       "      <td>4500</td>\n",
       "      <td>http://motos.net/ocasion/triumph/speed_triple/...</td>\n",
       "    </tr>\n",
       "    <tr>\n",
       "      <th>1</th>\n",
       "      <td>Vizcaya</td>\n",
       "      <td>BMW</td>\n",
       "      <td>R 1200 GS 98cv</td>\n",
       "      <td>Trail</td>\n",
       "      <td>1170.0</td>\n",
       "      <td>Blanco</td>\n",
       "      <td>74200.0</td>\n",
       "      <td>2007</td>\n",
       "      <td>8500</td>\n",
       "      <td>http://motos.net/ocasion/bmw/r_1200_gs_98cv/20...</td>\n",
       "    </tr>\n",
       "    <tr>\n",
       "      <th>2</th>\n",
       "      <td>Asturias</td>\n",
       "      <td>BMW</td>\n",
       "      <td>R 1200 GS</td>\n",
       "      <td>Trail</td>\n",
       "      <td>1170.0</td>\n",
       "      <td>Rojo</td>\n",
       "      <td>79000.0</td>\n",
       "      <td>2007</td>\n",
       "      <td>7500</td>\n",
       "      <td>http://motos.net/ocasion/bmw/r_1200_gs/2007-en...</td>\n",
       "    </tr>\n",
       "    <tr>\n",
       "      <th>3</th>\n",
       "      <td>Sevilla</td>\n",
       "      <td>HARLEY DAVIDSON</td>\n",
       "      <td>Sportster 883 XLH 53</td>\n",
       "      <td>Custom</td>\n",
       "      <td>883.0</td>\n",
       "      <td>Negro</td>\n",
       "      <td>22000.0</td>\n",
       "      <td>2003</td>\n",
       "      <td>3500</td>\n",
       "      <td>http://motos.net/ocasion/harley_davidson/sport...</td>\n",
       "    </tr>\n",
       "    <tr>\n",
       "      <th>4</th>\n",
       "      <td>Valencia</td>\n",
       "      <td>KYMCO</td>\n",
       "      <td>Super Dink 125i</td>\n",
       "      <td>Scooter 125cc</td>\n",
       "      <td>125.0</td>\n",
       "      <td>NaN</td>\n",
       "      <td>33000.0</td>\n",
       "      <td>2012</td>\n",
       "      <td>1950</td>\n",
       "      <td>http://motos.net/ocasion/kymco/super_dink_125i...</td>\n",
       "    </tr>\n",
       "  </tbody>\n",
       "</table>\n",
       "</div>"
      ],
      "text/plain": [
       "       city            brand                 model           type      cc  \\\n",
       "0   Granada          TRIUMPH          SPEED TRIPLE          Naked  1050.0   \n",
       "1   Vizcaya              BMW        R 1200 GS 98cv          Trail  1170.0   \n",
       "2  Asturias              BMW             R 1200 GS          Trail  1170.0   \n",
       "3   Sevilla  HARLEY DAVIDSON  Sportster 883 XLH 53         Custom   883.0   \n",
       "4  Valencia            KYMCO       Super Dink 125i  Scooter 125cc   125.0   \n",
       "\n",
       "      color       km  year  price  \\\n",
       "0  Amarillo  32000.0  2006   4500   \n",
       "1    Blanco  74200.0  2007   8500   \n",
       "2      Rojo  79000.0  2007   7500   \n",
       "3     Negro  22000.0  2003   3500   \n",
       "4       NaN  33000.0  2012   1950   \n",
       "\n",
       "                                                 url  \n",
       "0  http://motos.net/ocasion/triumph/speed_triple/...  \n",
       "1  http://motos.net/ocasion/bmw/r_1200_gs_98cv/20...  \n",
       "2  http://motos.net/ocasion/bmw/r_1200_gs/2007-en...  \n",
       "3  http://motos.net/ocasion/harley_davidson/sport...  \n",
       "4  http://motos.net/ocasion/kymco/super_dink_125i...  "
      ]
     },
     "execution_count": 106,
     "metadata": {},
     "output_type": "execute_result"
    }
   ],
   "source": [
    "df_motos_raw.head()"
   ]
  },
  {
   "cell_type": "markdown",
   "metadata": {
    "collapsed": true
   },
   "source": [
    "## Data cleaning"
   ]
  },
  {
   "cell_type": "code",
   "execution_count": 107,
   "metadata": {
    "collapsed": false
   },
   "outputs": [],
   "source": [
    "# Convert the dataframe to lower case\n",
    "df_motos_raw = df_motos_raw.apply(lambda x: x.astype(str).str.lower())"
   ]
  },
  {
   "cell_type": "code",
   "execution_count": 108,
   "metadata": {
    "collapsed": true
   },
   "outputs": [],
   "source": [
    "#Join the words in the 'model' and 'type' fields with an underscore\n",
    "df_motos_raw['model'] = df_motos_raw['model'].str.replace(' ', '_')\n",
    "df_motos_raw['type'] = df_motos_raw['type'].str.replace(' ', '_')"
   ]
  },
  {
   "cell_type": "code",
   "execution_count": 109,
   "metadata": {
    "collapsed": false
   },
   "outputs": [
    {
     "name": "stdout",
     "output_type": "stream",
     "text": [
      "61 duplicates\n"
     ]
    }
   ],
   "source": [
    "# Looking for duplicates\n",
    "df_motos_raw['is_duplicated'] = df_motos_raw.duplicated()\n",
    "duplicates = df_motos_raw['is_duplicated'].sum()\n",
    "print '%d duplicates' %duplicates"
   ]
  },
  {
   "cell_type": "code",
   "execution_count": 110,
   "metadata": {
    "collapsed": false
   },
   "outputs": [
    {
     "data": {
      "text/plain": [
       "(26020, 10)"
      ]
     },
     "execution_count": 110,
     "metadata": {},
     "output_type": "execute_result"
    }
   ],
   "source": [
    "# Removing duplicates and delete 'is_duplicated' column\n",
    "df_motos_raw = df_motos_raw.loc[df_motos_raw['is_duplicated']==False]\n",
    "df_motos_raw = df_motos_raw.drop('is_duplicated', 1)\n",
    "df_motos_raw.shape"
   ]
  },
  {
   "cell_type": "code",
   "execution_count": 111,
   "metadata": {
    "collapsed": false
   },
   "outputs": [
    {
     "name": "stdout",
     "output_type": "stream",
     "text": [
      "city 0 -- > 0.000000\n",
      "brand 0 -- > 0.000000\n",
      "model 0 -- > 0.000000\n",
      "type 0 -- > 0.000000\n",
      "cc 97 -- > 0.372790\n",
      "color 7094 -- > 27.263643\n",
      "km 1624 -- > 6.241353\n",
      "year 0 -- > 0.000000\n",
      "price 0 -- > 0.000000\n",
      "url 0 -- > 0.000000\n"
     ]
    }
   ],
   "source": [
    "# Lets investigate column by column the NaNs we have in the dataframe\n",
    "for column in df_motos_raw.columns:\n",
    "    n_nan = df_motos_raw[column]=='nan'\n",
    "    print column + \" %d -- > %f\" %(n_nan.sum(), (n_nan.sum()*1.0)/df_motos_raw.shape[0]*100)"
   ]
  },
  {
   "cell_type": "code",
   "execution_count": 112,
   "metadata": {
    "collapsed": false,
    "scrolled": true
   },
   "outputs": [
    {
     "name": "stdout",
     "output_type": "stream",
     "text": [
      "city --> 52 unique values\n",
      "brand --> 146 unique values\n",
      "model --> 2989 unique values\n",
      "type --> 15 unique values\n",
      "color --> 1932 unique values\n",
      "year --> 48 unique values\n"
     ]
    }
   ],
   "source": [
    "# Lets investigate the unique values we have in the columns\n",
    "for column in ['city', 'brand', 'model', 'type', 'color', 'year']:\n",
    "    column_uv = df_motos_raw[column].unique()\n",
    "    print column + \" --> \" + \"%d unique values\" %len(sorted(column_uv))"
   ]
  },
  {
   "cell_type": "markdown",
   "metadata": {},
   "source": [
    "## Merge some data"
   ]
  },
  {
   "cell_type": "code",
   "execution_count": 113,
   "metadata": {
    "collapsed": true
   },
   "outputs": [],
   "source": [
    "#In order to calculate our first metric, we will use the following columns:\n",
    "# \"lon\" and \"lat\" : These are the longitude and latitude of the corresponding city. We will add them later.\n",
    "# \"brand\", \"model\", \"type\", \"year\""
   ]
  },
  {
   "cell_type": "code",
   "execution_count": 114,
   "metadata": {
    "collapsed": true
   },
   "outputs": [],
   "source": [
    "# Calculating the longitude and latitude of the cities\n",
    "import geopy\n",
    "from geopy.geocoders import Nominatim\n",
    "geolocator = Nominatim()"
   ]
  },
  {
   "cell_type": "code",
   "execution_count": 115,
   "metadata": {
    "collapsed": false
   },
   "outputs": [],
   "source": [
    "cities = df_motos_raw['city'].unique()\n",
    "locations_rows = []\n",
    "for city in cities:\n",
    "    location = geolocator.geocode([city], timeout = 15)\n",
    "    locations_rows.append([city, location.latitude, location.longitude])\n",
    "#Save into a csv\n",
    "df_locations = pd.DataFrame(locations_rows, columns = ['city', 'lat', 'lon'])\n",
    "df_locations.to_csv('locations_coords.csv', index = False)"
   ]
  },
  {
   "cell_type": "code",
   "execution_count": 116,
   "metadata": {
    "collapsed": false
   },
   "outputs": [
    {
     "data": {
      "text/html": [
       "<div>\n",
       "<table border=\"1\" class=\"dataframe\">\n",
       "  <thead>\n",
       "    <tr style=\"text-align: right;\">\n",
       "      <th></th>\n",
       "      <th>city</th>\n",
       "      <th>lat</th>\n",
       "      <th>lon</th>\n",
       "    </tr>\n",
       "  </thead>\n",
       "  <tbody>\n",
       "    <tr>\n",
       "      <th>0</th>\n",
       "      <td>granada</td>\n",
       "      <td>37.183020</td>\n",
       "      <td>-3.602192</td>\n",
       "    </tr>\n",
       "    <tr>\n",
       "      <th>1</th>\n",
       "      <td>vizcaya</td>\n",
       "      <td>43.238264</td>\n",
       "      <td>-2.852207</td>\n",
       "    </tr>\n",
       "    <tr>\n",
       "      <th>2</th>\n",
       "      <td>asturias</td>\n",
       "      <td>43.271563</td>\n",
       "      <td>-5.853946</td>\n",
       "    </tr>\n",
       "  </tbody>\n",
       "</table>\n",
       "</div>"
      ],
      "text/plain": [
       "       city        lat       lon\n",
       "0   granada  37.183020 -3.602192\n",
       "1   vizcaya  43.238264 -2.852207\n",
       "2  asturias  43.271563 -5.853946"
      ]
     },
     "execution_count": 116,
     "metadata": {},
     "output_type": "execute_result"
    }
   ],
   "source": [
    "df_locations.head(3)"
   ]
  },
  {
   "cell_type": "code",
   "execution_count": 117,
   "metadata": {
    "collapsed": true
   },
   "outputs": [],
   "source": [
    "# Merge df_locations with df_motos_raw\n",
    "df_motos_raw_coord = pd.merge(df_motos_raw, df_locations, on = 'city')\n",
    "#Save into a csv\n",
    "df_motos_raw_coord.to_csv('df_motos_raw_coord.csv', index = False)"
   ]
  },
  {
   "cell_type": "code",
   "execution_count": 118,
   "metadata": {
    "collapsed": false
   },
   "outputs": [],
   "source": [
    "# We have created two csv files with a rank for the motos brands and types\n",
    "# called rank_motos_brands.csv and rank_motos_types.csv\n",
    "\n",
    "# With the first one, rank_motos_brands.csv, we are gint to create another  column, with a score to the corresponding brand\n",
    "df_rank_moto_brand = pd.read_csv('rank_moto_brands.csv', sep=';')\n",
    "df_motos_raw_coord_brand = pd.merge(df_motos_raw_coord, df_rank_moto_brand, on = 'brand', how = 'left')\n",
    "#If the brand does not exist, the rank value will be zero\n",
    "#!!OJO, AÑADIR MARCAS DE MOTOS QUE FALTAN ANTES DE PONER UN CERO!!!!!!!!!!!!!!!!!\n",
    "df_motos_raw_coord_brand.brand_score.fillna(0, inplace=True)\n",
    "# Save into a csv\n",
    "df_motos_raw_coord_brand.to_csv('df_motos_coord_brand.csv', index = False)\n",
    "\n",
    "# With the second one, rank_moto_types.csv, we are going to create another column, with a score to the corresponding type\n",
    "df_rank_moto_type = pd.read_csv('rank_moto_types.csv', sep=';')\n",
    "df_motos_raw_coord_brand_types = pd.merge(df_motos_raw_coord_brand, df_rank_moto_type, on = 'type', how = 'left')\n",
    "#Save into a csv\n",
    "df_motos_raw_coord_brand_types.to_csv('df_motos_raw_coord_brand_type.csv', index = False)\n"
   ]
  },
  {
   "cell_type": "code",
   "execution_count": 119,
   "metadata": {
    "collapsed": false
   },
   "outputs": [
    {
     "data": {
      "text/html": [
       "<div>\n",
       "<table border=\"1\" class=\"dataframe\">\n",
       "  <thead>\n",
       "    <tr style=\"text-align: right;\">\n",
       "      <th></th>\n",
       "      <th>city</th>\n",
       "      <th>brand</th>\n",
       "      <th>model</th>\n",
       "      <th>type</th>\n",
       "      <th>cc</th>\n",
       "      <th>color</th>\n",
       "      <th>km</th>\n",
       "      <th>year</th>\n",
       "      <th>price</th>\n",
       "      <th>url</th>\n",
       "      <th>lat</th>\n",
       "      <th>lon</th>\n",
       "      <th>brand_score</th>\n",
       "      <th>type_score</th>\n",
       "    </tr>\n",
       "  </thead>\n",
       "  <tbody>\n",
       "    <tr>\n",
       "      <th>0</th>\n",
       "      <td>granada</td>\n",
       "      <td>triumph</td>\n",
       "      <td>speed_triple</td>\n",
       "      <td>naked</td>\n",
       "      <td>1050.0</td>\n",
       "      <td>amarillo</td>\n",
       "      <td>32000.0</td>\n",
       "      <td>2006</td>\n",
       "      <td>4500</td>\n",
       "      <td>http://motos.net/ocasion/triumph/speed_triple/...</td>\n",
       "      <td>37.18302</td>\n",
       "      <td>-3.602192</td>\n",
       "      <td>120.0</td>\n",
       "      <td>15</td>\n",
       "    </tr>\n",
       "    <tr>\n",
       "      <th>1</th>\n",
       "      <td>granada</td>\n",
       "      <td>triumph</td>\n",
       "      <td>tiger_800</td>\n",
       "      <td>trail</td>\n",
       "      <td>799.0</td>\n",
       "      <td>negro</td>\n",
       "      <td>39200.0</td>\n",
       "      <td>2011</td>\n",
       "      <td>6200</td>\n",
       "      <td>http://motos.net/ocasion/triumph/tiger_800/201...</td>\n",
       "      <td>37.18302</td>\n",
       "      <td>-3.602192</td>\n",
       "      <td>120.0</td>\n",
       "      <td>14</td>\n",
       "    </tr>\n",
       "    <tr>\n",
       "      <th>2</th>\n",
       "      <td>granada</td>\n",
       "      <td>kawasaki</td>\n",
       "      <td>vn_900_classic_special_edition</td>\n",
       "      <td>custom</td>\n",
       "      <td>903.0</td>\n",
       "      <td>negro</td>\n",
       "      <td>32000.0</td>\n",
       "      <td>2011</td>\n",
       "      <td>5000</td>\n",
       "      <td>http://motos.net/ocasion/kawasaki/vn_900_class...</td>\n",
       "      <td>37.18302</td>\n",
       "      <td>-3.602192</td>\n",
       "      <td>378.0</td>\n",
       "      <td>13</td>\n",
       "    </tr>\n",
       "  </tbody>\n",
       "</table>\n",
       "</div>"
      ],
      "text/plain": [
       "      city     brand                           model    type      cc  \\\n",
       "0  granada   triumph                    speed_triple   naked  1050.0   \n",
       "1  granada   triumph                       tiger_800   trail   799.0   \n",
       "2  granada  kawasaki  vn_900_classic_special_edition  custom   903.0   \n",
       "\n",
       "      color       km  year price  \\\n",
       "0  amarillo  32000.0  2006  4500   \n",
       "1     negro  39200.0  2011  6200   \n",
       "2     negro  32000.0  2011  5000   \n",
       "\n",
       "                                                 url       lat       lon  \\\n",
       "0  http://motos.net/ocasion/triumph/speed_triple/...  37.18302 -3.602192   \n",
       "1  http://motos.net/ocasion/triumph/tiger_800/201...  37.18302 -3.602192   \n",
       "2  http://motos.net/ocasion/kawasaki/vn_900_class...  37.18302 -3.602192   \n",
       "\n",
       "   brand_score  type_score  \n",
       "0        120.0          15  \n",
       "1        120.0          14  \n",
       "2        378.0          13  "
      ]
     },
     "execution_count": 119,
     "metadata": {},
     "output_type": "execute_result"
    }
   ],
   "source": [
    "df_motos_raw_coord_brand_types.head(3)"
   ]
  },
  {
   "cell_type": "code",
   "execution_count": 120,
   "metadata": {
    "collapsed": false
   },
   "outputs": [
    {
     "data": {
      "text/plain": [
       "(26020, 14)"
      ]
     },
     "execution_count": 120,
     "metadata": {},
     "output_type": "execute_result"
    }
   ],
   "source": [
    "df_motos_raw_coord_brand_types.shape"
   ]
  },
  {
   "cell_type": "code",
   "execution_count": 131,
   "metadata": {
    "collapsed": false
   },
   "outputs": [],
   "source": [
    "# OK!, so we have a first version of the data we will use to recommend vehicles\n",
    "# df_motos_raw_coord_brand_types\n",
    "# Lets try to calculate the metric only with some fields. We are going to add these distances:\n",
    "# cities distance, brand_distance, type_distance, year_distance\n",
    "# We need to create some functions:\n",
    "\n",
    "def cities_distance(city_lat, city_lon, user_lat, user_lon):\n",
    "    \"\"\"    \n",
    "    :param city_lat: the value in the dataset's lat column to the corresponding city\n",
    "    :param city_lon: the value in the dataset's lon column to the corresponding city\n",
    "    :param user_lat: The corresponding lat value in the location dataset of the city selected by the user\n",
    "    :param user_lon: The corresponding lon value in the location dataset of the city selected by the user\n",
    "    \n",
    "    :return: The value in kilometers of the distance between the two cities.\n",
    "    \n",
    "    Usage of the Vicenty distance\n",
    "    \"\"\"\n",
    "    \n",
    "    from geopy.distance import vincenty\n",
    "    \n",
    "    column_city = (city_lat, city_lon)\n",
    "    user_city = (user_lat, user_lon)\n",
    "    \n",
    "    return (vincenty(column_city, user_city).km)\n",
    "\n",
    "def distance_abs_value(a_value, b_value):\n",
    "    return abs(a_value - b_value)\n",
    "\n",
    "def w_s(city_row, brand_row, type_row, year_row):\n",
    "    import numpy as np\n",
    "    weigth = 100\n",
    "    brand_weight = 40\n",
    "    type_weight = 40\n",
    "    year_weight = 10\n",
    "    city_weight = 10\n",
    "    \n",
    "    params = np.array([city_row, brand_row, type_row, year_row])\n",
    "    weights = np.array([city_weight, brand_weight, type_weight, year_weight])\n",
    "    \n",
    "    num = sum(params * weights) * 1.0\n",
    "    return num/weigth"
   ]
  },
  {
   "cell_type": "code",
   "execution_count": 122,
   "metadata": {
    "collapsed": true
   },
   "outputs": [],
   "source": [
    "#Example of request of a user\n",
    "user_request = ('leon', 'bmw', 'custom', 2000)\n",
    "\n",
    "# We need to calculate some variables:\n",
    "user_lat = float(df_locations[df_locations['city'] == user_request[0]].lat)\n",
    "user_lon = float(df_locations[df_locations['city'] == user_request[0]].lon)\n",
    "user_brand = int(df_rank_moto_brand[df_rank_moto_brand['brand'] == user_request[1]].brand_score)\n",
    "user_type = int(df_rank_moto_type[df_rank_moto_type['type'] == user_request[2]].type_score)\n",
    "user_year = user_request[3]\n",
    "\n",
    "user_vars = [user_brand, user_type, user_year]\n",
    "score_columns = ['brand_score', 'type_score', 'year']"
   ]
  },
  {
   "cell_type": "code",
   "execution_count": 132,
   "metadata": {
    "collapsed": false,
    "scrolled": true
   },
   "outputs": [
    {
     "name": "stdout",
     "output_type": "stream",
     "text": [
      "brand_metric brand_score 356\n",
      "type_metric type_score 13\n",
      "year_metric year 2000\n"
     ]
    }
   ],
   "source": [
    "df_motos_raw_coord_brand_types['city_metric'] = df_motos_raw_coord_brand_types.apply(lambda row: cities_distance(row['lat'], row['lon'], user_lat, user_lon), axis=1)\n",
    "\n",
    "for i, element in enumerate(['brand', 'type', 'year']):\n",
    "    new_column = element + '_metric'\n",
    "    print new_column, score_columns[i], user_vars[i]\n",
    "    df_motos_raw_coord_brand_types[new_column] = df_motos_raw_coord_brand_types.apply(lambda row: distance_abs_value(int(row[score_columns[i]]), user_vars[i]), axis=1)\n",
    "    \n",
    "#!!! Revisar ranking de motos, falta alguna, por eso aparenden NAN en la columna brand_score al hacer el merge\n",
    "\n",
    "df_motos_raw_coord_brand_types['total_metric_pond'] = df_motos_raw_coord_brand_types.apply(lambda row: w_s(row['city_metric'], row['brand_metric'], row['type_metric'], row['year_metric']), axis = 1)"
   ]
  },
  {
   "cell_type": "code",
   "execution_count": 133,
   "metadata": {
    "collapsed": true
   },
   "outputs": [],
   "source": [
    "results = df_motos_raw_coord_brand_types.sort_values(by = ['total_metric_pond'], ascending=True)"
   ]
  },
  {
   "cell_type": "code",
   "execution_count": 134,
   "metadata": {
    "collapsed": false
   },
   "outputs": [
    {
     "data": {
      "text/html": [
       "<div>\n",
       "<table border=\"1\" class=\"dataframe\">\n",
       "  <thead>\n",
       "    <tr style=\"text-align: right;\">\n",
       "      <th></th>\n",
       "      <th>city</th>\n",
       "      <th>brand</th>\n",
       "      <th>model</th>\n",
       "      <th>type</th>\n",
       "      <th>cc</th>\n",
       "      <th>color</th>\n",
       "      <th>km</th>\n",
       "      <th>year</th>\n",
       "      <th>price</th>\n",
       "      <th>url</th>\n",
       "      <th>lat</th>\n",
       "      <th>lon</th>\n",
       "      <th>brand_score</th>\n",
       "      <th>type_score</th>\n",
       "      <th>city_metric</th>\n",
       "      <th>brand_metric</th>\n",
       "      <th>type_metric</th>\n",
       "      <th>year_metric</th>\n",
       "      <th>total_metric_pond</th>\n",
       "    </tr>\n",
       "  </thead>\n",
       "  <tbody>\n",
       "    <tr>\n",
       "      <th>25362</th>\n",
       "      <td>leon</td>\n",
       "      <td>bmw</td>\n",
       "      <td>f_650_st</td>\n",
       "      <td>trail</td>\n",
       "      <td>652.0</td>\n",
       "      <td>blanco</td>\n",
       "      <td>78282.0</td>\n",
       "      <td>1997</td>\n",
       "      <td>1500</td>\n",
       "      <td>http://motos.net/ocasion/bmw/f_650_st/1997-en-...</td>\n",
       "      <td>30.468306</td>\n",
       "      <td>-84.254907</td>\n",
       "      <td>356.0</td>\n",
       "      <td>14</td>\n",
       "      <td>0.0</td>\n",
       "      <td>0</td>\n",
       "      <td>1</td>\n",
       "      <td>3</td>\n",
       "      <td>0.7</td>\n",
       "    </tr>\n",
       "    <tr>\n",
       "      <th>25268</th>\n",
       "      <td>leon</td>\n",
       "      <td>bmw</td>\n",
       "      <td>f_650_gs</td>\n",
       "      <td>trail</td>\n",
       "      <td>798.0</td>\n",
       "      <td>nan</td>\n",
       "      <td>8.0</td>\n",
       "      <td>2005</td>\n",
       "      <td>3600</td>\n",
       "      <td>http://motos.net/ocasion/bmw/f_650_gs/2005-en-...</td>\n",
       "      <td>30.468306</td>\n",
       "      <td>-84.254907</td>\n",
       "      <td>356.0</td>\n",
       "      <td>14</td>\n",
       "      <td>0.0</td>\n",
       "      <td>0</td>\n",
       "      <td>1</td>\n",
       "      <td>5</td>\n",
       "      <td>0.9</td>\n",
       "    </tr>\n",
       "    <tr>\n",
       "      <th>25251</th>\n",
       "      <td>leon</td>\n",
       "      <td>bmw</td>\n",
       "      <td>r_1200_gs</td>\n",
       "      <td>trail</td>\n",
       "      <td>1170.0</td>\n",
       "      <td>rojo</td>\n",
       "      <td>97000.0</td>\n",
       "      <td>2005</td>\n",
       "      <td>7000</td>\n",
       "      <td>http://motos.net/ocasion/bmw/r_1200_gs/2005-en...</td>\n",
       "      <td>30.468306</td>\n",
       "      <td>-84.254907</td>\n",
       "      <td>356.0</td>\n",
       "      <td>14</td>\n",
       "      <td>0.0</td>\n",
       "      <td>0</td>\n",
       "      <td>1</td>\n",
       "      <td>5</td>\n",
       "      <td>0.9</td>\n",
       "    </tr>\n",
       "    <tr>\n",
       "      <th>25340</th>\n",
       "      <td>leon</td>\n",
       "      <td>bmw</td>\n",
       "      <td>r_1200_gs</td>\n",
       "      <td>trail</td>\n",
       "      <td>1170.0</td>\n",
       "      <td>blanco</td>\n",
       "      <td>91000.0</td>\n",
       "      <td>2006</td>\n",
       "      <td>7400</td>\n",
       "      <td>http://motos.net/ocasion/bmw/r_1200_gs/2006-en...</td>\n",
       "      <td>30.468306</td>\n",
       "      <td>-84.254907</td>\n",
       "      <td>356.0</td>\n",
       "      <td>14</td>\n",
       "      <td>0.0</td>\n",
       "      <td>0</td>\n",
       "      <td>1</td>\n",
       "      <td>6</td>\n",
       "      <td>1.0</td>\n",
       "    </tr>\n",
       "    <tr>\n",
       "      <th>25371</th>\n",
       "      <td>leon</td>\n",
       "      <td>bmw</td>\n",
       "      <td>r_1200_gs</td>\n",
       "      <td>trail</td>\n",
       "      <td>1170.0</td>\n",
       "      <td>amarillo</td>\n",
       "      <td>40600.0</td>\n",
       "      <td>2009</td>\n",
       "      <td>11200</td>\n",
       "      <td>http://motos.net/ocasion/bmw/r_1200_gs/2009-en...</td>\n",
       "      <td>30.468306</td>\n",
       "      <td>-84.254907</td>\n",
       "      <td>356.0</td>\n",
       "      <td>14</td>\n",
       "      <td>0.0</td>\n",
       "      <td>0</td>\n",
       "      <td>1</td>\n",
       "      <td>9</td>\n",
       "      <td>1.3</td>\n",
       "    </tr>\n",
       "  </tbody>\n",
       "</table>\n",
       "</div>"
      ],
      "text/plain": [
       "       city brand      model   type      cc     color       km  year  price  \\\n",
       "25362  leon   bmw   f_650_st  trail   652.0    blanco  78282.0  1997   1500   \n",
       "25268  leon   bmw   f_650_gs  trail   798.0       nan      8.0  2005   3600   \n",
       "25251  leon   bmw  r_1200_gs  trail  1170.0      rojo  97000.0  2005   7000   \n",
       "25340  leon   bmw  r_1200_gs  trail  1170.0    blanco  91000.0  2006   7400   \n",
       "25371  leon   bmw  r_1200_gs  trail  1170.0  amarillo  40600.0  2009  11200   \n",
       "\n",
       "                                                     url        lat  \\\n",
       "25362  http://motos.net/ocasion/bmw/f_650_st/1997-en-...  30.468306   \n",
       "25268  http://motos.net/ocasion/bmw/f_650_gs/2005-en-...  30.468306   \n",
       "25251  http://motos.net/ocasion/bmw/r_1200_gs/2005-en...  30.468306   \n",
       "25340  http://motos.net/ocasion/bmw/r_1200_gs/2006-en...  30.468306   \n",
       "25371  http://motos.net/ocasion/bmw/r_1200_gs/2009-en...  30.468306   \n",
       "\n",
       "             lon  brand_score  type_score  city_metric  brand_metric  \\\n",
       "25362 -84.254907        356.0          14          0.0             0   \n",
       "25268 -84.254907        356.0          14          0.0             0   \n",
       "25251 -84.254907        356.0          14          0.0             0   \n",
       "25340 -84.254907        356.0          14          0.0             0   \n",
       "25371 -84.254907        356.0          14          0.0             0   \n",
       "\n",
       "       type_metric  year_metric  total_metric_pond  \n",
       "25362            1            3                0.7  \n",
       "25268            1            5                0.9  \n",
       "25251            1            5                0.9  \n",
       "25340            1            6                1.0  \n",
       "25371            1            9                1.3  "
      ]
     },
     "execution_count": 134,
     "metadata": {},
     "output_type": "execute_result"
    }
   ],
   "source": [
    "results.head(5)"
   ]
  },
  {
   "cell_type": "code",
   "execution_count": null,
   "metadata": {
    "collapsed": true
   },
   "outputs": [],
   "source": []
  },
  {
   "cell_type": "code",
   "execution_count": null,
   "metadata": {
    "collapsed": true
   },
   "outputs": [],
   "source": []
  },
  {
   "cell_type": "code",
   "execution_count": 94,
   "metadata": {
    "collapsed": false
   },
   "outputs": [],
   "source": [
    "brand_null = df_motos_raw_coord_brand_types[df_motos_raw_coord_brand_types['brand_score'].isnull()]"
   ]
  },
  {
   "cell_type": "code",
   "execution_count": null,
   "metadata": {
    "collapsed": true
   },
   "outputs": [],
   "source": []
  },
  {
   "cell_type": "code",
   "execution_count": 95,
   "metadata": {
    "collapsed": false
   },
   "outputs": [
    {
     "name": "stdout",
     "output_type": "stream",
     "text": [
      "gas gas\n",
      "fb mondial\n",
      "monkey bike\n",
      "mash\n",
      "peugeot\n",
      "imr\n",
      "vespino\n",
      "hudson boss\n",
      "jin lun\n",
      "husaberg\n",
      "mxonda\n",
      "mv agusta\n",
      "moto morini\n",
      "montesa\n",
      "rav\n",
      "apollo orion\n",
      "hanway\n",
      "zongshen\n",
      "puch\n",
      "lifan\n",
      "lem\n",
      "ossa\n",
      "ycf\n",
      "tgb\n",
      "elmoto\n",
      "renault\n",
      "riya\n",
      "goes\n",
      "leonart\n",
      "chopper nation\n",
      "cagiva\n",
      "italjet\n",
      "victory\n",
      "indian\n",
      "wildlander\n",
      "csr\n",
      "lml\n",
      "scorpa\n",
      "ksr moto\n",
      "ural\n",
      "malaguti\n",
      "hm\n",
      "jonway\n",
      "lambretta\n",
      "lemev\n",
      "baotian\n",
      "big dog\n",
      "zero motorcycles\n",
      "kangxin\n",
      "zms motors\n",
      "oset\n",
      "mtr\n",
      "brp\n",
      "rebel\n",
      "alpina renania\n",
      "gowinn\n",
      "xmotos\n",
      "brammo\n",
      "scomadi\n",
      "bereco\n",
      "yiying\n",
      "mobilette\n",
      "cpi\n",
      "quadro\n",
      "samada\n",
      "rewaco\n",
      "can-am\n",
      "qingqi\n",
      "orcal\n",
      "jianshe\n",
      "innocenti\n",
      "znen\n",
      "arctic cat\n",
      "ridley motorcycles\n",
      "american ironhorse\n",
      "young rider\n",
      "orion\n",
      "vmoto\n",
      "tbq\n",
      "sumo\n",
      "mecatecno\n",
      "tm\n",
      "wottan\n",
      "dorton\n",
      "mtm\n",
      "kinroad\n",
      "motogac\n",
      "ajp\n",
      "vor\n",
      "via scooter\n",
      "torrot\n",
      "i-moto\n",
      "e-max\n",
      "adly\n",
      "xispa\n",
      "hsun\n",
      "lectric\n",
      "roan\n",
      "bunker trike\n",
      "xingyue\n",
      "aeon\n",
      "lanvertti\n",
      "ymr\n"
     ]
    }
   ],
   "source": [
    "for element in brand_null.brand.unique():\n",
    "    print element"
   ]
  },
  {
   "cell_type": "code",
   "execution_count": 127,
   "metadata": {
    "collapsed": true
   },
   "outputs": [],
   "source": [
    "import numpy as np\n",
    "\n",
    "params = np.array([2, 4, 10, 2])\n",
    "weights = np.array([10, 40, 40, 10])\n"
   ]
  },
  {
   "cell_type": "code",
   "execution_count": 130,
   "metadata": {
    "collapsed": false
   },
   "outputs": [
    {
     "data": {
      "text/plain": [
       "600"
      ]
     },
     "execution_count": 130,
     "metadata": {},
     "output_type": "execute_result"
    }
   ],
   "source": [
    "sum(params * weights)"
   ]
  },
  {
   "cell_type": "code",
   "execution_count": null,
   "metadata": {
    "collapsed": true
   },
   "outputs": [],
   "source": []
  }
 ],
 "metadata": {
  "anaconda-cloud": {},
  "kernelspec": {
   "display_name": "Python 2",
   "language": "python",
   "name": "python2"
  },
  "language_info": {
   "codemirror_mode": {
    "name": "ipython",
    "version": 2
   },
   "file_extension": ".py",
   "mimetype": "text/x-python",
   "name": "python",
   "nbconvert_exporter": "python",
   "pygments_lexer": "ipython2",
   "version": "2.7.13"
  }
 },
 "nbformat": 4,
 "nbformat_minor": 0
}
