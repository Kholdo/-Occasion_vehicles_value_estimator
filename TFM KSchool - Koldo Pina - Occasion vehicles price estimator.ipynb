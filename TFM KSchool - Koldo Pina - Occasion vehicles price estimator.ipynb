{
 "cells": [
  {
   "cell_type": "markdown",
   "metadata": {
    "collapsed": true
   },
   "source": [
    "# FINAL PROJECT - OCCASION VEHICLES PRICE ESTIMATOR\n",
    "___\n",
    "#### MASTER IN DATA SCIENCE - KSCHOOL - 2016/17\n",
    "#### KOLDO PINA ORTIZ\n",
    "____"
   ]
  },
  {
   "cell_type": "markdown",
   "metadata": {
    "collapsed": true
   },
   "source": [
    "## Motivation"
   ]
  },
  {
   "cell_type": "markdown",
   "metadata": {
    "collapsed": true
   },
   "source": [
    "The aim of the present work is to get a good estimator of the price of a second-hand vehicle, based on the prices of the second-hand market"
   ]
  },
  {
   "cell_type": "markdown",
   "metadata": {
    "collapsed": true
   },
   "source": [
    "## Action Plan"
   ]
  },
  {
   "cell_type": "markdown",
   "metadata": {},
   "source": [
    "To reach our goal, we will follow the the next steps:\n",
    "\n",
    "1. ***Scrape*** website, **motos.net** to obtain the ***data***.\n",
    "2. ***Clean*** the ***data***.\n",
    "2. ***Merge*** some ***data***.\n",
    "3. ***Train*** various models.\n",
    "4. Compare the metrics and choose the model with the best one.\n",
    "5. Create a flask web server with the app."
   ]
  },
  {
   "cell_type": "markdown",
   "metadata": {
    "collapsed": true
   },
   "source": [
    "## Scrape"
   ]
  },
  {
   "cell_type": "markdown",
   "metadata": {},
   "source": [
    "We are going to scrape each website separately.\n",
    "To this end, we have developed two python scripts called ***scraper_motos.py*** and ***scrapers_coches.py***.\n",
    "Both return a dataframe.\n",
    "\n",
    "You can import them to the notebook."
   ]
  },
  {
   "cell_type": "code",
   "execution_count": null,
   "metadata": {
    "collapsed": false
   },
   "outputs": [],
   "source": [
    "%pwd"
   ]
  },
  {
   "cell_type": "code",
   "execution_count": null,
   "metadata": {
    "collapsed": false
   },
   "outputs": [],
   "source": [
    "%cd scrapers"
   ]
  },
  {
   "cell_type": "code",
   "execution_count": null,
   "metadata": {
    "collapsed": false
   },
   "outputs": [],
   "source": [
    "#Call the scraper_motos function to scrape motos.net and create a csv file with the raw data in scraped_data folder\n",
    "#To do that we need to change our path\n",
    "# %cd scrapers\n",
    "# from scraper_motos import scraper_motos\n",
    "# scraper_motos()"
   ]
  },
  {
   "cell_type": "code",
   "execution_count": null,
   "metadata": {
    "collapsed": true
   },
   "outputs": [],
   "source": [
    "#Start time: 2017-06-13 19:28:56.441707\n",
    "#num_ads 26588\n",
    "#End time: 2017-06-13 22:47:15.427469"
   ]
  },
  {
   "cell_type": "code",
   "execution_count": null,
   "metadata": {
    "collapsed": true
   },
   "outputs": [],
   "source": [
    "%cd ..\n",
    "%pwd"
   ]
  },
  {
   "cell_type": "code",
   "execution_count": 6,
   "metadata": {
    "collapsed": false
   },
   "outputs": [
    {
     "data": {
      "text/plain": [
       "(26081, 10)"
      ]
     },
     "execution_count": 6,
     "metadata": {},
     "output_type": "execute_result"
    }
   ],
   "source": [
    "import pandas as pd\n",
    "df_motos_raw = pd.read_csv('scraped_data/test/motos_raw_data.csv')\n",
    "df_motos_raw.shape"
   ]
  },
  {
   "cell_type": "code",
   "execution_count": 7,
   "metadata": {
    "collapsed": false
   },
   "outputs": [
    {
     "data": {
      "text/html": [
       "<div>\n",
       "<table border=\"1\" class=\"dataframe\">\n",
       "  <thead>\n",
       "    <tr style=\"text-align: right;\">\n",
       "      <th></th>\n",
       "      <th>city</th>\n",
       "      <th>brand</th>\n",
       "      <th>model</th>\n",
       "      <th>type</th>\n",
       "      <th>cc</th>\n",
       "      <th>color</th>\n",
       "      <th>km</th>\n",
       "      <th>year</th>\n",
       "      <th>price</th>\n",
       "      <th>url</th>\n",
       "    </tr>\n",
       "  </thead>\n",
       "  <tbody>\n",
       "    <tr>\n",
       "      <th>0</th>\n",
       "      <td>Granada</td>\n",
       "      <td>TRIUMPH</td>\n",
       "      <td>SPEED TRIPLE</td>\n",
       "      <td>Naked</td>\n",
       "      <td>1050.0</td>\n",
       "      <td>Amarillo</td>\n",
       "      <td>32000.0</td>\n",
       "      <td>2006</td>\n",
       "      <td>4500</td>\n",
       "      <td>http://motos.net/ocasion/triumph/speed_triple/...</td>\n",
       "    </tr>\n",
       "    <tr>\n",
       "      <th>1</th>\n",
       "      <td>Vizcaya</td>\n",
       "      <td>BMW</td>\n",
       "      <td>R 1200 GS 98cv</td>\n",
       "      <td>Trail</td>\n",
       "      <td>1170.0</td>\n",
       "      <td>Blanco</td>\n",
       "      <td>74200.0</td>\n",
       "      <td>2007</td>\n",
       "      <td>8500</td>\n",
       "      <td>http://motos.net/ocasion/bmw/r_1200_gs_98cv/20...</td>\n",
       "    </tr>\n",
       "    <tr>\n",
       "      <th>2</th>\n",
       "      <td>Asturias</td>\n",
       "      <td>BMW</td>\n",
       "      <td>R 1200 GS</td>\n",
       "      <td>Trail</td>\n",
       "      <td>1170.0</td>\n",
       "      <td>Rojo</td>\n",
       "      <td>79000.0</td>\n",
       "      <td>2007</td>\n",
       "      <td>7500</td>\n",
       "      <td>http://motos.net/ocasion/bmw/r_1200_gs/2007-en...</td>\n",
       "    </tr>\n",
       "    <tr>\n",
       "      <th>3</th>\n",
       "      <td>Sevilla</td>\n",
       "      <td>HARLEY DAVIDSON</td>\n",
       "      <td>Sportster 883 XLH 53</td>\n",
       "      <td>Custom</td>\n",
       "      <td>883.0</td>\n",
       "      <td>Negro</td>\n",
       "      <td>22000.0</td>\n",
       "      <td>2003</td>\n",
       "      <td>3500</td>\n",
       "      <td>http://motos.net/ocasion/harley_davidson/sport...</td>\n",
       "    </tr>\n",
       "    <tr>\n",
       "      <th>4</th>\n",
       "      <td>Valencia</td>\n",
       "      <td>KYMCO</td>\n",
       "      <td>Super Dink 125i</td>\n",
       "      <td>Scooter 125cc</td>\n",
       "      <td>125.0</td>\n",
       "      <td>NaN</td>\n",
       "      <td>33000.0</td>\n",
       "      <td>2012</td>\n",
       "      <td>1950</td>\n",
       "      <td>http://motos.net/ocasion/kymco/super_dink_125i...</td>\n",
       "    </tr>\n",
       "  </tbody>\n",
       "</table>\n",
       "</div>"
      ],
      "text/plain": [
       "       city            brand                 model           type      cc  \\\n",
       "0   Granada          TRIUMPH          SPEED TRIPLE          Naked  1050.0   \n",
       "1   Vizcaya              BMW        R 1200 GS 98cv          Trail  1170.0   \n",
       "2  Asturias              BMW             R 1200 GS          Trail  1170.0   \n",
       "3   Sevilla  HARLEY DAVIDSON  Sportster 883 XLH 53         Custom   883.0   \n",
       "4  Valencia            KYMCO       Super Dink 125i  Scooter 125cc   125.0   \n",
       "\n",
       "      color       km  year  price  \\\n",
       "0  Amarillo  32000.0  2006   4500   \n",
       "1    Blanco  74200.0  2007   8500   \n",
       "2      Rojo  79000.0  2007   7500   \n",
       "3     Negro  22000.0  2003   3500   \n",
       "4       NaN  33000.0  2012   1950   \n",
       "\n",
       "                                                 url  \n",
       "0  http://motos.net/ocasion/triumph/speed_triple/...  \n",
       "1  http://motos.net/ocasion/bmw/r_1200_gs_98cv/20...  \n",
       "2  http://motos.net/ocasion/bmw/r_1200_gs/2007-en...  \n",
       "3  http://motos.net/ocasion/harley_davidson/sport...  \n",
       "4  http://motos.net/ocasion/kymco/super_dink_125i...  "
      ]
     },
     "execution_count": 7,
     "metadata": {},
     "output_type": "execute_result"
    }
   ],
   "source": [
    "df_motos_raw.head()"
   ]
  },
  {
   "cell_type": "markdown",
   "metadata": {
    "collapsed": true
   },
   "source": [
    "## Data cleaning"
   ]
  },
  {
   "cell_type": "code",
   "execution_count": 8,
   "metadata": {
    "collapsed": true
   },
   "outputs": [],
   "source": [
    "df_motos_raw['color'].fillna('not specified', inplace=True)"
   ]
  },
  {
   "cell_type": "code",
   "execution_count": 9,
   "metadata": {
    "collapsed": true
   },
   "outputs": [],
   "source": [
    "# Convert the dataframe to lower case\n",
    "df_motos_raw = df_motos_raw.apply(lambda x: x.astype(str).str.lower())"
   ]
  },
  {
   "cell_type": "code",
   "execution_count": 10,
   "metadata": {
    "collapsed": true
   },
   "outputs": [],
   "source": [
    "#Join the words in the 'model' and 'type' fields with an underscorekoldo\n",
    "df_motos_raw['model'] = df_motos_raw['model'].str.replace(' ', '_')\n",
    "df_motos_raw['type'] = df_motos_raw['type'].str.replace(' ', '_')"
   ]
  },
  {
   "cell_type": "code",
   "execution_count": 11,
   "metadata": {
    "collapsed": false
   },
   "outputs": [
    {
     "name": "stdout",
     "output_type": "stream",
     "text": [
      "61 duplicates\n"
     ]
    }
   ],
   "source": [
    "# Looking for duplicates\n",
    "df_motos_raw['is_duplicated'] = df_motos_raw.duplicated()\n",
    "duplicates = df_motos_raw['is_duplicated'].sum()\n",
    "print '%d duplicates' %duplicates"
   ]
  },
  {
   "cell_type": "code",
   "execution_count": 12,
   "metadata": {
    "collapsed": false
   },
   "outputs": [
    {
     "data": {
      "text/plain": [
       "(26020, 10)"
      ]
     },
     "execution_count": 12,
     "metadata": {},
     "output_type": "execute_result"
    }
   ],
   "source": [
    "# Removing duplicates and delete 'is_duplicated' column\n",
    "df_motos_raw = df_motos_raw.loc[df_motos_raw['is_duplicated']==False]\n",
    "df_motos_raw = df_motos_raw.drop('is_duplicated', 1)\n",
    "df_motos_raw.shape"
   ]
  },
  {
   "cell_type": "code",
   "execution_count": 13,
   "metadata": {
    "collapsed": false
   },
   "outputs": [
    {
     "name": "stdout",
     "output_type": "stream",
     "text": [
      "city 0 -- > 0.000000\n",
      "brand 0 -- > 0.000000\n",
      "model 0 -- > 0.000000\n",
      "type 0 -- > 0.000000\n",
      "cc 97 -- > 0.372790\n",
      "color 0 -- > 0.000000\n",
      "km 1624 -- > 6.241353\n",
      "year 0 -- > 0.000000\n",
      "price 0 -- > 0.000000\n",
      "url 0 -- > 0.000000\n"
     ]
    }
   ],
   "source": [
    "# Lets investigate column by column the NaNs we have in the dataframe\n",
    "for column in df_motos_raw.columns:\n",
    "    n_nan = df_motos_raw[column]=='nan'\n",
    "    print column + \" %d -- > %f\" %(n_nan.sum(), (n_nan.sum()*1.0)/df_motos_raw.shape[0]*100)"
   ]
  },
  {
   "cell_type": "code",
   "execution_count": 14,
   "metadata": {
    "collapsed": false,
    "scrolled": true
   },
   "outputs": [
    {
     "name": "stdout",
     "output_type": "stream",
     "text": [
      "city --> 52 unique values\n",
      "brand --> 146 unique values\n",
      "model --> 2989 unique values\n",
      "type --> 15 unique values\n",
      "color --> 1932 unique values\n",
      "year --> 48 unique values\n"
     ]
    }
   ],
   "source": [
    "# Lets investigate the unique values we have in the columns\n",
    "for column in ['city', 'brand', 'model', 'type', 'color', 'year']:\n",
    "    column_uv = df_motos_raw[column].unique()\n",
    "    print column + \" --> \" + \"%d unique values\" %len(sorted(column_uv))"
   ]
  },
  {
   "cell_type": "markdown",
   "metadata": {},
   "source": [
    "## Merge some data"
   ]
  },
  {
   "cell_type": "code",
   "execution_count": 15,
   "metadata": {
    "collapsed": true
   },
   "outputs": [],
   "source": [
    "#In order to calculate our first metric, we will use the following columns:\n",
    "# \"lon\" and \"lat\" : These are the longitude and latitude of the corresponding city. We will add them later.\n",
    "# \"brand\", \"model\", \"type\", \"year\""
   ]
  },
  {
   "cell_type": "code",
   "execution_count": 16,
   "metadata": {
    "collapsed": true
   },
   "outputs": [],
   "source": [
    "# Calculating the longitude and latitude of the cities\n",
    "import geopy\n",
    "from geopy.geocoders import Nominatim\n",
    "geolocator = Nominatim()"
   ]
  },
  {
   "cell_type": "code",
   "execution_count": 17,
   "metadata": {
    "collapsed": true
   },
   "outputs": [],
   "source": [
    "cities = df_motos_raw['city'].unique()\n",
    "locations_rows = []\n",
    "for city in cities:\n",
    "    location = geolocator.geocode([city], timeout = 15)\n",
    "    locations_rows.append([city, location.latitude, location.longitude])\n",
    "#Save into a csv\n",
    "df_locations = pd.DataFrame(locations_rows, columns = ['city', 'lat', 'lon'])\n",
    "df_locations.to_csv('auxiliary_data/locations_coords.csv', index = False)"
   ]
  },
  {
   "cell_type": "code",
   "execution_count": 18,
   "metadata": {
    "collapsed": false
   },
   "outputs": [
    {
     "data": {
      "text/html": [
       "<div>\n",
       "<table border=\"1\" class=\"dataframe\">\n",
       "  <thead>\n",
       "    <tr style=\"text-align: right;\">\n",
       "      <th></th>\n",
       "      <th>city</th>\n",
       "      <th>lat</th>\n",
       "      <th>lon</th>\n",
       "    </tr>\n",
       "  </thead>\n",
       "  <tbody>\n",
       "    <tr>\n",
       "      <th>0</th>\n",
       "      <td>granada</td>\n",
       "      <td>37.183020</td>\n",
       "      <td>-3.602192</td>\n",
       "    </tr>\n",
       "    <tr>\n",
       "      <th>1</th>\n",
       "      <td>vizcaya</td>\n",
       "      <td>43.238264</td>\n",
       "      <td>-2.852208</td>\n",
       "    </tr>\n",
       "    <tr>\n",
       "      <th>2</th>\n",
       "      <td>asturias</td>\n",
       "      <td>43.271563</td>\n",
       "      <td>-5.853947</td>\n",
       "    </tr>\n",
       "  </tbody>\n",
       "</table>\n",
       "</div>"
      ],
      "text/plain": [
       "       city        lat       lon\n",
       "0   granada  37.183020 -3.602192\n",
       "1   vizcaya  43.238264 -2.852208\n",
       "2  asturias  43.271563 -5.853947"
      ]
     },
     "execution_count": 18,
     "metadata": {},
     "output_type": "execute_result"
    }
   ],
   "source": [
    "df_locations.head(3)"
   ]
  },
  {
   "cell_type": "code",
   "execution_count": 19,
   "metadata": {
    "collapsed": true
   },
   "outputs": [],
   "source": [
    "# Merge df_locations with df_motos_raw\n",
    "df_motos_raw_coord = pd.merge(df_motos_raw, df_locations, on = 'city')\n",
    "#Save into a csv\n",
    "df_motos_raw_coord.to_csv('df_motos_raw_coord.csv', index = False)"
   ]
  },
  {
   "cell_type": "code",
   "execution_count": 23,
   "metadata": {
    "collapsed": false
   },
   "outputs": [],
   "source": [
    "#We have scraped a web to obtain a simple brand rank. \n",
    "#We have it in the fodler named scraped_data and is called rank_moto_brands.csv\n",
    "#Nevertheless, not all the brands in the adds appear in it. So, first of all, we are going to add the ones that are missing.\n",
    "brands_in_df_list = df_motos_raw_coord.brand.unique()\n",
    "df_rank_moto_brand = pd.read_csv('scraped_data/rank_moto_brands.csv', sep=';')\n",
    "rank_values = df_rank_moto_brand.values.tolist()\n",
    "brands_rank_values =  df_rank_moto_brand.brand.values\n",
    "for df_brand in brands_in_df_list:\n",
    "    if df_brand not in brands_rank_values:\n",
    "        rank_values.append([df_brand,0])\n"
   ]
  },
  {
   "cell_type": "code",
   "execution_count": 24,
   "metadata": {
    "collapsed": false
   },
   "outputs": [
    {
     "data": {
      "text/plain": [
       "[['yamaha', 646L],\n",
       " ['honda', 635L],\n",
       " ['suzuki', 580L],\n",
       " ['ducati', 473L],\n",
       " ['harley davidson', 434L],\n",
       " ['kawasaki', 378L],\n",
       " ['bmw', 356L],\n",
       " ['ktm', 332L],\n",
       " ['aprilia', 205L],\n",
       " ['vespa', 144L],\n",
       " ['derbi', 120L],\n",
       " ['triumph', 120L],\n",
       " ['bultaco', 94L],\n",
       " ['gas-gas', 72L],\n",
       " ['gas gas', 72L],\n",
       " ['hyosung', 58L],\n",
       " ['sym', 46L],\n",
       " ['gilera', 42L],\n",
       " ['motor-hispania', 40L],\n",
       " ['husqvarna', 40L],\n",
       " ['hammel', 37L],\n",
       " ['kymco', 37L],\n",
       " ['mv-agusta', 36L],\n",
       " ['moto guzzi', 33L],\n",
       " ['buell', 30L],\n",
       " ['rieju', 26L],\n",
       " ['beta', 24L],\n",
       " ['benelli', 21L],\n",
       " ['daelim', 20L],\n",
       " ['keeway', 20L],\n",
       " ['sherco', 20L],\n",
       " ['jincheng', 20L],\n",
       " ['dh-haotian', 20L],\n",
       " ['alfer', 19L],\n",
       " ['bimota', 19L],\n",
       " ['adly', 19L],\n",
       " ['adly-moto', 19L],\n",
       " ['bombardier', 18L],\n",
       " ['piaggio', 16L],\n",
       " ['polini', 15L],\n",
       " ['linhai', 10L],\n",
       " ['meko', 10L],\n",
       " ['azel', 10L],\n",
       " ['muz', 10L],\n",
       " ['mbk', 10L],\n",
       " ['kenrod', 10L],\n",
       " ['macbor', 10L],\n",
       " ['sumco', 10L],\n",
       " ['clipic', 10L],\n",
       " ['aiyumo', 10L],\n",
       " ['generic', 10L],\n",
       " ['i-moto', 10L],\n",
       " ['huatian', 10L],\n",
       " ['goes', 10L],\n",
       " ['blata', 8L],\n",
       " ['malaguti', 8L],\n",
       " ['voxan', 8L],\n",
       " ['vor', 8L],\n",
       " ['victory', 8L],\n",
       " ['tgb', 8L],\n",
       " ['scorpa', 8L],\n",
       " ['sachs', 8L],\n",
       " ['moto tm', 8L],\n",
       " ['cagiva', 8L],\n",
       " ['csr', 8L],\n",
       " ['leonart', 8L],\n",
       " ['italjet', 8L],\n",
       " ['polaris', 8L],\n",
       " ['cpi', 8L],\n",
       " ['husaberg', 8L],\n",
       " ['emc-puch', 8L],\n",
       " ['peugeot', 3L],\n",
       " ['fb mondial', 0],\n",
       " ['monkey bike', 0],\n",
       " ['mash', 0],\n",
       " ['imr', 0],\n",
       " ['vespino', 0],\n",
       " ['hudson boss', 0],\n",
       " ['jin lun', 0],\n",
       " ['mxonda', 0],\n",
       " ['mv agusta', 0],\n",
       " ['moto morini', 0],\n",
       " ['montesa', 0],\n",
       " ['rav', 0],\n",
       " ['apollo orion', 0],\n",
       " ['hanway', 0],\n",
       " ['motor hispania', 0],\n",
       " ['zongshen', 0],\n",
       " ['puch', 0],\n",
       " ['lifan', 0],\n",
       " ['lem', 0],\n",
       " ['ossa', 0],\n",
       " ['ycf', 0],\n",
       " ['elmoto', 0],\n",
       " ['renault', 0],\n",
       " ['riya', 0],\n",
       " ['chopper nation', 0],\n",
       " ['royal enfield', 0],\n",
       " ['indian', 0],\n",
       " ['wildlander', 0],\n",
       " ['lml', 0],\n",
       " ['ksr moto', 0],\n",
       " ['ural', 0],\n",
       " ['hm', 0],\n",
       " ['jonway', 0],\n",
       " ['lambretta', 0],\n",
       " ['lemev', 0],\n",
       " ['baotian', 0],\n",
       " ['big dog', 0],\n",
       " ['zero motorcycles', 0],\n",
       " ['kangxin', 0],\n",
       " ['zms motors', 0],\n",
       " ['oset', 0],\n",
       " ['mtr', 0],\n",
       " ['brp', 0],\n",
       " ['rebel', 0],\n",
       " ['dh haotian', 0],\n",
       " ['alpina renania', 0],\n",
       " ['gowinn', 0],\n",
       " ['xmotos', 0],\n",
       " ['brammo', 0],\n",
       " ['scomadi', 0],\n",
       " ['bereco', 0],\n",
       " ['yiying', 0],\n",
       " ['mobilette', 0],\n",
       " ['quadro', 0],\n",
       " ['samada', 0],\n",
       " ['rewaco', 0],\n",
       " ['can-am', 0],\n",
       " ['qingqi', 0],\n",
       " ['orcal', 0],\n",
       " ['jianshe', 0],\n",
       " ['innocenti', 0],\n",
       " ['znen', 0],\n",
       " ['arctic cat', 0],\n",
       " ['ridley motorcycles', 0],\n",
       " ['american ironhorse', 0],\n",
       " ['young rider', 0],\n",
       " ['orion', 0],\n",
       " ['vmoto', 0],\n",
       " ['tbq', 0],\n",
       " ['sumo', 0],\n",
       " ['mecatecno', 0],\n",
       " ['tm', 0],\n",
       " ['wottan', 0],\n",
       " ['dorton', 0],\n",
       " ['mtm', 0],\n",
       " ['kinroad', 0],\n",
       " ['motogac', 0],\n",
       " ['ajp', 0],\n",
       " ['via scooter', 0],\n",
       " ['torrot', 0],\n",
       " ['e-max', 0],\n",
       " ['xispa', 0],\n",
       " ['hsun', 0],\n",
       " ['lectric', 0],\n",
       " ['roan', 0],\n",
       " ['bunker trike', 0],\n",
       " ['xingyue', 0],\n",
       " ['aeon', 0],\n",
       " ['lanvertti', 0],\n",
       " ['ymr', 0]]"
      ]
     },
     "execution_count": 24,
     "metadata": {},
     "output_type": "execute_result"
    }
   ],
   "source": [
    "rank_values"
   ]
  },
  {
   "cell_type": "code",
   "execution_count": null,
   "metadata": {
    "collapsed": true
   },
   "outputs": [],
   "source": [
    "# We have created two csv files with a rank for the motos brands and types\n",
    "# called rank_motos_brands.csv and rank_motos_types.csv\n",
    "\n",
    "# With the first one, rank_motos_brands.csv, we are gint to create another  column, with a score to the corresponding brand\n",
    "df_rank_moto_brand = pd.read_csv('rank_moto_brands.csv', sep=';')\n",
    "df_motos_raw_coord_brand = pd.merge(df_motos_raw_coord, df_rank_moto_brand, on = 'brand', how = 'left')\n",
    "#If the brand does not exist, the rank value will be zero\n",
    "#!!OJO, AÑADIR MARCAS DE MOTOS QUE FALTAN ANTES DE PONER UN CERO!!!!!!!!!!!!!!!!!\n",
    "\n",
    "\n",
    "\n",
    "\n",
    "df_motos_raw_coord_brand.brand_score.fillna(0, inplace=True)\n",
    "# Save into a csv\n",
    "df_motos_raw_coord_brand.to_csv('df_motos_coord_brand.csv', index = False)\n",
    "\n",
    "# With the second one, rank_moto_types.csv, we are going to create another column, with a score to the corresponding type\n",
    "df_rank_moto_type = pd.read_csv('rank_moto_types.csv', sep=';')\n",
    "df_motos_raw_coord_brand_types = pd.merge(df_motos_raw_coord_brand, df_rank_moto_type, on = 'type', how = 'left')\n",
    "#Save into a csv\n",
    "df_motos_raw_coord_brand_types.to_csv('df_motos_raw_coord_brand_type.csv', index = False)\n"
   ]
  },
  {
   "cell_type": "code",
   "execution_count": null,
   "metadata": {
    "collapsed": true
   },
   "outputs": [],
   "source": [
    "df_motos_raw_coord_brand_types.head(3)"
   ]
  },
  {
   "cell_type": "code",
   "execution_count": null,
   "metadata": {
    "collapsed": true
   },
   "outputs": [],
   "source": [
    "df_motos_raw_coord_brand_types.shape"
   ]
  },
  {
   "cell_type": "code",
   "execution_count": null,
   "metadata": {
    "collapsed": true
   },
   "outputs": [],
   "source": [
    "# OK!, so we have a first version of the data we will use to recommend vehicles\n",
    "# df_motos_raw_coord_brand_types\n",
    "# Lets try to calculate the metric only with some fields. We are going to add these distances:\n",
    "# cities distance, brand_distance, type_distance, year_distance\n",
    "# We need to create some functions:\n",
    "\n",
    "def cities_distance(city_lat, city_lon, user_lat, user_lon):\n",
    "    \"\"\"    \n",
    "    :param city_lat: the value in the dataset's lat column to the corresponding city\n",
    "    :param city_lon: the value in the dataset's lon column to the corresponding city\n",
    "    :param user_lat: The corresponding lat value in the location dataset of the city selected by the user\n",
    "    :param user_lon: The corresponding lon value in the location dataset of the city selected by the user\n",
    "    \n",
    "    :return: The value in kilometers of the distance between the two cities.\n",
    "    \n",
    "    Usage of the Vicenty distance\n",
    "    \"\"\"\n",
    "    \n",
    "    from geopy.distance import vincenty\n",
    "    \n",
    "    column_city = (city_lat, city_lon)\n",
    "    user_city = (user_lat, user_lon)\n",
    "    \n",
    "    return (vincenty(column_city, user_city).km)\n",
    "\n",
    "def distance_abs_value(a_value, b_value):\n",
    "    return abs(a_value - b_value)\n",
    "\n",
    "def w_s(city_row, brand_row, type_row, year_row):\n",
    "    import numpy as np\n",
    "    weigth = 100\n",
    "    brand_weight = 40\n",
    "    type_weight = 40\n",
    "    year_weight = 10\n",
    "    city_weight = 10\n",
    "    \n",
    "    params = np.array([city_row, brand_row, type_row, year_row])\n",
    "    weights = np.array([city_weight, brand_weight, type_weight, year_weight])\n",
    "    \n",
    "    num = sum(params * weights) * 1.0\n",
    "    return num/weigth"
   ]
  },
  {
   "cell_type": "code",
   "execution_count": null,
   "metadata": {
    "collapsed": true
   },
   "outputs": [],
   "source": [
    "#Example of request of a user\n",
    "user_request = ('leon', 'bmw', 'custom', 2000)\n",
    "\n",
    "# We need to calculate some variables:\n",
    "user_lat = float(df_locations[df_locations['city'] == user_request[0]].lat)\n",
    "user_lon = float(df_locations[df_locations['city'] == user_request[0]].lon)\n",
    "user_brand = int(df_rank_moto_brand[df_rank_moto_brand['brand'] == user_request[1]].brand_score)\n",
    "user_type = int(df_rank_moto_type[df_rank_moto_type['type'] == user_request[2]].type_score)\n",
    "user_year = user_request[3]\n",
    "\n",
    "user_vars = [user_brand, user_type, user_year]\n",
    "score_columns = ['brand_score', 'type_score', 'year']"
   ]
  },
  {
   "cell_type": "code",
   "execution_count": null,
   "metadata": {
    "collapsed": true,
    "scrolled": true
   },
   "outputs": [],
   "source": [
    "df_motos_raw_coord_brand_types['city_metric'] = df_motos_raw_coord_brand_types.apply(lambda row: cities_distance(row['lat'], row['lon'], user_lat, user_lon), axis=1)\n",
    "\n",
    "for i, element in enumerate(['brand', 'type', 'year']):\n",
    "    new_column = element + '_metric'\n",
    "    print new_column, score_columns[i], user_vars[i]\n",
    "    df_motos_raw_coord_brand_types[new_column] = df_motos_raw_coord_brand_types.apply(lambda row: distance_abs_value(int(row[score_columns[i]]), user_vars[i]), axis=1)\n",
    "    \n",
    "#!!! Revisar ranking de motos, falta alguna, por eso aparenden NAN en la columna brand_score al hacer el merge\n",
    "\n",
    "df_motos_raw_coord_brand_types['total_metric_pond'] = df_motos_raw_coord_brand_types.apply(lambda row: w_s(row['city_metric'], row['brand_metric'], row['type_metric'], row['year_metric']), axis = 1)"
   ]
  },
  {
   "cell_type": "code",
   "execution_count": null,
   "metadata": {
    "collapsed": true
   },
   "outputs": [],
   "source": [
    "results = df_motos_raw_coord_brand_types.sort_values(by = ['total_metric_pond'], ascending=True)"
   ]
  },
  {
   "cell_type": "code",
   "execution_count": null,
   "metadata": {
    "collapsed": true
   },
   "outputs": [],
   "source": [
    "results.head(5)"
   ]
  },
  {
   "cell_type": "code",
   "execution_count": null,
   "metadata": {
    "collapsed": true
   },
   "outputs": [],
   "source": []
  },
  {
   "cell_type": "code",
   "execution_count": null,
   "metadata": {
    "collapsed": true
   },
   "outputs": [],
   "source": []
  },
  {
   "cell_type": "code",
   "execution_count": null,
   "metadata": {
    "collapsed": true
   },
   "outputs": [],
   "source": [
    "brand_null = df_motos_raw_coord_brand_types[df_motos_raw_coord_brand_types['brand_score'].isnull()]"
   ]
  },
  {
   "cell_type": "code",
   "execution_count": null,
   "metadata": {
    "collapsed": true
   },
   "outputs": [],
   "source": []
  },
  {
   "cell_type": "code",
   "execution_count": null,
   "metadata": {
    "collapsed": true
   },
   "outputs": [],
   "source": [
    "for element in brand_null.brand.unique():\n",
    "    print element"
   ]
  },
  {
   "cell_type": "code",
   "execution_count": null,
   "metadata": {
    "collapsed": true
   },
   "outputs": [],
   "source": [
    "import numpy as np\n",
    "\n",
    "params = np.array([2, 4, 10, 2])\n",
    "weights = np.array([10, 40, 40, 10])\n"
   ]
  },
  {
   "cell_type": "code",
   "execution_count": null,
   "metadata": {
    "collapsed": true
   },
   "outputs": [],
   "source": [
    "sum(params * weights)"
   ]
  },
  {
   "cell_type": "code",
   "execution_count": null,
   "metadata": {
    "collapsed": true
   },
   "outputs": [],
   "source": []
  }
 ],
 "metadata": {
  "anaconda-cloud": {},
  "kernelspec": {
   "display_name": "Python 2",
   "language": "python",
   "name": "python2"
  },
  "language_info": {
   "codemirror_mode": {
    "name": "ipython",
    "version": 2
   },
   "file_extension": ".py",
   "mimetype": "text/x-python",
   "name": "python",
   "nbconvert_exporter": "python",
   "pygments_lexer": "ipython2",
   "version": "2.7.13"
  }
 },
 "nbformat": 4,
 "nbformat_minor": 1
}
