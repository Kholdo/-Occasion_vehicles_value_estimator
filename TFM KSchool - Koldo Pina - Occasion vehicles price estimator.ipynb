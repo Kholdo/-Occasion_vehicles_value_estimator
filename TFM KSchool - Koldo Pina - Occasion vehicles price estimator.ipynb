{
 "cells": [
  {
   "cell_type": "markdown",
   "metadata": {
    "collapsed": true
   },
   "source": [
    "# FINAL PROJECT - OCCASION VEHICLES PRICE ESTIMATOR\n",
    "___\n",
    "#### MASTER IN DATA SCIENCE - KSCHOOL - 2016/17\n",
    "#### KOLDO PINA ORTIZ\n",
    "____"
   ]
  },
  {
   "cell_type": "markdown",
   "metadata": {
    "collapsed": true
   },
   "source": [
    "## Motivation"
   ]
  },
  {
   "cell_type": "markdown",
   "metadata": {
    "collapsed": true
   },
   "source": [
    "The aim of the present work is to get a good estimator of the price of a second-hand vehicle, based on the prices of the second-hand market"
   ]
  },
  {
   "cell_type": "markdown",
   "metadata": {
    "collapsed": true
   },
   "source": [
    "## Action Plan"
   ]
  },
  {
   "cell_type": "markdown",
   "metadata": {
    "collapsed": false
   },
   "source": [
    "To reach our goal, we will follow the the next steps:\n",
    "\n",
    "1. ***Scrape*** website, **motos.net** to obtain the ***data***.\n",
    "2. ***Clean*** the ***data***.\n",
    "2. ***Merge*** some ***data***.\n",
    "3. ***Train*** various models.\n",
    "4. Compare the metrics and choose the model with the best one.\n",
    "5. Create a flask web server with the app."
   ]
  },
  {
   "cell_type": "markdown",
   "metadata": {
    "collapsed": true
   },
   "source": [
    "## Scrape"
   ]
  },
  {
   "cell_type": "markdown",
   "metadata": {},
   "source": [
    "We are going to scrape each website separately.\n",
    "To this end, we have developed two python scripts called ***scraper_motos.py*** and ***scrapers_coches.py***.\n",
    "Both return a dataframe.\n",
    "\n",
    "You can import them to the notebook."
   ]
  },
  {
   "cell_type": "code",
   "execution_count": 5,
   "metadata": {
    "collapsed": false
   },
   "outputs": [],
   "source": [
    "#Call the scraper_motos function to scrape motos.net and create a csv file with the raw data\n",
    "#from scraper_motos import scraper_motos\n",
    "#scraper_motos().to_csv('motos_raw_data.csv', index = False, header = True, encoding = 'utf-8')"
   ]
  },
  {
   "cell_type": "code",
   "execution_count": null,
   "metadata": {
    "collapsed": true
   },
   "outputs": [],
   "source": [
    "#Start time: 2017-05-14 20:41:19.733669\n",
    "#num_ads 26161\n",
    "#End time: 2017-05-14 23:58:13.605710"
   ]
  },
  {
   "cell_type": "code",
   "execution_count": 2,
   "metadata": {
    "collapsed": false
   },
   "outputs": [],
   "source": [
    "#from scraper_coches import Scraper_coches\n",
    "#Scraper_coches().to_csv('coches_raw_data.csv', index = False, header = True, encoding = 'utf-8')"
   ]
  },
  {
   "cell_type": "code",
   "execution_count": null,
   "metadata": {
    "collapsed": false
   },
   "outputs": [],
   "source": [
    "#Start time: 2017-05-03 19:44:43.260000s\n",
    "#num_pages 5365\n",
    "#End time: 2017-05-04 12:12:29.699000"
   ]
  },
  {
   "cell_type": "code",
   "execution_count": 1,
   "metadata": {
    "collapsed": false
   },
   "outputs": [
    {
     "data": {
      "text/plain": [
       "(26081, 10)"
      ]
     },
     "execution_count": 1,
     "metadata": {},
     "output_type": "execute_result"
    }
   ],
   "source": [
    "import pandas as pd\n",
    "df_motos_raw = pd.read_csv('motos_raw_data.csv')\n",
    "df_motos_raw.shape"
   ]
  },
  {
   "cell_type": "code",
   "execution_count": 2,
   "metadata": {
    "collapsed": false
   },
   "outputs": [
    {
     "data": {
      "text/html": [
       "<div>\n",
       "<table border=\"1\" class=\"dataframe\">\n",
       "  <thead>\n",
       "    <tr style=\"text-align: right;\">\n",
       "      <th></th>\n",
       "      <th>city</th>\n",
       "      <th>brand</th>\n",
       "      <th>model</th>\n",
       "      <th>type</th>\n",
       "      <th>cc</th>\n",
       "      <th>color</th>\n",
       "      <th>km</th>\n",
       "      <th>year</th>\n",
       "      <th>price</th>\n",
       "      <th>url</th>\n",
       "    </tr>\n",
       "  </thead>\n",
       "  <tbody>\n",
       "    <tr>\n",
       "      <th>0</th>\n",
       "      <td>Granada</td>\n",
       "      <td>TRIUMPH</td>\n",
       "      <td>SPEED TRIPLE</td>\n",
       "      <td>Naked</td>\n",
       "      <td>1050.0</td>\n",
       "      <td>Amarillo</td>\n",
       "      <td>32000.0</td>\n",
       "      <td>2006</td>\n",
       "      <td>4500</td>\n",
       "      <td>http://motos.net/ocasion/triumph/speed_triple/...</td>\n",
       "    </tr>\n",
       "    <tr>\n",
       "      <th>1</th>\n",
       "      <td>Vizcaya</td>\n",
       "      <td>BMW</td>\n",
       "      <td>R 1200 GS 98cv</td>\n",
       "      <td>Trail</td>\n",
       "      <td>1170.0</td>\n",
       "      <td>Blanco</td>\n",
       "      <td>74200.0</td>\n",
       "      <td>2007</td>\n",
       "      <td>8500</td>\n",
       "      <td>http://motos.net/ocasion/bmw/r_1200_gs_98cv/20...</td>\n",
       "    </tr>\n",
       "    <tr>\n",
       "      <th>2</th>\n",
       "      <td>Asturias</td>\n",
       "      <td>BMW</td>\n",
       "      <td>R 1200 GS</td>\n",
       "      <td>Trail</td>\n",
       "      <td>1170.0</td>\n",
       "      <td>Rojo</td>\n",
       "      <td>79000.0</td>\n",
       "      <td>2007</td>\n",
       "      <td>7500</td>\n",
       "      <td>http://motos.net/ocasion/bmw/r_1200_gs/2007-en...</td>\n",
       "    </tr>\n",
       "    <tr>\n",
       "      <th>3</th>\n",
       "      <td>Sevilla</td>\n",
       "      <td>HARLEY DAVIDSON</td>\n",
       "      <td>Sportster 883 XLH 53</td>\n",
       "      <td>Custom</td>\n",
       "      <td>883.0</td>\n",
       "      <td>Negro</td>\n",
       "      <td>22000.0</td>\n",
       "      <td>2003</td>\n",
       "      <td>3500</td>\n",
       "      <td>http://motos.net/ocasion/harley_davidson/sport...</td>\n",
       "    </tr>\n",
       "    <tr>\n",
       "      <th>4</th>\n",
       "      <td>Valencia</td>\n",
       "      <td>KYMCO</td>\n",
       "      <td>Super Dink 125i</td>\n",
       "      <td>Scooter 125cc</td>\n",
       "      <td>125.0</td>\n",
       "      <td>NaN</td>\n",
       "      <td>33000.0</td>\n",
       "      <td>2012</td>\n",
       "      <td>1950</td>\n",
       "      <td>http://motos.net/ocasion/kymco/super_dink_125i...</td>\n",
       "    </tr>\n",
       "  </tbody>\n",
       "</table>\n",
       "</div>"
      ],
      "text/plain": [
       "       city            brand                 model           type      cc  \\\n",
       "0   Granada          TRIUMPH          SPEED TRIPLE          Naked  1050.0   \n",
       "1   Vizcaya              BMW        R 1200 GS 98cv          Trail  1170.0   \n",
       "2  Asturias              BMW             R 1200 GS          Trail  1170.0   \n",
       "3   Sevilla  HARLEY DAVIDSON  Sportster 883 XLH 53         Custom   883.0   \n",
       "4  Valencia            KYMCO       Super Dink 125i  Scooter 125cc   125.0   \n",
       "\n",
       "      color       km  year  price  \\\n",
       "0  Amarillo  32000.0  2006   4500   \n",
       "1    Blanco  74200.0  2007   8500   \n",
       "2      Rojo  79000.0  2007   7500   \n",
       "3     Negro  22000.0  2003   3500   \n",
       "4       NaN  33000.0  2012   1950   \n",
       "\n",
       "                                                 url  \n",
       "0  http://motos.net/ocasion/triumph/speed_triple/...  \n",
       "1  http://motos.net/ocasion/bmw/r_1200_gs_98cv/20...  \n",
       "2  http://motos.net/ocasion/bmw/r_1200_gs/2007-en...  \n",
       "3  http://motos.net/ocasion/harley_davidson/sport...  \n",
       "4  http://motos.net/ocasion/kymco/super_dink_125i...  "
      ]
     },
     "execution_count": 2,
     "metadata": {},
     "output_type": "execute_result"
    }
   ],
   "source": [
    "df_motos_raw.head()"
   ]
  },
  {
   "cell_type": "markdown",
   "metadata": {
    "collapsed": true
   },
   "source": [
    "## Data cleaning"
   ]
  },
  {
   "cell_type": "code",
   "execution_count": 3,
   "metadata": {
    "collapsed": false
   },
   "outputs": [],
   "source": [
    "# Convert the dataframe to lower case\n",
    "df_motos_raw = df_motos_raw.apply(lambda x: x.astype(str).str.lower())"
   ]
  },
  {
   "cell_type": "code",
   "execution_count": 4,
   "metadata": {
    "collapsed": true
   },
   "outputs": [],
   "source": [
    "#Join the words in the 'model' and 'type' fields with an underscore\n",
    "df_motos_raw['model'] = df_motos_raw['model'].str.replace(' ', '_')\n",
    "df_motos_raw['type'] = df_motos_raw['type'].str.replace(' ', '_')"
   ]
  },
  {
   "cell_type": "code",
   "execution_count": 5,
   "metadata": {
    "collapsed": false
   },
   "outputs": [
    {
     "name": "stdout",
     "output_type": "stream",
     "text": [
      "61 duplicates\n"
     ]
    }
   ],
   "source": [
    "# Looking for duplicates\n",
    "df_motos_raw['is_duplicated'] = df_motos_raw.duplicated()\n",
    "duplicates = df_motos_raw['is_duplicated'].sum()\n",
    "print '%d duplicates' %duplicates"
   ]
  },
  {
   "cell_type": "code",
   "execution_count": 6,
   "metadata": {
    "collapsed": false
   },
   "outputs": [
    {
     "data": {
      "text/plain": [
       "(26020, 10)"
      ]
     },
     "execution_count": 6,
     "metadata": {},
     "output_type": "execute_result"
    }
   ],
   "source": [
    "# Removing duplicates and delete 'is_duplicated' column\n",
    "df_motos_raw = df_motos_raw.loc[df_motos_raw['is_duplicated']==False]\n",
    "df_motos_raw = df_motos_raw.drop('is_duplicated', 1)\n",
    "df_motos_raw.shape"
   ]
  },
  {
   "cell_type": "code",
   "execution_count": 7,
   "metadata": {
    "collapsed": false
   },
   "outputs": [
    {
     "name": "stdout",
     "output_type": "stream",
     "text": [
      "city 0 -- > 0.000000\n",
      "brand 0 -- > 0.000000\n",
      "model 0 -- > 0.000000\n",
      "type 0 -- > 0.000000\n",
      "cc 97 -- > 0.372790\n",
      "color 7094 -- > 27.263643\n",
      "km 1624 -- > 6.241353\n",
      "year 0 -- > 0.000000\n",
      "price 0 -- > 0.000000\n",
      "url 0 -- > 0.000000\n"
     ]
    }
   ],
   "source": [
    "# Lets investigate column by column the NaNs we have in the dataframe\n",
    "for column in df_motos_raw.columns:\n",
    "    n_nan = df_motos_raw[column]=='nan'\n",
    "    print column + \" %d -- > %f\" %(n_nan.sum(), (n_nan.sum()*1.0)/df_motos_raw.shape[0]*100)"
   ]
  },
  {
   "cell_type": "code",
   "execution_count": 8,
   "metadata": {
    "collapsed": false,
    "scrolled": true
   },
   "outputs": [
    {
     "name": "stdout",
     "output_type": "stream",
     "text": [
      "city --> 52 unique values\n",
      "brand --> 146 unique values\n",
      "model --> 2989 unique values\n",
      "type --> 15 unique values\n",
      "color --> 1932 unique values\n",
      "year --> 48 unique values\n"
     ]
    }
   ],
   "source": [
    "# Lets investigate the unique values we have in the columns\n",
    "for column in ['city', 'brand', 'model', 'type', 'color', 'year']:\n",
    "    column_uv = df_motos_raw[column].unique()\n",
    "    print column + \" --> \" + \"%d unique values\" %len(sorted(column_uv))"
   ]
  },
  {
   "cell_type": "markdown",
   "metadata": {},
   "source": [
    "## Merge some data"
   ]
  },
  {
   "cell_type": "code",
   "execution_count": 9,
   "metadata": {
    "collapsed": true
   },
   "outputs": [],
   "source": [
    "#In order to calculate our first metric, we will use the following columns:\n",
    "# \"lon\" and \"lat\" : These are the longitude and latitude of the corresponding city. We will add them later.\n",
    "# \"brand\", \"model\", \"type\", \"year\""
   ]
  },
  {
   "cell_type": "code",
   "execution_count": 10,
   "metadata": {
    "collapsed": true
   },
   "outputs": [],
   "source": [
    "# Calculating the longitude and latitude of the cities\n",
    "import geopy\n",
    "from geopy.geocoders import Nominatim\n",
    "geolocator = Nominatim()"
   ]
  },
  {
   "cell_type": "code",
   "execution_count": 11,
   "metadata": {
    "collapsed": false
   },
   "outputs": [],
   "source": [
    "cities = df_motos_raw['city'].unique()\n",
    "locations_rows = []\n",
    "for city in cities:\n",
    "    location = geolocator.geocode([city], timeout = 15)\n",
    "    locations_rows.append([city, location.latitude, location.longitude])\n",
    "#Save into a csv\n",
    "df_locations = pd.DataFrame(locations_rows, columns = ['city', 'lat', 'lon'])\n",
    "df_locations.to_csv('locations_coords.csv', index = False)"
   ]
  },
  {
   "cell_type": "code",
   "execution_count": 12,
   "metadata": {
    "collapsed": false
   },
   "outputs": [
    {
     "data": {
      "text/html": [
       "<div>\n",
       "<table border=\"1\" class=\"dataframe\">\n",
       "  <thead>\n",
       "    <tr style=\"text-align: right;\">\n",
       "      <th></th>\n",
       "      <th>city</th>\n",
       "      <th>lat</th>\n",
       "      <th>lon</th>\n",
       "    </tr>\n",
       "  </thead>\n",
       "  <tbody>\n",
       "    <tr>\n",
       "      <th>0</th>\n",
       "      <td>granada</td>\n",
       "      <td>37.183020</td>\n",
       "      <td>-3.602192</td>\n",
       "    </tr>\n",
       "    <tr>\n",
       "      <th>1</th>\n",
       "      <td>vizcaya</td>\n",
       "      <td>43.238264</td>\n",
       "      <td>-2.852207</td>\n",
       "    </tr>\n",
       "    <tr>\n",
       "      <th>2</th>\n",
       "      <td>asturias</td>\n",
       "      <td>43.271563</td>\n",
       "      <td>-5.853946</td>\n",
       "    </tr>\n",
       "  </tbody>\n",
       "</table>\n",
       "</div>"
      ],
      "text/plain": [
       "       city        lat       lon\n",
       "0   granada  37.183020 -3.602192\n",
       "1   vizcaya  43.238264 -2.852207\n",
       "2  asturias  43.271563 -5.853946"
      ]
     },
     "execution_count": 12,
     "metadata": {},
     "output_type": "execute_result"
    }
   ],
   "source": [
    "df_locations.head(3)"
   ]
  },
  {
   "cell_type": "code",
   "execution_count": 13,
   "metadata": {
    "collapsed": true
   },
   "outputs": [],
   "source": [
    "# Merge df_locations with df_motos_raw\n",
    "df_motos_raw_coord = pd.merge(df_motos_raw, df_locations, on = 'city')\n",
    "#Save into a csv\n",
    "df_motos_raw_coord.to_csv('df_motos_raw_coord.csv', index = False)"
   ]
  },
  {
   "cell_type": "code",
   "execution_count": 16,
   "metadata": {
    "collapsed": false
   },
   "outputs": [],
   "source": [
    "# We have created two csv files with a rank for the motos brands and types\n",
    "# called rank_motos_brands.csv and rank_motos_types.csv\n",
    "\n",
    "# With the first one, rank_motos_brands.csv, we are gint to create another  column, with a score to the corresponding brand\n",
    "df_rank_moto_brand = pd.read_csv('rank_moto_brands.csv', sep=';')\n",
    "df_motos_raw_coord_brand = pd.merge(df_motos_raw_coord, df_rank_moto_brand, on = 'brand', how = 'left')\n",
    "# Save into a csv\n",
    "df_motos_raw_coord_brand.to_csv('df_motos_coord_brand.csv', index = False)\n",
    "\n",
    "# With the second one, rank_moto_types.csv, we are going to create another column, with a score to the corresponding type\n",
    "df_rank_moto_type = pd.read_csv('rank_moto_types.csv', sep=';')\n",
    "df_motos_raw_coord_brand_types = pd.merge(df_motos_raw_coord_brand, df_rank_moto_type, on = 'type', how = 'left')\n",
    "#Save into a csv\n",
    "df_motos_raw_coord_brand_types.to_csv('df_motos_raw_coord_brand_type.csv', index = False)\n"
   ]
  },
  {
   "cell_type": "code",
   "execution_count": 18,
   "metadata": {
    "collapsed": false
   },
   "outputs": [
    {
     "data": {
      "text/html": [
       "<div>\n",
       "<table border=\"1\" class=\"dataframe\">\n",
       "  <thead>\n",
       "    <tr style=\"text-align: right;\">\n",
       "      <th></th>\n",
       "      <th>city</th>\n",
       "      <th>brand</th>\n",
       "      <th>model</th>\n",
       "      <th>type</th>\n",
       "      <th>cc</th>\n",
       "      <th>color</th>\n",
       "      <th>km</th>\n",
       "      <th>year</th>\n",
       "      <th>price</th>\n",
       "      <th>url</th>\n",
       "      <th>lat</th>\n",
       "      <th>lon</th>\n",
       "      <th>brand_score</th>\n",
       "      <th>type_score</th>\n",
       "    </tr>\n",
       "  </thead>\n",
       "  <tbody>\n",
       "    <tr>\n",
       "      <th>0</th>\n",
       "      <td>granada</td>\n",
       "      <td>triumph</td>\n",
       "      <td>speed_triple</td>\n",
       "      <td>naked</td>\n",
       "      <td>1050.0</td>\n",
       "      <td>amarillo</td>\n",
       "      <td>32000.0</td>\n",
       "      <td>2006</td>\n",
       "      <td>4500</td>\n",
       "      <td>http://motos.net/ocasion/triumph/speed_triple/...</td>\n",
       "      <td>37.18302</td>\n",
       "      <td>-3.602192</td>\n",
       "      <td>120.0</td>\n",
       "      <td>15.0</td>\n",
       "    </tr>\n",
       "    <tr>\n",
       "      <th>1</th>\n",
       "      <td>granada</td>\n",
       "      <td>triumph</td>\n",
       "      <td>tiger_800</td>\n",
       "      <td>trail</td>\n",
       "      <td>799.0</td>\n",
       "      <td>negro</td>\n",
       "      <td>39200.0</td>\n",
       "      <td>2011</td>\n",
       "      <td>6200</td>\n",
       "      <td>http://motos.net/ocasion/triumph/tiger_800/201...</td>\n",
       "      <td>37.18302</td>\n",
       "      <td>-3.602192</td>\n",
       "      <td>120.0</td>\n",
       "      <td>14.0</td>\n",
       "    </tr>\n",
       "    <tr>\n",
       "      <th>2</th>\n",
       "      <td>granada</td>\n",
       "      <td>kawasaki</td>\n",
       "      <td>vn_900_classic_special_edition</td>\n",
       "      <td>custom</td>\n",
       "      <td>903.0</td>\n",
       "      <td>negro</td>\n",
       "      <td>32000.0</td>\n",
       "      <td>2011</td>\n",
       "      <td>5000</td>\n",
       "      <td>http://motos.net/ocasion/kawasaki/vn_900_class...</td>\n",
       "      <td>37.18302</td>\n",
       "      <td>-3.602192</td>\n",
       "      <td>378.0</td>\n",
       "      <td>13.0</td>\n",
       "    </tr>\n",
       "  </tbody>\n",
       "</table>\n",
       "</div>"
      ],
      "text/plain": [
       "      city     brand                           model    type      cc  \\\n",
       "0  granada   triumph                    speed_triple   naked  1050.0   \n",
       "1  granada   triumph                       tiger_800   trail   799.0   \n",
       "2  granada  kawasaki  vn_900_classic_special_edition  custom   903.0   \n",
       "\n",
       "      color       km  year price  \\\n",
       "0  amarillo  32000.0  2006  4500   \n",
       "1     negro  39200.0  2011  6200   \n",
       "2     negro  32000.0  2011  5000   \n",
       "\n",
       "                                                 url       lat       lon  \\\n",
       "0  http://motos.net/ocasion/triumph/speed_triple/...  37.18302 -3.602192   \n",
       "1  http://motos.net/ocasion/triumph/tiger_800/201...  37.18302 -3.602192   \n",
       "2  http://motos.net/ocasion/kawasaki/vn_900_class...  37.18302 -3.602192   \n",
       "\n",
       "   brand_score  type_score  \n",
       "0        120.0        15.0  \n",
       "1        120.0        14.0  \n",
       "2        378.0        13.0  "
      ]
     },
     "execution_count": 18,
     "metadata": {},
     "output_type": "execute_result"
    }
   ],
   "source": [
    "df_motos_raw_coord_brand_types.head(3)"
   ]
  },
  {
   "cell_type": "code",
   "execution_count": 19,
   "metadata": {
    "collapsed": false
   },
   "outputs": [
    {
     "data": {
      "text/plain": [
       "(26020, 14)"
      ]
     },
     "execution_count": 19,
     "metadata": {},
     "output_type": "execute_result"
    }
   ],
   "source": [
    "df_motos_raw_coord_brand_types.shape"
   ]
  },
  {
   "cell_type": "code",
   "execution_count": null,
   "metadata": {
    "collapsed": true
   },
   "outputs": [],
   "source": []
  }
 ],
 "metadata": {
  "anaconda-cloud": {},
  "kernelspec": {
   "display_name": "Python 2",
   "language": "python",
   "name": "python2"
  },
  "language_info": {
   "codemirror_mode": {
    "name": "ipython",
    "version": 2
   },
   "file_extension": ".py",
   "mimetype": "text/x-python",
   "name": "python",
   "nbconvert_exporter": "python",
   "pygments_lexer": "ipython2",
   "version": "2.7.13"
  }
 },
 "nbformat": 4,
 "nbformat_minor": 0
}
