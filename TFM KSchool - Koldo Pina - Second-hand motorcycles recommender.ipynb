{
 "cells": [
  {
   "cell_type": "markdown",
   "metadata": {
    "collapsed": true
   },
   "source": [
    "# FINAL PROJECT - Second-hand motorcycles recommender\n",
    "___\n",
    "#### MASTER IN DATA SCIENCE - KSCHOOL - 2016/17\n",
    "#### KOLDO PINA ORTIZ\n",
    "____"
   ]
  },
  {
   "cell_type": "markdown",
   "metadata": {
    "collapsed": true
   },
   "source": [
    "## Motivation"
   ]
  },
  {
   "cell_type": "markdown",
   "metadata": {
    "collapsed": true
   },
   "source": [
    "The aim of the present work is to get a good recommender of a second-hand vehicle, based on the adds of a second-hand marketplace web site"
   ]
  },
  {
   "cell_type": "markdown",
   "metadata": {
    "collapsed": true
   },
   "source": [
    "## Action Plan"
   ]
  },
  {
   "cell_type": "markdown",
   "metadata": {},
   "source": [
    "To reach our goal, we will follow the the next steps:\n",
    "\n",
    "1. ***Scrape*** website, **motos.net** to obtain the ***data***.\n",
    "2. ***Clean*** the ***data***.\n",
    "2. ***Merge*** some ***data***.\n",
    "3. ***Train*** various models.\n",
    "4. Compare the metrics and choose the model with the best one.\n",
    "5. Create a flask web server with the app."
   ]
  },
  {
   "cell_type": "markdown",
   "metadata": {
    "collapsed": true
   },
   "source": [
    "## Scrape"
   ]
  },
  {
   "cell_type": "markdown",
   "metadata": {},
   "source": [
    "We are going to scrape each website separately.\n",
    "To this end, we have developed two python scripts called ***scraper_motos.py*** and ***scrapers_coches.py***.\n",
    "Both return a dataframe.\n",
    "\n",
    "You can import them to the notebook."
   ]
  },
  {
   "cell_type": "code",
   "execution_count": null,
   "metadata": {
    "collapsed": true
   },
   "outputs": [],
   "source": [
    "%pwd"
   ]
  },
  {
   "cell_type": "code",
   "execution_count": null,
   "metadata": {
    "collapsed": true
   },
   "outputs": [],
   "source": [
    "%cd scrapers"
   ]
  },
  {
   "cell_type": "code",
   "execution_count": null,
   "metadata": {
    "collapsed": true
   },
   "outputs": [],
   "source": [
    "#Call the scraper_motos function to scrape motos.net and create a csv file with the raw data in scraped_data folder\n",
    "#To do that we need to change our path\n",
    "# %cd scrapers\n",
    "# from scraper_motos import scraper_motos\n",
    "# scraper_motos()"
   ]
  },
  {
   "cell_type": "code",
   "execution_count": null,
   "metadata": {
    "collapsed": true
   },
   "outputs": [],
   "source": [
    "#Start time: 2017-06-13 19:28:56.441707\n",
    "#num_ads 26588\n",
    "#End time: 2017-06-13 22:47:15.427469"
   ]
  },
  {
   "cell_type": "code",
   "execution_count": 1,
   "metadata": {},
   "outputs": [
    {
     "data": {
      "text/plain": [
       "(26081, 10)"
      ]
     },
     "execution_count": 1,
     "metadata": {},
     "output_type": "execute_result"
    }
   ],
   "source": [
    "import pandas as pd\n",
    "df_motos_raw = pd.read_csv('scraped_data/test/motos_raw_data.csv')\n",
    "df_motos_raw.shape"
   ]
  },
  {
   "cell_type": "code",
   "execution_count": 2,
   "metadata": {},
   "outputs": [
    {
     "data": {
      "text/html": [
       "<div>\n",
       "<style>\n",
       "    .dataframe thead tr:only-child th {\n",
       "        text-align: right;\n",
       "    }\n",
       "\n",
       "    .dataframe thead th {\n",
       "        text-align: left;\n",
       "    }\n",
       "\n",
       "    .dataframe tbody tr th {\n",
       "        vertical-align: top;\n",
       "    }\n",
       "</style>\n",
       "<table border=\"1\" class=\"dataframe\">\n",
       "  <thead>\n",
       "    <tr style=\"text-align: right;\">\n",
       "      <th></th>\n",
       "      <th>city</th>\n",
       "      <th>brand</th>\n",
       "      <th>model</th>\n",
       "      <th>type</th>\n",
       "      <th>cc</th>\n",
       "      <th>color</th>\n",
       "      <th>km</th>\n",
       "      <th>year</th>\n",
       "      <th>price</th>\n",
       "      <th>url</th>\n",
       "    </tr>\n",
       "  </thead>\n",
       "  <tbody>\n",
       "    <tr>\n",
       "      <th>0</th>\n",
       "      <td>Granada</td>\n",
       "      <td>TRIUMPH</td>\n",
       "      <td>SPEED TRIPLE</td>\n",
       "      <td>Naked</td>\n",
       "      <td>1050.0</td>\n",
       "      <td>Amarillo</td>\n",
       "      <td>32000.0</td>\n",
       "      <td>2006</td>\n",
       "      <td>4500</td>\n",
       "      <td>http://motos.net/ocasion/triumph/speed_triple/...</td>\n",
       "    </tr>\n",
       "    <tr>\n",
       "      <th>1</th>\n",
       "      <td>Vizcaya</td>\n",
       "      <td>BMW</td>\n",
       "      <td>R 1200 GS 98cv</td>\n",
       "      <td>Trail</td>\n",
       "      <td>1170.0</td>\n",
       "      <td>Blanco</td>\n",
       "      <td>74200.0</td>\n",
       "      <td>2007</td>\n",
       "      <td>8500</td>\n",
       "      <td>http://motos.net/ocasion/bmw/r_1200_gs_98cv/20...</td>\n",
       "    </tr>\n",
       "    <tr>\n",
       "      <th>2</th>\n",
       "      <td>Asturias</td>\n",
       "      <td>BMW</td>\n",
       "      <td>R 1200 GS</td>\n",
       "      <td>Trail</td>\n",
       "      <td>1170.0</td>\n",
       "      <td>Rojo</td>\n",
       "      <td>79000.0</td>\n",
       "      <td>2007</td>\n",
       "      <td>7500</td>\n",
       "      <td>http://motos.net/ocasion/bmw/r_1200_gs/2007-en...</td>\n",
       "    </tr>\n",
       "    <tr>\n",
       "      <th>3</th>\n",
       "      <td>Sevilla</td>\n",
       "      <td>HARLEY DAVIDSON</td>\n",
       "      <td>Sportster 883 XLH 53</td>\n",
       "      <td>Custom</td>\n",
       "      <td>883.0</td>\n",
       "      <td>Negro</td>\n",
       "      <td>22000.0</td>\n",
       "      <td>2003</td>\n",
       "      <td>3500</td>\n",
       "      <td>http://motos.net/ocasion/harley_davidson/sport...</td>\n",
       "    </tr>\n",
       "    <tr>\n",
       "      <th>4</th>\n",
       "      <td>Valencia</td>\n",
       "      <td>KYMCO</td>\n",
       "      <td>Super Dink 125i</td>\n",
       "      <td>Scooter 125cc</td>\n",
       "      <td>125.0</td>\n",
       "      <td>NaN</td>\n",
       "      <td>33000.0</td>\n",
       "      <td>2012</td>\n",
       "      <td>1950</td>\n",
       "      <td>http://motos.net/ocasion/kymco/super_dink_125i...</td>\n",
       "    </tr>\n",
       "  </tbody>\n",
       "</table>\n",
       "</div>"
      ],
      "text/plain": [
       "<div>\n",
       "<style>\n",
       "    .dataframe thead tr:only-child th {\n",
       "        text-align: right;\n",
       "    }\n",
       "\n",
       "    .dataframe thead th {\n",
       "        text-align: left;\n",
       "    }\n",
       "\n",
       "    .dataframe tbody tr th {\n",
       "        vertical-align: top;\n",
       "    }\n",
       "</style>\n",
       "<table border=\"1\" class=\"dataframe\">\n",
       "  <thead>\n",
       "    <tr style=\"text-align: right;\">\n",
       "      <th></th>\n",
       "      <th>city</th>\n",
       "      <th>brand</th>\n",
       "      <th>model</th>\n",
       "      <th>type</th>\n",
       "      <th>cc</th>\n",
       "      <th>color</th>\n",
       "      <th>km</th>\n",
       "      <th>year</th>\n",
       "      <th>price</th>\n",
       "      <th>url</th>\n",
       "    </tr>\n",
       "  </thead>\n",
       "  <tbody>\n",
       "    <tr>\n",
       "      <th>0</th>\n",
       "      <td>Granada</td>\n",
       "      <td>TRIUMPH</td>\n",
       "      <td>SPEED TRIPLE</td>\n",
       "      <td>Naked</td>\n",
       "      <td>1050.0</td>\n",
       "      <td>Amarillo</td>\n",
       "      <td>32000.0</td>\n",
       "      <td>2006</td>\n",
       "      <td>4500</td>\n",
       "      <td>http://motos.net/ocasion/triumph/speed_triple/...</td>\n",
       "    </tr>\n",
       "    <tr>\n",
       "      <th>1</th>\n",
       "      <td>Vizcaya</td>\n",
       "      <td>BMW</td>\n",
       "      <td>R 1200 GS 98cv</td>\n",
       "      <td>Trail</td>\n",
       "      <td>1170.0</td>\n",
       "      <td>Blanco</td>\n",
       "      <td>74200.0</td>\n",
       "      <td>2007</td>\n",
       "      <td>8500</td>\n",
       "      <td>http://motos.net/ocasion/bmw/r_1200_gs_98cv/20...</td>\n",
       "    </tr>\n",
       "    <tr>\n",
       "      <th>2</th>\n",
       "      <td>Asturias</td>\n",
       "      <td>BMW</td>\n",
       "      <td>R 1200 GS</td>\n",
       "      <td>Trail</td>\n",
       "      <td>1170.0</td>\n",
       "      <td>Rojo</td>\n",
       "      <td>79000.0</td>\n",
       "      <td>2007</td>\n",
       "      <td>7500</td>\n",
       "      <td>http://motos.net/ocasion/bmw/r_1200_gs/2007-en...</td>\n",
       "    </tr>\n",
       "    <tr>\n",
       "      <th>3</th>\n",
       "      <td>Sevilla</td>\n",
       "      <td>HARLEY DAVIDSON</td>\n",
       "      <td>Sportster 883 XLH 53</td>\n",
       "      <td>Custom</td>\n",
       "      <td>883.0</td>\n",
       "      <td>Negro</td>\n",
       "      <td>22000.0</td>\n",
       "      <td>2003</td>\n",
       "      <td>3500</td>\n",
       "      <td>http://motos.net/ocasion/harley_davidson/sport...</td>\n",
       "    </tr>\n",
       "    <tr>\n",
       "      <th>4</th>\n",
       "      <td>Valencia</td>\n",
       "      <td>KYMCO</td>\n",
       "      <td>Super Dink 125i</td>\n",
       "      <td>Scooter 125cc</td>\n",
       "      <td>125.0</td>\n",
       "      <td>NaN</td>\n",
       "      <td>33000.0</td>\n",
       "      <td>2012</td>\n",
       "      <td>1950</td>\n",
       "      <td>http://motos.net/ocasion/kymco/super_dink_125i...</td>\n",
       "    </tr>\n",
       "  </tbody>\n",
       "</table>\n",
       "</div>"
      ]
     },
     "execution_count": 2,
     "metadata": {},
     "output_type": "execute_result"
    }
   ],
   "source": [
    "df_motos_raw.head()"
   ]
  },
  {
   "cell_type": "markdown",
   "metadata": {
    "collapsed": true
   },
   "source": [
    "## Data cleaning"
   ]
  },
  {
   "cell_type": "code",
   "execution_count": 3,
   "metadata": {
    "collapsed": true
   },
   "outputs": [],
   "source": [
    "df_motos_raw['color'].fillna('not specified', inplace=True)"
   ]
  },
  {
   "cell_type": "code",
   "execution_count": 4,
   "metadata": {
    "collapsed": true
   },
   "outputs": [],
   "source": [
    "# Convert the dataframe to lower case\n",
    "df_motos_raw = df_motos_raw.apply(lambda x: x.astype(str).str.lower())"
   ]
  },
  {
   "cell_type": "code",
   "execution_count": 5,
   "metadata": {
    "collapsed": true
   },
   "outputs": [],
   "source": [
    "#Join the words in the 'model' and 'type' fields with an underscorekoldo\n",
    "df_motos_raw['model'] = df_motos_raw['model'].str.replace(' ', '_')\n",
    "df_motos_raw['type'] = df_motos_raw['type'].str.replace(' ', '_')"
   ]
  },
  {
   "cell_type": "code",
   "execution_count": 6,
   "metadata": {},
   "outputs": [
    {
     "name": "stdout",
     "output_type": "stream",
     "text": [
      "61 duplicates\n"
     ]
    }
   ],
   "source": [
    "# Looking for duplicates\n",
    "df_motos_raw['is_duplicated'] = df_motos_raw.duplicated()\n",
    "duplicates = df_motos_raw['is_duplicated'].sum()\n",
    "print '%d duplicates' %duplicates"
   ]
  },
  {
   "cell_type": "code",
   "execution_count": 7,
   "metadata": {},
   "outputs": [
    {
     "data": {
      "text/plain": [
       "(26020, 10)"
      ]
     },
     "execution_count": 7,
     "metadata": {},
     "output_type": "execute_result"
    }
   ],
   "source": [
    "# Removing duplicates and delete 'is_duplicated' column\n",
    "df_motos_raw = df_motos_raw.loc[df_motos_raw['is_duplicated']==False]\n",
    "df_motos_raw = df_motos_raw.drop('is_duplicated', 1)\n",
    "df_motos_raw.shape"
   ]
  },
  {
   "cell_type": "code",
   "execution_count": 8,
   "metadata": {},
   "outputs": [
    {
     "name": "stdout",
     "output_type": "stream",
     "text": [
      "city 0 -- > 0.000000\nbrand 0 -- > 0.000000\nmodel 0 -- > 0.000000\ntype 0 -- > 0.000000\ncc 97 -- > 0.372790\ncolor 0 -- > 0.000000\nkm 1624 -- > 6.241353\nyear 0 -- > 0.000000\nprice 0 -- > 0.000000\nurl 0 -- > 0.000000\n"
     ]
    }
   ],
   "source": [
    "# Lets investigate column by column the NaNs we have in the dataframe\n",
    "for column in df_motos_raw.columns:\n",
    "    n_nan = df_motos_raw[column]=='nan'\n",
    "    print column + \" %d -- > %f\" %(n_nan.sum(), (n_nan.sum()*1.0)/df_motos_raw.shape[0]*100)"
   ]
  },
  {
   "cell_type": "code",
   "execution_count": 9,
   "metadata": {
    "scrolled": true
   },
   "outputs": [
    {
     "name": "stdout",
     "output_type": "stream",
     "text": [
      "city --> 52 unique values\nbrand --> 146 unique values\nmodel --> 2989 unique values\ntype --> 15 unique values\ncolor --> 1932 unique values\nyear --> 48 unique values\n"
     ]
    }
   ],
   "source": [
    "# Lets investigate the unique values we have in the columns\n",
    "for column in ['city', 'brand', 'model', 'type', 'color', 'year']:\n",
    "    column_uv = df_motos_raw[column].unique()\n",
    "    print column + \" --> \" + \"%d unique values\" %len(sorted(column_uv))"
   ]
  },
  {
   "cell_type": "markdown",
   "metadata": {},
   "source": [
    "## Merge some data"
   ]
  },
  {
   "cell_type": "code",
   "execution_count": 10,
   "metadata": {
    "collapsed": true
   },
   "outputs": [],
   "source": [
    "#In order to calculate our first metric, we will use the following columns:\n",
    "# \"lon\" and \"lat\" : These are the longitude and latitude of the corresponding city. We will add them later.\n",
    "# \"brand\", \"model\", \"type\", \"year\""
   ]
  },
  {
   "cell_type": "code",
   "execution_count": 11,
   "metadata": {
    "collapsed": true
   },
   "outputs": [],
   "source": [
    "# Calculating the longitude and latitude of the cities\n",
    "import geopy\n",
    "from geopy.geocoders import Nominatim\n",
    "geolocator = Nominatim()"
   ]
  },
  {
   "cell_type": "code",
   "execution_count": 12,
   "metadata": {
    "collapsed": true
   },
   "outputs": [],
   "source": [
    "cities = df_motos_raw['city'].unique()\n",
    "locations_rows = []\n",
    "for city in cities:\n",
    "    location = geolocator.geocode([city], timeout = 15)\n",
    "    locations_rows.append([city, location.latitude, location.longitude])\n",
    "#Save into a csv\n",
    "df_locations = pd.DataFrame(locations_rows, columns = ['city', 'lat', 'lon'])\n",
    "df_locations.to_csv('auxiliary_data/locations_coords.csv', index = False)"
   ]
  },
  {
   "cell_type": "code",
   "execution_count": 13,
   "metadata": {},
   "outputs": [
    {
     "data": {
      "text/html": [
       "<div>\n",
       "<style>\n",
       "    .dataframe thead tr:only-child th {\n",
       "        text-align: right;\n",
       "    }\n",
       "\n",
       "    .dataframe thead th {\n",
       "        text-align: left;\n",
       "    }\n",
       "\n",
       "    .dataframe tbody tr th {\n",
       "        vertical-align: top;\n",
       "    }\n",
       "</style>\n",
       "<table border=\"1\" class=\"dataframe\">\n",
       "  <thead>\n",
       "    <tr style=\"text-align: right;\">\n",
       "      <th></th>\n",
       "      <th>city</th>\n",
       "      <th>lat</th>\n",
       "      <th>lon</th>\n",
       "    </tr>\n",
       "  </thead>\n",
       "  <tbody>\n",
       "    <tr>\n",
       "      <th>0</th>\n",
       "      <td>granada</td>\n",
       "      <td>37.183020</td>\n",
       "      <td>-3.602192</td>\n",
       "    </tr>\n",
       "    <tr>\n",
       "      <th>1</th>\n",
       "      <td>vizcaya</td>\n",
       "      <td>43.238264</td>\n",
       "      <td>-2.852208</td>\n",
       "    </tr>\n",
       "    <tr>\n",
       "      <th>2</th>\n",
       "      <td>asturias</td>\n",
       "      <td>43.271563</td>\n",
       "      <td>-5.853947</td>\n",
       "    </tr>\n",
       "  </tbody>\n",
       "</table>\n",
       "</div>"
      ],
      "text/plain": [
       "<div>\n",
       "<style>\n",
       "    .dataframe thead tr:only-child th {\n",
       "        text-align: right;\n",
       "    }\n",
       "\n",
       "    .dataframe thead th {\n",
       "        text-align: left;\n",
       "    }\n",
       "\n",
       "    .dataframe tbody tr th {\n",
       "        vertical-align: top;\n",
       "    }\n",
       "</style>\n",
       "<table border=\"1\" class=\"dataframe\">\n",
       "  <thead>\n",
       "    <tr style=\"text-align: right;\">\n",
       "      <th></th>\n",
       "      <th>city</th>\n",
       "      <th>lat</th>\n",
       "      <th>lon</th>\n",
       "    </tr>\n",
       "  </thead>\n",
       "  <tbody>\n",
       "    <tr>\n",
       "      <th>0</th>\n",
       "      <td>granada</td>\n",
       "      <td>37.183020</td>\n",
       "      <td>-3.602192</td>\n",
       "    </tr>\n",
       "    <tr>\n",
       "      <th>1</th>\n",
       "      <td>vizcaya</td>\n",
       "      <td>43.238264</td>\n",
       "      <td>-2.852208</td>\n",
       "    </tr>\n",
       "    <tr>\n",
       "      <th>2</th>\n",
       "      <td>asturias</td>\n",
       "      <td>43.271563</td>\n",
       "      <td>-5.853947</td>\n",
       "    </tr>\n",
       "  </tbody>\n",
       "</table>\n",
       "</div>"
      ]
     },
     "execution_count": 13,
     "metadata": {},
     "output_type": "execute_result"
    }
   ],
   "source": [
    "df_locations.head(3)"
   ]
  },
  {
   "cell_type": "code",
   "execution_count": 14,
   "metadata": {
    "collapsed": true
   },
   "outputs": [],
   "source": [
    "# Merge df_locations with df_motos_raw\n",
    "df_motos_raw_coord = pd.merge(df_motos_raw, df_locations, on = 'city')\n",
    "#Save into a csv\n",
    "df_motos_raw_coord.to_csv('df_motos_raw_coord.csv', index = False)"
   ]
  },
  {
   "cell_type": "code",
   "execution_count": 16,
   "metadata": {
    "collapsed": true
   },
   "outputs": [],
   "source": [
    "#We have scraped a web to obtain a simple brand rank. \n",
    "#We have it in the fodler named scraped_data and is called rank_moto_brands.csv\n",
    "#Nevertheless, not all the brands in the adds appear in it. So, first of all, we are going to add the ones that are missing.\n",
    "brands_in_df_list = df_motos_raw_coord.brand.unique()\n",
    "df_rank_moto_brand = pd.read_csv('scraped_data/rank_moto_brands.csv', sep=';')\n",
    "rank_values = df_rank_moto_brand.values.tolist()\n",
    "brands_rank_values =  df_rank_moto_brand.brand.values\n",
    "for df_brand in brands_in_df_list:\n",
    "    if df_brand not in brands_rank_values:\n",
    "        rank_values.append([df_brand,0])\n",
    "df = pd.DataFrame(rank_values, columns=['brand', 'brand_score'])\n",
    "df.to_csv('auxiliary_data/rank_moto_brands.csv',  sep = ';', index=False)"
   ]
  },
  {
   "cell_type": "code",
   "execution_count": 18,
   "metadata": {
    "collapsed": true
   },
   "outputs": [],
   "source": [
    "# We have created two csv files with a rank for the motos brands and types\n",
    "# called rank_motos_brands.csv and rank_motos_types.csv\n",
    "\n",
    "# With the first one, rank_motos_brands.csv, we are gint to create another  column, with a score to the corresponding brand\n",
    "df_rank_moto_brand = pd.read_csv('auxiliary_data/rank_moto_brands.csv', sep=';')\n",
    "df_motos_raw_coord_brand = pd.merge(df_motos_raw_coord, df_rank_moto_brand, on = 'brand', how = 'left')\n",
    "df_motos_raw_coord_brand.brand_score.fillna(0, inplace=True)\n",
    "# Save into a csv\n",
    "df_motos_raw_coord_brand.to_csv('df_motos_coord_brand.csv', index = False)\n",
    "\n",
    "# With the second one, rank_moto_types.csv, we are going to create another column, with a score to the corresponding type\n",
    "df_rank_moto_type = pd.read_csv('auxiliary_data/rank_moto_types.csv', sep=';')\n",
    "df_motos_raw_coord_brand_types = pd.merge(df_motos_raw_coord_brand, df_rank_moto_type, on = 'type', how = 'left')\n",
    "#Save into a csv\n",
    "df_motos_raw_coord_brand_types.to_csv('df_motos_raw_coord_brand_type.csv', index = False)"
   ]
  },
  {
   "cell_type": "code",
   "execution_count": 19,
   "metadata": {
    "collapsed": true
   },
   "outputs": [
    {
     "data": {
      "text/html": [
       "<div>\n",
       "<style>\n",
       "    .dataframe thead tr:only-child th {\n",
       "        text-align: right;\n",
       "    }\n",
       "\n",
       "    .dataframe thead th {\n",
       "        text-align: left;\n",
       "    }\n",
       "\n",
       "    .dataframe tbody tr th {\n",
       "        vertical-align: top;\n",
       "    }\n",
       "</style>\n",
       "<table border=\"1\" class=\"dataframe\">\n",
       "  <thead>\n",
       "    <tr style=\"text-align: right;\">\n",
       "      <th></th>\n",
       "      <th>city</th>\n",
       "      <th>brand</th>\n",
       "      <th>model</th>\n",
       "      <th>type</th>\n",
       "      <th>cc</th>\n",
       "      <th>color</th>\n",
       "      <th>km</th>\n",
       "      <th>year</th>\n",
       "      <th>price</th>\n",
       "      <th>url</th>\n",
       "      <th>lat</th>\n",
       "      <th>lon</th>\n",
       "      <th>brand_score</th>\n",
       "      <th>type_score</th>\n",
       "    </tr>\n",
       "  </thead>\n",
       "  <tbody>\n",
       "    <tr>\n",
       "      <th>0</th>\n",
       "      <td>granada</td>\n",
       "      <td>triumph</td>\n",
       "      <td>speed_triple</td>\n",
       "      <td>naked</td>\n",
       "      <td>1050.0</td>\n",
       "      <td>amarillo</td>\n",
       "      <td>32000.0</td>\n",
       "      <td>2006</td>\n",
       "      <td>4500</td>\n",
       "      <td>http://motos.net/ocasion/triumph/speed_triple/...</td>\n",
       "      <td>37.18302</td>\n",
       "      <td>-3.602192</td>\n",
       "      <td>120</td>\n",
       "      <td>260</td>\n",
       "    </tr>\n",
       "    <tr>\n",
       "      <th>1</th>\n",
       "      <td>granada</td>\n",
       "      <td>triumph</td>\n",
       "      <td>tiger_800</td>\n",
       "      <td>trail</td>\n",
       "      <td>799.0</td>\n",
       "      <td>negro</td>\n",
       "      <td>39200.0</td>\n",
       "      <td>2011</td>\n",
       "      <td>6200</td>\n",
       "      <td>http://motos.net/ocasion/triumph/tiger_800/201...</td>\n",
       "      <td>37.18302</td>\n",
       "      <td>-3.602192</td>\n",
       "      <td>120</td>\n",
       "      <td>230</td>\n",
       "    </tr>\n",
       "    <tr>\n",
       "      <th>2</th>\n",
       "      <td>granada</td>\n",
       "      <td>kawasaki</td>\n",
       "      <td>vn_900_classic_special_edition</td>\n",
       "      <td>custom</td>\n",
       "      <td>903.0</td>\n",
       "      <td>negro</td>\n",
       "      <td>32000.0</td>\n",
       "      <td>2011</td>\n",
       "      <td>5000</td>\n",
       "      <td>http://motos.net/ocasion/kawasaki/vn_900_class...</td>\n",
       "      <td>37.18302</td>\n",
       "      <td>-3.602192</td>\n",
       "      <td>378</td>\n",
       "      <td>280</td>\n",
       "    </tr>\n",
       "  </tbody>\n",
       "</table>\n",
       "</div>"
      ],
      "text/plain": [
       "<div>\n",
       "<style>\n",
       "    .dataframe thead tr:only-child th {\n",
       "        text-align: right;\n",
       "    }\n",
       "\n",
       "    .dataframe thead th {\n",
       "        text-align: left;\n",
       "    }\n",
       "\n",
       "    .dataframe tbody tr th {\n",
       "        vertical-align: top;\n",
       "    }\n",
       "</style>\n",
       "<table border=\"1\" class=\"dataframe\">\n",
       "  <thead>\n",
       "    <tr style=\"text-align: right;\">\n",
       "      <th></th>\n",
       "      <th>city</th>\n",
       "      <th>brand</th>\n",
       "      <th>model</th>\n",
       "      <th>type</th>\n",
       "      <th>cc</th>\n",
       "      <th>color</th>\n",
       "      <th>km</th>\n",
       "      <th>year</th>\n",
       "      <th>price</th>\n",
       "      <th>url</th>\n",
       "      <th>lat</th>\n",
       "      <th>lon</th>\n",
       "      <th>brand_score</th>\n",
       "      <th>type_score</th>\n",
       "    </tr>\n",
       "  </thead>\n",
       "  <tbody>\n",
       "    <tr>\n",
       "      <th>0</th>\n",
       "      <td>granada</td>\n",
       "      <td>triumph</td>\n",
       "      <td>speed_triple</td>\n",
       "      <td>naked</td>\n",
       "      <td>1050.0</td>\n",
       "      <td>amarillo</td>\n",
       "      <td>32000.0</td>\n",
       "      <td>2006</td>\n",
       "      <td>4500</td>\n",
       "      <td>http://motos.net/ocasion/triumph/speed_triple/...</td>\n",
       "      <td>37.18302</td>\n",
       "      <td>-3.602192</td>\n",
       "      <td>120</td>\n",
       "      <td>260</td>\n",
       "    </tr>\n",
       "    <tr>\n",
       "      <th>1</th>\n",
       "      <td>granada</td>\n",
       "      <td>triumph</td>\n",
       "      <td>tiger_800</td>\n",
       "      <td>trail</td>\n",
       "      <td>799.0</td>\n",
       "      <td>negro</td>\n",
       "      <td>39200.0</td>\n",
       "      <td>2011</td>\n",
       "      <td>6200</td>\n",
       "      <td>http://motos.net/ocasion/triumph/tiger_800/201...</td>\n",
       "      <td>37.18302</td>\n",
       "      <td>-3.602192</td>\n",
       "      <td>120</td>\n",
       "      <td>230</td>\n",
       "    </tr>\n",
       "    <tr>\n",
       "      <th>2</th>\n",
       "      <td>granada</td>\n",
       "      <td>kawasaki</td>\n",
       "      <td>vn_900_classic_special_edition</td>\n",
       "      <td>custom</td>\n",
       "      <td>903.0</td>\n",
       "      <td>negro</td>\n",
       "      <td>32000.0</td>\n",
       "      <td>2011</td>\n",
       "      <td>5000</td>\n",
       "      <td>http://motos.net/ocasion/kawasaki/vn_900_class...</td>\n",
       "      <td>37.18302</td>\n",
       "      <td>-3.602192</td>\n",
       "      <td>378</td>\n",
       "      <td>280</td>\n",
       "    </tr>\n",
       "  </tbody>\n",
       "</table>\n",
       "</div>"
      ]
     },
     "execution_count": 19,
     "metadata": {},
     "output_type": "execute_result"
    }
   ],
   "source": [
    "df_motos_raw_coord_brand_types.head(3)"
   ]
  },
  {
   "cell_type": "code",
   "execution_count": 20,
   "metadata": {
    "collapsed": true
   },
   "outputs": [
    {
     "data": {
      "text/plain": [
       "(26020, 14)"
      ]
     },
     "execution_count": 20,
     "metadata": {},
     "output_type": "execute_result"
    }
   ],
   "source": [
    "df_motos_raw_coord_brand_types.shape"
   ]
  },
  {
   "cell_type": "code",
   "execution_count": 21,
   "metadata": {
    "collapsed": true
   },
   "outputs": [],
   "source": [
    "# OK!, so we have a first version of the data we will use to recommend vehicles\n",
    "# df_motos_raw_coord_brand_types\n",
    "# Lets try to calculate the metric only with some fields. We are going to add these distances:\n",
    "# cities distance, brand_distance, type_distance, year_distance\n",
    "# We need to create some functions:\n",
    "\n",
    "def cities_distance(city_lat, city_lon, user_lat, user_lon):\n",
    "    \"\"\"    \n",
    "    :param city_lat: the value in the dataset's lat column to the corresponding city\n",
    "    :param city_lon: the value in the dataset's lon column to the corresponding city\n",
    "    :param user_lat: The corresponding lat value in the location dataset of the city selected by the user\n",
    "    :param user_lon: The corresponding lon value in the location dataset of the city selected by the user\n",
    "    \n",
    "    :return: The value in kilometers of the distance between the two cities.\n",
    "    \n",
    "    Usage of the Vicenty distance\n",
    "    \"\"\"\n",
    "    \n",
    "    from geopy.distance import vincenty\n",
    "    \n",
    "    column_city = (city_lat, city_lon)\n",
    "    user_city = (user_lat, user_lon)\n",
    "    \n",
    "    return (vincenty(column_city, user_city).km)\n",
    "\n",
    "def distance_abs_value(a_value, b_value):\n",
    "    return abs(a_value - b_value)\n",
    "\n",
    "def w_s(city_row, brand_row, type_row, year_row):\n",
    "    import numpy as np\n",
    "    weigth = 100\n",
    "    brand_weight = 40\n",
    "    type_weight = 40\n",
    "    year_weight = 10\n",
    "    city_weight = 10\n",
    "    \n",
    "    params = np.array([city_row, brand_row, type_row, year_row])\n",
    "    weights = np.array([city_weight, brand_weight, type_weight, year_weight])\n",
    "    \n",
    "    num = sum(params * weights) * 1.0\n",
    "    return num/weigth"
   ]
  },
  {
   "cell_type": "code",
   "execution_count": 26,
   "metadata": {
    "collapsed": true
   },
   "outputs": [],
   "source": [
    "#Example of request of a user\n",
    "user_request = ('madrid', 'bmw', 'custom', 2000)\n",
    "\n",
    "# We need to calculate some variables:\n",
    "user_lat = float(df_locations[df_locations['city'] == user_request[0]].lat)\n",
    "user_lon = float(df_locations[df_locations['city'] == user_request[0]].lon)\n",
    "user_brand = int(df_rank_moto_brand[df_rank_moto_brand['brand'] == user_request[1]].brand_score)\n",
    "user_type = int(df_rank_moto_type[df_rank_moto_type['type'] == user_request[2]].type_score)\n",
    "user_year = user_request[3]\n",
    "\n",
    "user_vars = [user_brand, user_type, user_year]\n",
    "score_columns = ['brand_score', 'type_score', 'year']"
   ]
  },
  {
   "cell_type": "code",
   "execution_count": 28,
   "metadata": {
    "collapsed": true,
    "scrolled": true
   },
   "outputs": [
    {
     "name": "stdout",
     "output_type": "stream",
     "text": [
      "brand_metric brand_score 356\n"
     ]
    },
    {
     "name": "stdout",
     "output_type": "stream",
     "text": [
      "type_metric type_score 280\n"
     ]
    },
    {
     "name": "stdout",
     "output_type": "stream",
     "text": [
      "year_metric year 2000\n"
     ]
    }
   ],
   "source": [
    "df_motos_raw_coord_brand_types['city_metric'] = df_motos_raw_coord_brand_types.apply(lambda row: cities_distance(row['lat'], row['lon'], user_lat, user_lon), axis=1)\n",
    "\n",
    "for i, element in enumerate(['brand', 'type', 'year']):\n",
    "    new_column = element + '_metric'\n",
    "    print new_column, score_columns[i], user_vars[i]\n",
    "    df_motos_raw_coord_brand_types[new_column] = df_motos_raw_coord_brand_types.apply(lambda row: distance_abs_value(int(row[score_columns[i]]), user_vars[i]), axis=1)\n",
    "    \n",
    "#!!! Revisar ranking de motos, falta alguna, por eso aparenden NAN en la columna brand_score al hacer el merge\n",
    "\n",
    "df_motos_raw_coord_brand_types['total_metric_pond'] = df_motos_raw_coord_brand_types.apply(lambda row: w_s(row['city_metric'], row['brand_metric'], row['type_metric'], row['year_metric']), axis = 1)"
   ]
  },
  {
   "cell_type": "code",
   "execution_count": 29,
   "metadata": {
    "collapsed": true
   },
   "outputs": [],
   "source": [
    "results = df_motos_raw_coord_brand_types.sort_values(by = ['total_metric_pond'], ascending=True)"
   ]
  },
  {
   "cell_type": "code",
   "execution_count": 30,
   "metadata": {
    "collapsed": true
   },
   "outputs": [
    {
     "data": {
      "text/html": [
       "<div>\n",
       "<style>\n",
       "    .dataframe thead tr:only-child th {\n",
       "        text-align: right;\n",
       "    }\n",
       "\n",
       "    .dataframe thead th {\n",
       "        text-align: left;\n",
       "    }\n",
       "\n",
       "    .dataframe tbody tr th {\n",
       "        vertical-align: top;\n",
       "    }\n",
       "</style>\n",
       "<table border=\"1\" class=\"dataframe\">\n",
       "  <thead>\n",
       "    <tr style=\"text-align: right;\">\n",
       "      <th></th>\n",
       "      <th>city</th>\n",
       "      <th>brand</th>\n",
       "      <th>model</th>\n",
       "      <th>type</th>\n",
       "      <th>cc</th>\n",
       "      <th>color</th>\n",
       "      <th>km</th>\n",
       "      <th>year</th>\n",
       "      <th>price</th>\n",
       "      <th>url</th>\n",
       "      <th>lat</th>\n",
       "      <th>lon</th>\n",
       "      <th>brand_score</th>\n",
       "      <th>type_score</th>\n",
       "      <th>city_metric</th>\n",
       "      <th>brand_metric</th>\n",
       "      <th>type_metric</th>\n",
       "      <th>year_metric</th>\n",
       "      <th>total_metric_pond</th>\n",
       "    </tr>\n",
       "  </thead>\n",
       "  <tbody>\n",
       "    <tr>\n",
       "      <th>15040</th>\n",
       "      <td>madrid</td>\n",
       "      <td>bmw</td>\n",
       "      <td>r_1200_c_classic</td>\n",
       "      <td>custom</td>\n",
       "      <td>1170.0</td>\n",
       "      <td>cobre</td>\n",
       "      <td>33000.0</td>\n",
       "      <td>2000</td>\n",
       "      <td>9800</td>\n",
       "      <td>http://motos.net/ocasion/bmw/r_1200_c_classic/...</td>\n",
       "      <td>40.416705</td>\n",
       "      <td>-3.703582</td>\n",
       "      <td>356</td>\n",
       "      <td>280</td>\n",
       "      <td>0.0</td>\n",
       "      <td>0</td>\n",
       "      <td>0</td>\n",
       "      <td>0</td>\n",
       "      <td>0.0</td>\n",
       "    </tr>\n",
       "    <tr>\n",
       "      <th>11571</th>\n",
       "      <td>madrid</td>\n",
       "      <td>bmw</td>\n",
       "      <td>r_1200_c_montauk</td>\n",
       "      <td>custom</td>\n",
       "      <td>1200.0</td>\n",
       "      <td>negro</td>\n",
       "      <td>31000.0</td>\n",
       "      <td>2004</td>\n",
       "      <td>8590</td>\n",
       "      <td>http://motos.net/ocasion/bmw/r_1200_c_montauk/...</td>\n",
       "      <td>40.416705</td>\n",
       "      <td>-3.703582</td>\n",
       "      <td>356</td>\n",
       "      <td>280</td>\n",
       "      <td>0.0</td>\n",
       "      <td>0</td>\n",
       "      <td>0</td>\n",
       "      <td>4</td>\n",
       "      <td>0.4</td>\n",
       "    </tr>\n",
       "    <tr>\n",
       "      <th>11290</th>\n",
       "      <td>madrid</td>\n",
       "      <td>bmw</td>\n",
       "      <td>r_1200_c_montauk</td>\n",
       "      <td>custom</td>\n",
       "      <td>1200.0</td>\n",
       "      <td>not specified</td>\n",
       "      <td>148000.0</td>\n",
       "      <td>2004</td>\n",
       "      <td>7400</td>\n",
       "      <td>http://motos.net/ocasion/bmw/r_1200_c_montauk/...</td>\n",
       "      <td>40.416705</td>\n",
       "      <td>-3.703582</td>\n",
       "      <td>356</td>\n",
       "      <td>280</td>\n",
       "      <td>0.0</td>\n",
       "      <td>0</td>\n",
       "      <td>0</td>\n",
       "      <td>4</td>\n",
       "      <td>0.4</td>\n",
       "    </tr>\n",
       "    <tr>\n",
       "      <th>12470</th>\n",
       "      <td>madrid</td>\n",
       "      <td>bmw</td>\n",
       "      <td>r_1200_cl</td>\n",
       "      <td>custom</td>\n",
       "      <td>1170.0</td>\n",
       "      <td>gris</td>\n",
       "      <td>127700.0</td>\n",
       "      <td>2004</td>\n",
       "      <td>6800</td>\n",
       "      <td>http://motos.net/ocasion/bmw/r_1200_cl/2004-en...</td>\n",
       "      <td>40.416705</td>\n",
       "      <td>-3.703582</td>\n",
       "      <td>356</td>\n",
       "      <td>280</td>\n",
       "      <td>0.0</td>\n",
       "      <td>0</td>\n",
       "      <td>0</td>\n",
       "      <td>4</td>\n",
       "      <td>0.4</td>\n",
       "    </tr>\n",
       "    <tr>\n",
       "      <th>15552</th>\n",
       "      <td>madrid</td>\n",
       "      <td>bmw</td>\n",
       "      <td>r_850_r</td>\n",
       "      <td>naked</td>\n",
       "      <td>848.0</td>\n",
       "      <td>not specified</td>\n",
       "      <td>45100.0</td>\n",
       "      <td>2000</td>\n",
       "      <td>2600</td>\n",
       "      <td>http://motos.net/ocasion/bmw/r_850_r/2000-en-m...</td>\n",
       "      <td>40.416705</td>\n",
       "      <td>-3.703582</td>\n",
       "      <td>356</td>\n",
       "      <td>260</td>\n",
       "      <td>0.0</td>\n",
       "      <td>0</td>\n",
       "      <td>20</td>\n",
       "      <td>0</td>\n",
       "      <td>8.0</td>\n",
       "    </tr>\n",
       "  </tbody>\n",
       "</table>\n",
       "</div>"
      ],
      "text/plain": [
       "<div>\n",
       "<style>\n",
       "    .dataframe thead tr:only-child th {\n",
       "        text-align: right;\n",
       "    }\n",
       "\n",
       "    .dataframe thead th {\n",
       "        text-align: left;\n",
       "    }\n",
       "\n",
       "    .dataframe tbody tr th {\n",
       "        vertical-align: top;\n",
       "    }\n",
       "</style>\n",
       "<table border=\"1\" class=\"dataframe\">\n",
       "  <thead>\n",
       "    <tr style=\"text-align: right;\">\n",
       "      <th></th>\n",
       "      <th>city</th>\n",
       "      <th>brand</th>\n",
       "      <th>model</th>\n",
       "      <th>type</th>\n",
       "      <th>cc</th>\n",
       "      <th>color</th>\n",
       "      <th>km</th>\n",
       "      <th>year</th>\n",
       "      <th>price</th>\n",
       "      <th>url</th>\n",
       "      <th>lat</th>\n",
       "      <th>lon</th>\n",
       "      <th>brand_score</th>\n",
       "      <th>type_score</th>\n",
       "      <th>city_metric</th>\n",
       "      <th>brand_metric</th>\n",
       "      <th>type_metric</th>\n",
       "      <th>year_metric</th>\n",
       "      <th>total_metric_pond</th>\n",
       "    </tr>\n",
       "  </thead>\n",
       "  <tbody>\n",
       "    <tr>\n",
       "      <th>15040</th>\n",
       "      <td>madrid</td>\n",
       "      <td>bmw</td>\n",
       "      <td>r_1200_c_classic</td>\n",
       "      <td>custom</td>\n",
       "      <td>1170.0</td>\n",
       "      <td>cobre</td>\n",
       "      <td>33000.0</td>\n",
       "      <td>2000</td>\n",
       "      <td>9800</td>\n",
       "      <td>http://motos.net/ocasion/bmw/r_1200_c_classic/...</td>\n",
       "      <td>40.416705</td>\n",
       "      <td>-3.703582</td>\n",
       "      <td>356</td>\n",
       "      <td>280</td>\n",
       "      <td>0.0</td>\n",
       "      <td>0</td>\n",
       "      <td>0</td>\n",
       "      <td>0</td>\n",
       "      <td>0.0</td>\n",
       "    </tr>\n",
       "    <tr>\n",
       "      <th>11571</th>\n",
       "      <td>madrid</td>\n",
       "      <td>bmw</td>\n",
       "      <td>r_1200_c_montauk</td>\n",
       "      <td>custom</td>\n",
       "      <td>1200.0</td>\n",
       "      <td>negro</td>\n",
       "      <td>31000.0</td>\n",
       "      <td>2004</td>\n",
       "      <td>8590</td>\n",
       "      <td>http://motos.net/ocasion/bmw/r_1200_c_montauk/...</td>\n",
       "      <td>40.416705</td>\n",
       "      <td>-3.703582</td>\n",
       "      <td>356</td>\n",
       "      <td>280</td>\n",
       "      <td>0.0</td>\n",
       "      <td>0</td>\n",
       "      <td>0</td>\n",
       "      <td>4</td>\n",
       "      <td>0.4</td>\n",
       "    </tr>\n",
       "    <tr>\n",
       "      <th>11290</th>\n",
       "      <td>madrid</td>\n",
       "      <td>bmw</td>\n",
       "      <td>r_1200_c_montauk</td>\n",
       "      <td>custom</td>\n",
       "      <td>1200.0</td>\n",
       "      <td>not specified</td>\n",
       "      <td>148000.0</td>\n",
       "      <td>2004</td>\n",
       "      <td>7400</td>\n",
       "      <td>http://motos.net/ocasion/bmw/r_1200_c_montauk/...</td>\n",
       "      <td>40.416705</td>\n",
       "      <td>-3.703582</td>\n",
       "      <td>356</td>\n",
       "      <td>280</td>\n",
       "      <td>0.0</td>\n",
       "      <td>0</td>\n",
       "      <td>0</td>\n",
       "      <td>4</td>\n",
       "      <td>0.4</td>\n",
       "    </tr>\n",
       "    <tr>\n",
       "      <th>12470</th>\n",
       "      <td>madrid</td>\n",
       "      <td>bmw</td>\n",
       "      <td>r_1200_cl</td>\n",
       "      <td>custom</td>\n",
       "      <td>1170.0</td>\n",
       "      <td>gris</td>\n",
       "      <td>127700.0</td>\n",
       "      <td>2004</td>\n",
       "      <td>6800</td>\n",
       "      <td>http://motos.net/ocasion/bmw/r_1200_cl/2004-en...</td>\n",
       "      <td>40.416705</td>\n",
       "      <td>-3.703582</td>\n",
       "      <td>356</td>\n",
       "      <td>280</td>\n",
       "      <td>0.0</td>\n",
       "      <td>0</td>\n",
       "      <td>0</td>\n",
       "      <td>4</td>\n",
       "      <td>0.4</td>\n",
       "    </tr>\n",
       "    <tr>\n",
       "      <th>15552</th>\n",
       "      <td>madrid</td>\n",
       "      <td>bmw</td>\n",
       "      <td>r_850_r</td>\n",
       "      <td>naked</td>\n",
       "      <td>848.0</td>\n",
       "      <td>not specified</td>\n",
       "      <td>45100.0</td>\n",
       "      <td>2000</td>\n",
       "      <td>2600</td>\n",
       "      <td>http://motos.net/ocasion/bmw/r_850_r/2000-en-m...</td>\n",
       "      <td>40.416705</td>\n",
       "      <td>-3.703582</td>\n",
       "      <td>356</td>\n",
       "      <td>260</td>\n",
       "      <td>0.0</td>\n",
       "      <td>0</td>\n",
       "      <td>20</td>\n",
       "      <td>0</td>\n",
       "      <td>8.0</td>\n",
       "    </tr>\n",
       "  </tbody>\n",
       "</table>\n",
       "</div>"
      ]
     },
     "execution_count": 30,
     "metadata": {},
     "output_type": "execute_result"
    }
   ],
   "source": [
    "results.head(5)"
   ]
  },
  {
   "cell_type": "code",
   "execution_count": null,
   "metadata": {
    "collapsed": true
   },
   "outputs": [],
   "source": [
    ""
   ]
  },
  {
   "cell_type": "code",
   "execution_count": null,
   "metadata": {
    "collapsed": true
   },
   "outputs": [],
   "source": [
    ""
   ]
  },
  {
   "cell_type": "code",
   "execution_count": null,
   "metadata": {
    "collapsed": true
   },
   "outputs": [],
   "source": [
    "brand_null = df_motos_raw_coord_brand_types[df_motos_raw_coord_brand_types['brand_score'].isnull()]"
   ]
  },
  {
   "cell_type": "code",
   "execution_count": null,
   "metadata": {
    "collapsed": true
   },
   "outputs": [],
   "source": [
    ""
   ]
  },
  {
   "cell_type": "code",
   "execution_count": null,
   "metadata": {
    "collapsed": true
   },
   "outputs": [],
   "source": [
    "for element in brand_null.brand.unique():\n",
    "    print element"
   ]
  },
  {
   "cell_type": "code",
   "execution_count": null,
   "metadata": {
    "collapsed": true
   },
   "outputs": [],
   "source": [
    "import numpy as np\n",
    "\n",
    "params = np.array([2, 4, 10, 2])\n",
    "weights = np.array([10, 40, 40, 10])"
   ]
  },
  {
   "cell_type": "code",
   "execution_count": null,
   "metadata": {
    "collapsed": true
   },
   "outputs": [],
   "source": [
    "sum(params * weights)"
   ]
  },
  {
   "cell_type": "code",
   "execution_count": null,
   "metadata": {
    "collapsed": true
   },
   "outputs": [],
   "source": [
    ""
   ]
  }
 ],
 "metadata": {
  "anaconda-cloud": {},
  "kernelspec": {
   "display_name": "Python 2",
   "language": "python",
   "name": "python2"
  },
  "language_info": {
   "codemirror_mode": {
    "name": "ipython",
    "version": 2.0
   },
   "file_extension": ".py",
   "mimetype": "text/x-python",
   "name": "python",
   "nbconvert_exporter": "python",
   "pygments_lexer": "ipython2",
   "version": "2.7.12"
  }
 },
 "nbformat": 4,
 "nbformat_minor": 0
}