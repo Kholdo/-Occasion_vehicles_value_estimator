{
 "cells": [
  {
   "cell_type": "code",
   "execution_count": 1,
   "metadata": {
    "collapsed": true
   },
   "outputs": [],
   "source": [
    "from recommender_class_test import Recommender"
   ]
  },
  {
   "cell_type": "code",
   "execution_count": 2,
   "metadata": {
    "collapsed": true
   },
   "outputs": [],
   "source": [
    "r = Recommender('burgos', 'bmw', 'ciclomotor', 1987, 30)"
   ]
  },
  {
   "cell_type": "code",
   "execution_count": 3,
   "metadata": {},
   "outputs": [
    {
     "data": {
      "text/html": [
       "<div>\n",
       "<style>\n",
       "    .dataframe thead tr:only-child th {\n",
       "        text-align: right;\n",
       "    }\n",
       "\n",
       "    .dataframe thead th {\n",
       "        text-align: left;\n",
       "    }\n",
       "\n",
       "    .dataframe tbody tr th {\n",
       "        vertical-align: top;\n",
       "    }\n",
       "</style>\n",
       "<table border=\"1\" class=\"dataframe\">\n",
       "  <thead>\n",
       "    <tr style=\"text-align: right;\">\n",
       "      <th></th>\n",
       "      <th>city</th>\n",
       "      <th>brand</th>\n",
       "      <th>model</th>\n",
       "      <th>type</th>\n",
       "      <th>color</th>\n",
       "      <th>km</th>\n",
       "      <th>year</th>\n",
       "      <th>price</th>\n",
       "      <th>url</th>\n",
       "      <th>total_metric_pond</th>\n",
       "    </tr>\n",
       "  </thead>\n",
       "  <tbody>\n",
       "    <tr>\n",
       "      <th>9587</th>\n",
       "      <td>burgos</td>\n",
       "      <td>ktm</td>\n",
       "      <td>sx_65</td>\n",
       "      <td>infantil</td>\n",
       "      <td>naranja</td>\n",
       "      <td>50.0</td>\n",
       "      <td>2016</td>\n",
       "      <td>3200</td>\n",
       "      <td>http://motos.net/ocasion/ktm/sx_65/2016-en-bur...</td>\n",
       "      <td>20.500000</td>\n",
       "    </tr>\n",
       "    <tr>\n",
       "      <th>763</th>\n",
       "      <td>vizcaya</td>\n",
       "      <td>ktm</td>\n",
       "      <td>sx_65</td>\n",
       "      <td>infantil</td>\n",
       "      <td>naranja</td>\n",
       "      <td>1.0</td>\n",
       "      <td>2012</td>\n",
       "      <td>2200</td>\n",
       "      <td>http://motos.net/ocasion/ktm/sx_65/2012-en-viz...</td>\n",
       "      <td>32.202584</td>\n",
       "    </tr>\n",
       "    <tr>\n",
       "      <th>20381</th>\n",
       "      <td>navarra</td>\n",
       "      <td>ktm</td>\n",
       "      <td>sx_65</td>\n",
       "      <td>infantil</td>\n",
       "      <td>not specified</td>\n",
       "      <td>200.0</td>\n",
       "      <td>2015</td>\n",
       "      <td>2999</td>\n",
       "      <td>http://motos.net/ocasion/ktm/sx_65/2015-en-nav...</td>\n",
       "      <td>36.032255</td>\n",
       "    </tr>\n",
       "    <tr>\n",
       "      <th>14000</th>\n",
       "      <td>madrid</td>\n",
       "      <td>kawasaki</td>\n",
       "      <td>kx_80</td>\n",
       "      <td>infantil</td>\n",
       "      <td>not specified</td>\n",
       "      <td>1000.0</td>\n",
       "      <td>1998</td>\n",
       "      <td>1500</td>\n",
       "      <td>http://motos.net/ocasion/kawasaki/kx_80/1998-e...</td>\n",
       "      <td>39.304038</td>\n",
       "    </tr>\n",
       "    <tr>\n",
       "      <th>11180</th>\n",
       "      <td>madrid</td>\n",
       "      <td>ktm</td>\n",
       "      <td>50_senior_adventure</td>\n",
       "      <td>infantil</td>\n",
       "      <td>naranja</td>\n",
       "      <td>NaN</td>\n",
       "      <td>2004</td>\n",
       "      <td>999</td>\n",
       "      <td>http://motos.net/ocasion/ktm/50_senior_adventu...</td>\n",
       "      <td>40.704038</td>\n",
       "    </tr>\n",
       "    <tr>\n",
       "      <th>14585</th>\n",
       "      <td>madrid</td>\n",
       "      <td>ktm</td>\n",
       "      <td>sx_50_lc_pro_senior</td>\n",
       "      <td>infantil</td>\n",
       "      <td>naranja</td>\n",
       "      <td>1000.0</td>\n",
       "      <td>2006</td>\n",
       "      <td>1190</td>\n",
       "      <td>http://motos.net/ocasion/ktm/sx_50_lc_pro_seni...</td>\n",
       "      <td>40.904038</td>\n",
       "    </tr>\n",
       "    <tr>\n",
       "      <th>20773</th>\n",
       "      <td>salamanca</td>\n",
       "      <td>ktm</td>\n",
       "      <td>sx_65</td>\n",
       "      <td>infantil</td>\n",
       "      <td>blanca-amarilla</td>\n",
       "      <td>100.0</td>\n",
       "      <td>2014</td>\n",
       "      <td>2750</td>\n",
       "      <td>http://motos.net/ocasion/ktm/sx_65/2014-en-sal...</td>\n",
       "      <td>42.725753</td>\n",
       "    </tr>\n",
       "    <tr>\n",
       "      <th>20808</th>\n",
       "      <td>salamanca</td>\n",
       "      <td>ktm</td>\n",
       "      <td>sx_50</td>\n",
       "      <td>infantil</td>\n",
       "      <td>not specified</td>\n",
       "      <td>NaN</td>\n",
       "      <td>2017</td>\n",
       "      <td>3410</td>\n",
       "      <td>http://motos.net/ocasion/ktm/sx_50/2017-en-sal...</td>\n",
       "      <td>43.025753</td>\n",
       "    </tr>\n",
       "    <tr>\n",
       "      <th>20923</th>\n",
       "      <td>alava</td>\n",
       "      <td>bmw</td>\n",
       "      <td>c_650_gt</td>\n",
       "      <td>scooters_+125cc</td>\n",
       "      <td>not specified</td>\n",
       "      <td>15000.0</td>\n",
       "      <td>2012</td>\n",
       "      <td>6500</td>\n",
       "      <td>http://motos.net/ocasion/bmw/c_650_gt/2012-en-...</td>\n",
       "      <td>48.512047</td>\n",
       "    </tr>\n",
       "    <tr>\n",
       "      <th>22778</th>\n",
       "      <td>cantabria</td>\n",
       "      <td>bmw</td>\n",
       "      <td>c_600_sport</td>\n",
       "      <td>scooters_+125cc</td>\n",
       "      <td>azul</td>\n",
       "      <td>15000.0</td>\n",
       "      <td>2014</td>\n",
       "      <td>7990</td>\n",
       "      <td>http://motos.net/ocasion/bmw/c_600_sport/2014-...</td>\n",
       "      <td>48.645768</td>\n",
       "    </tr>\n",
       "    <tr>\n",
       "      <th>22748</th>\n",
       "      <td>cantabria</td>\n",
       "      <td>bmw</td>\n",
       "      <td>c_600_sport</td>\n",
       "      <td>scooters_+125cc</td>\n",
       "      <td>azul</td>\n",
       "      <td>3000.0</td>\n",
       "      <td>2015</td>\n",
       "      <td>8999</td>\n",
       "      <td>http://motos.net/ocasion/bmw/c_600_sport/2015-...</td>\n",
       "      <td>48.745768</td>\n",
       "    </tr>\n",
       "    <tr>\n",
       "      <th>22708</th>\n",
       "      <td>cantabria</td>\n",
       "      <td>bmw</td>\n",
       "      <td>c_650_gt</td>\n",
       "      <td>scooters_+125cc</td>\n",
       "      <td>negro</td>\n",
       "      <td>2500.0</td>\n",
       "      <td>2015</td>\n",
       "      <td>9500</td>\n",
       "      <td>http://motos.net/ocasion/bmw/c_650_gt/2015-en-...</td>\n",
       "      <td>48.745768</td>\n",
       "    </tr>\n",
       "    <tr>\n",
       "      <th>22914</th>\n",
       "      <td>cantabria</td>\n",
       "      <td>bmw</td>\n",
       "      <td>c_600_sport</td>\n",
       "      <td>scooters_+125cc</td>\n",
       "      <td>blanca</td>\n",
       "      <td>3300.0</td>\n",
       "      <td>2015</td>\n",
       "      <td>8500</td>\n",
       "      <td>http://motos.net/ocasion/bmw/c_600_sport/edici...</td>\n",
       "      <td>48.745768</td>\n",
       "    </tr>\n",
       "    <tr>\n",
       "      <th>22783</th>\n",
       "      <td>cantabria</td>\n",
       "      <td>bmw</td>\n",
       "      <td>c_600_sport</td>\n",
       "      <td>scooters_+125cc</td>\n",
       "      <td>azul</td>\n",
       "      <td>2900.0</td>\n",
       "      <td>2015</td>\n",
       "      <td>8999</td>\n",
       "      <td>http://motos.net/ocasion/bmw/c_600_sport/2015-...</td>\n",
       "      <td>48.745768</td>\n",
       "    </tr>\n",
       "    <tr>\n",
       "      <th>22703</th>\n",
       "      <td>cantabria</td>\n",
       "      <td>bmw</td>\n",
       "      <td>c_650_gt</td>\n",
       "      <td>scooters_+125cc</td>\n",
       "      <td>marron mate</td>\n",
       "      <td>3119.0</td>\n",
       "      <td>2016</td>\n",
       "      <td>8900</td>\n",
       "      <td>http://motos.net/ocasion/bmw/c_650_gt/2016-en-...</td>\n",
       "      <td>48.845768</td>\n",
       "    </tr>\n",
       "    <tr>\n",
       "      <th>20911</th>\n",
       "      <td>alava</td>\n",
       "      <td>bmw</td>\n",
       "      <td>c_650_sport</td>\n",
       "      <td>scooters_+125cc</td>\n",
       "      <td>not specified</td>\n",
       "      <td>900.0</td>\n",
       "      <td>2016</td>\n",
       "      <td>10500</td>\n",
       "      <td>http://motos.net/ocasion/bmw/c_650_sport/2016-...</td>\n",
       "      <td>48.912047</td>\n",
       "    </tr>\n",
       "    <tr>\n",
       "      <th>22602</th>\n",
       "      <td>valladolid</td>\n",
       "      <td>bmw</td>\n",
       "      <td>c_650_gt</td>\n",
       "      <td>scooters_+125cc</td>\n",
       "      <td>not specified</td>\n",
       "      <td>16000.0</td>\n",
       "      <td>2012</td>\n",
       "      <td>6900</td>\n",
       "      <td>http://motos.net/ocasion/bmw/c_650_gt/2012-en-...</td>\n",
       "      <td>49.993089</td>\n",
       "    </tr>\n",
       "    <tr>\n",
       "      <th>758</th>\n",
       "      <td>vizcaya</td>\n",
       "      <td>bmw</td>\n",
       "      <td>c_650_gt</td>\n",
       "      <td>scooters_+125cc</td>\n",
       "      <td>negro</td>\n",
       "      <td>29000.0</td>\n",
       "      <td>2013</td>\n",
       "      <td>5999</td>\n",
       "      <td>http://motos.net/ocasion/bmw/c_650_gt/2013-en-...</td>\n",
       "      <td>50.702584</td>\n",
       "    </tr>\n",
       "    <tr>\n",
       "      <th>654</th>\n",
       "      <td>vizcaya</td>\n",
       "      <td>bmw</td>\n",
       "      <td>c_600_sport</td>\n",
       "      <td>scooters_+125cc</td>\n",
       "      <td>plata</td>\n",
       "      <td>2000.0</td>\n",
       "      <td>2014</td>\n",
       "      <td>8300</td>\n",
       "      <td>http://motos.net/ocasion/bmw/c_600_sport/2014-...</td>\n",
       "      <td>50.802584</td>\n",
       "    </tr>\n",
       "    <tr>\n",
       "      <th>686</th>\n",
       "      <td>vizcaya</td>\n",
       "      <td>bmw</td>\n",
       "      <td>c_650_gt</td>\n",
       "      <td>scooters_+125cc</td>\n",
       "      <td>not specified</td>\n",
       "      <td>14900.0</td>\n",
       "      <td>2014</td>\n",
       "      <td>7500</td>\n",
       "      <td>http://motos.net/ocasion/bmw/c_650_gt/2014-en-...</td>\n",
       "      <td>50.802584</td>\n",
       "    </tr>\n",
       "    <tr>\n",
       "      <th>920</th>\n",
       "      <td>vizcaya</td>\n",
       "      <td>bmw</td>\n",
       "      <td>c_650_gt</td>\n",
       "      <td>scooters_+125cc</td>\n",
       "      <td>not specified</td>\n",
       "      <td>13600.0</td>\n",
       "      <td>2014</td>\n",
       "      <td>7300</td>\n",
       "      <td>http://motos.net/ocasion/bmw/c_650_gt/2014-en-...</td>\n",
       "      <td>50.802584</td>\n",
       "    </tr>\n",
       "    <tr>\n",
       "      <th>22673</th>\n",
       "      <td>valladolid</td>\n",
       "      <td>kawasaki</td>\n",
       "      <td>j125_special_edition_abs</td>\n",
       "      <td>scooter_125cc</td>\n",
       "      <td>se</td>\n",
       "      <td>2000.0</td>\n",
       "      <td>2016</td>\n",
       "      <td>3400</td>\n",
       "      <td>http://motos.net/ocasion/kawasaki/j125_special...</td>\n",
       "      <td>51.193089</td>\n",
       "    </tr>\n",
       "    <tr>\n",
       "      <th>19621</th>\n",
       "      <td>guipuzcoa</td>\n",
       "      <td>bmw</td>\n",
       "      <td>c_650_gt</td>\n",
       "      <td>scooters_+125cc</td>\n",
       "      <td>bronce platino metalizado - n97</td>\n",
       "      <td>40000.0</td>\n",
       "      <td>2013</td>\n",
       "      <td>5995</td>\n",
       "      <td>http://motos.net/ocasion/bmw/c_650_gt/2013-en-...</td>\n",
       "      <td>53.715551</td>\n",
       "    </tr>\n",
       "    <tr>\n",
       "      <th>19697</th>\n",
       "      <td>guipuzcoa</td>\n",
       "      <td>bmw</td>\n",
       "      <td>c_650_gt</td>\n",
       "      <td>scooters_+125cc</td>\n",
       "      <td>gris</td>\n",
       "      <td>17000.0</td>\n",
       "      <td>2013</td>\n",
       "      <td>7490</td>\n",
       "      <td>http://motos.net/ocasion/bmw/c_650_gt/2013-en-...</td>\n",
       "      <td>53.715551</td>\n",
       "    </tr>\n",
       "    <tr>\n",
       "      <th>19344</th>\n",
       "      <td>guipuzcoa</td>\n",
       "      <td>bmw</td>\n",
       "      <td>c_650_gt</td>\n",
       "      <td>scooters_+125cc</td>\n",
       "      <td>bronce platino metalizado - n97</td>\n",
       "      <td>22000.0</td>\n",
       "      <td>2013</td>\n",
       "      <td>6995</td>\n",
       "      <td>http://motos.net/ocasion/bmw/c_650_gt/2013-en-...</td>\n",
       "      <td>53.715551</td>\n",
       "    </tr>\n",
       "    <tr>\n",
       "      <th>19595</th>\n",
       "      <td>guipuzcoa</td>\n",
       "      <td>bmw</td>\n",
       "      <td>c_650_gt</td>\n",
       "      <td>scooters_+125cc</td>\n",
       "      <td>gris granito metalizado - 933</td>\n",
       "      <td>12000.0</td>\n",
       "      <td>2015</td>\n",
       "      <td>8495</td>\n",
       "      <td>http://motos.net/ocasion/bmw/c_650_gt/2015-en-...</td>\n",
       "      <td>53.915551</td>\n",
       "    </tr>\n",
       "    <tr>\n",
       "      <th>19376</th>\n",
       "      <td>guipuzcoa</td>\n",
       "      <td>bmw</td>\n",
       "      <td>c_650_gt</td>\n",
       "      <td>scooters_+125cc</td>\n",
       "      <td>bronce metalizado - n0w</td>\n",
       "      <td>800.0</td>\n",
       "      <td>2017</td>\n",
       "      <td>10995</td>\n",
       "      <td>http://motos.net/ocasion/bmw/c_650_gt/2017-en-...</td>\n",
       "      <td>54.115551</td>\n",
       "    </tr>\n",
       "    <tr>\n",
       "      <th>20492</th>\n",
       "      <td>navarra</td>\n",
       "      <td>bmw</td>\n",
       "      <td>c_600_sport</td>\n",
       "      <td>scooters_+125cc</td>\n",
       "      <td>negra</td>\n",
       "      <td>19000.0</td>\n",
       "      <td>2012</td>\n",
       "      <td>6800</td>\n",
       "      <td>http://motos.net/ocasion/bmw/c_600_sport/2012-...</td>\n",
       "      <td>54.132255</td>\n",
       "    </tr>\n",
       "    <tr>\n",
       "      <th>20388</th>\n",
       "      <td>navarra</td>\n",
       "      <td>bmw</td>\n",
       "      <td>c_650_gt</td>\n",
       "      <td>scooters_+125cc</td>\n",
       "      <td>gris</td>\n",
       "      <td>35000.0</td>\n",
       "      <td>2014</td>\n",
       "      <td>6500</td>\n",
       "      <td>http://motos.net/ocasion/bmw/c_650_gt/2014-en-...</td>\n",
       "      <td>54.332255</td>\n",
       "    </tr>\n",
       "    <tr>\n",
       "      <th>20317</th>\n",
       "      <td>navarra</td>\n",
       "      <td>bmw</td>\n",
       "      <td>c_650_gt</td>\n",
       "      <td>scooters_+125cc</td>\n",
       "      <td>marron metalizado</td>\n",
       "      <td>26000.0</td>\n",
       "      <td>2014</td>\n",
       "      <td>7990</td>\n",
       "      <td>http://motos.net/ocasion/bmw/c_650_gt/2014-en-...</td>\n",
       "      <td>54.332255</td>\n",
       "    </tr>\n",
       "  </tbody>\n",
       "</table>\n",
       "</div>"
      ],
      "text/plain": [
       "             city     brand                     model             type  \\\n",
       "9587       burgos       ktm                     sx_65         infantil   \n",
       "763       vizcaya       ktm                     sx_65         infantil   \n",
       "20381     navarra       ktm                     sx_65         infantil   \n",
       "14000      madrid  kawasaki                     kx_80         infantil   \n",
       "11180      madrid       ktm       50_senior_adventure         infantil   \n",
       "14585      madrid       ktm       sx_50_lc_pro_senior         infantil   \n",
       "20773   salamanca       ktm                     sx_65         infantil   \n",
       "20808   salamanca       ktm                     sx_50         infantil   \n",
       "20923       alava       bmw                  c_650_gt  scooters_+125cc   \n",
       "22778   cantabria       bmw               c_600_sport  scooters_+125cc   \n",
       "22748   cantabria       bmw               c_600_sport  scooters_+125cc   \n",
       "22708   cantabria       bmw                  c_650_gt  scooters_+125cc   \n",
       "22914   cantabria       bmw               c_600_sport  scooters_+125cc   \n",
       "22783   cantabria       bmw               c_600_sport  scooters_+125cc   \n",
       "22703   cantabria       bmw                  c_650_gt  scooters_+125cc   \n",
       "20911       alava       bmw               c_650_sport  scooters_+125cc   \n",
       "22602  valladolid       bmw                  c_650_gt  scooters_+125cc   \n",
       "758       vizcaya       bmw                  c_650_gt  scooters_+125cc   \n",
       "654       vizcaya       bmw               c_600_sport  scooters_+125cc   \n",
       "686       vizcaya       bmw                  c_650_gt  scooters_+125cc   \n",
       "920       vizcaya       bmw                  c_650_gt  scooters_+125cc   \n",
       "22673  valladolid  kawasaki  j125_special_edition_abs    scooter_125cc   \n",
       "19621   guipuzcoa       bmw                  c_650_gt  scooters_+125cc   \n",
       "19697   guipuzcoa       bmw                  c_650_gt  scooters_+125cc   \n",
       "19344   guipuzcoa       bmw                  c_650_gt  scooters_+125cc   \n",
       "19595   guipuzcoa       bmw                  c_650_gt  scooters_+125cc   \n",
       "19376   guipuzcoa       bmw                  c_650_gt  scooters_+125cc   \n",
       "20492     navarra       bmw               c_600_sport  scooters_+125cc   \n",
       "20388     navarra       bmw                  c_650_gt  scooters_+125cc   \n",
       "20317     navarra       bmw                  c_650_gt  scooters_+125cc   \n",
       "\n",
       "                                 color       km  year  price  \\\n",
       "9587                           naranja     50.0  2016   3200   \n",
       "763                            naranja      1.0  2012   2200   \n",
       "20381                    not specified    200.0  2015   2999   \n",
       "14000                    not specified   1000.0  1998   1500   \n",
       "11180                          naranja      NaN  2004    999   \n",
       "14585                          naranja   1000.0  2006   1190   \n",
       "20773                  blanca-amarilla    100.0  2014   2750   \n",
       "20808                    not specified      NaN  2017   3410   \n",
       "20923                    not specified  15000.0  2012   6500   \n",
       "22778                             azul  15000.0  2014   7990   \n",
       "22748                             azul   3000.0  2015   8999   \n",
       "22708                            negro   2500.0  2015   9500   \n",
       "22914                           blanca   3300.0  2015   8500   \n",
       "22783                             azul   2900.0  2015   8999   \n",
       "22703                      marron mate   3119.0  2016   8900   \n",
       "20911                    not specified    900.0  2016  10500   \n",
       "22602                    not specified  16000.0  2012   6900   \n",
       "758                              negro  29000.0  2013   5999   \n",
       "654                              plata   2000.0  2014   8300   \n",
       "686                      not specified  14900.0  2014   7500   \n",
       "920                      not specified  13600.0  2014   7300   \n",
       "22673                               se   2000.0  2016   3400   \n",
       "19621  bronce platino metalizado - n97  40000.0  2013   5995   \n",
       "19697                             gris  17000.0  2013   7490   \n",
       "19344  bronce platino metalizado - n97  22000.0  2013   6995   \n",
       "19595    gris granito metalizado - 933  12000.0  2015   8495   \n",
       "19376          bronce metalizado - n0w    800.0  2017  10995   \n",
       "20492                            negra  19000.0  2012   6800   \n",
       "20388                             gris  35000.0  2014   6500   \n",
       "20317                marron metalizado  26000.0  2014   7990   \n",
       "\n",
       "                                                     url  total_metric_pond  \n",
       "9587   http://motos.net/ocasion/ktm/sx_65/2016-en-bur...          20.500000  \n",
       "763    http://motos.net/ocasion/ktm/sx_65/2012-en-viz...          32.202584  \n",
       "20381  http://motos.net/ocasion/ktm/sx_65/2015-en-nav...          36.032255  \n",
       "14000  http://motos.net/ocasion/kawasaki/kx_80/1998-e...          39.304038  \n",
       "11180  http://motos.net/ocasion/ktm/50_senior_adventu...          40.704038  \n",
       "14585  http://motos.net/ocasion/ktm/sx_50_lc_pro_seni...          40.904038  \n",
       "20773  http://motos.net/ocasion/ktm/sx_65/2014-en-sal...          42.725753  \n",
       "20808  http://motos.net/ocasion/ktm/sx_50/2017-en-sal...          43.025753  \n",
       "20923  http://motos.net/ocasion/bmw/c_650_gt/2012-en-...          48.512047  \n",
       "22778  http://motos.net/ocasion/bmw/c_600_sport/2014-...          48.645768  \n",
       "22748  http://motos.net/ocasion/bmw/c_600_sport/2015-...          48.745768  \n",
       "22708  http://motos.net/ocasion/bmw/c_650_gt/2015-en-...          48.745768  \n",
       "22914  http://motos.net/ocasion/bmw/c_600_sport/edici...          48.745768  \n",
       "22783  http://motos.net/ocasion/bmw/c_600_sport/2015-...          48.745768  \n",
       "22703  http://motos.net/ocasion/bmw/c_650_gt/2016-en-...          48.845768  \n",
       "20911  http://motos.net/ocasion/bmw/c_650_sport/2016-...          48.912047  \n",
       "22602  http://motos.net/ocasion/bmw/c_650_gt/2012-en-...          49.993089  \n",
       "758    http://motos.net/ocasion/bmw/c_650_gt/2013-en-...          50.702584  \n",
       "654    http://motos.net/ocasion/bmw/c_600_sport/2014-...          50.802584  \n",
       "686    http://motos.net/ocasion/bmw/c_650_gt/2014-en-...          50.802584  \n",
       "920    http://motos.net/ocasion/bmw/c_650_gt/2014-en-...          50.802584  \n",
       "22673  http://motos.net/ocasion/kawasaki/j125_special...          51.193089  \n",
       "19621  http://motos.net/ocasion/bmw/c_650_gt/2013-en-...          53.715551  \n",
       "19697  http://motos.net/ocasion/bmw/c_650_gt/2013-en-...          53.715551  \n",
       "19344  http://motos.net/ocasion/bmw/c_650_gt/2013-en-...          53.715551  \n",
       "19595  http://motos.net/ocasion/bmw/c_650_gt/2015-en-...          53.915551  \n",
       "19376  http://motos.net/ocasion/bmw/c_650_gt/2017-en-...          54.115551  \n",
       "20492  http://motos.net/ocasion/bmw/c_600_sport/2012-...          54.132255  \n",
       "20388  http://motos.net/ocasion/bmw/c_650_gt/2014-en-...          54.332255  \n",
       "20317  http://motos.net/ocasion/bmw/c_650_gt/2014-en-...          54.332255  "
      ]
     },
     "execution_count": 3,
     "metadata": {},
     "output_type": "execute_result"
    }
   ],
   "source": [
    "r.recommender()"
   ]
  },
  {
   "cell_type": "code",
   "execution_count": null,
   "metadata": {},
   "outputs": [],
   "source": [
    "r.recommender().values.tolist()"
   ]
  },
  {
   "cell_type": "code",
   "execution_count": null,
   "metadata": {
    "collapsed": true
   },
   "outputs": [],
   "source": []
  },
  {
   "cell_type": "code",
   "execution_count": null,
   "metadata": {
    "collapsed": true
   },
   "outputs": [],
   "source": []
  },
  {
   "cell_type": "code",
   "execution_count": null,
   "metadata": {
    "collapsed": true
   },
   "outputs": [],
   "source": []
  },
  {
   "cell_type": "code",
   "execution_count": null,
   "metadata": {
    "scrolled": true
   },
   "outputs": [],
   "source": [
    "import pandas as pd\n",
    "df_motos_raw = pd.read_csv('scraped_data/motos_raw_data.csv', sep=';')\n",
    "df_motos_raw.shape"
   ]
  },
  {
   "cell_type": "code",
   "execution_count": null,
   "metadata": {
    "collapsed": true
   },
   "outputs": [],
   "source": [
    "df_motos_raw['color'].fillna('not specified', inplace=True)"
   ]
  },
  {
   "cell_type": "code",
   "execution_count": null,
   "metadata": {},
   "outputs": [],
   "source": [
    "df_motos_raw.shape"
   ]
  },
  {
   "cell_type": "code",
   "execution_count": null,
   "metadata": {
    "collapsed": true
   },
   "outputs": [],
   "source": []
  },
  {
   "cell_type": "markdown",
   "metadata": {},
   "source": [
    "Data cleaning"
   ]
  },
  {
   "cell_type": "code",
   "execution_count": null,
   "metadata": {
    "collapsed": true
   },
   "outputs": [],
   "source": []
  },
  {
   "cell_type": "code",
   "execution_count": null,
   "metadata": {
    "collapsed": true
   },
   "outputs": [],
   "source": [
    "# Convert the dataframe to lower case\n",
    "df_motos_raw = df_motos_raw.apply(lambda x: x.astype(str).str.lower())"
   ]
  },
  {
   "cell_type": "code",
   "execution_count": null,
   "metadata": {
    "collapsed": true
   },
   "outputs": [],
   "source": [
    "#Join the words in the 'model' and 'type' fields with an underscore\n",
    "df_motos_raw['model'] = df_motos_raw['model'].str.replace(' ', '_')\n",
    "df_motos_raw['type'] = df_motos_raw['type'].str.replace(' ', '_')"
   ]
  },
  {
   "cell_type": "code",
   "execution_count": null,
   "metadata": {},
   "outputs": [],
   "source": [
    "# Looking for duplicates\n",
    "df_motos_raw['is_duplicated'] = df_motos_raw.duplicated()\n",
    "duplicates = df_motos_raw['is_duplicated'].sum()\n",
    "print '%d duplicates' %duplicates"
   ]
  },
  {
   "cell_type": "code",
   "execution_count": null,
   "metadata": {},
   "outputs": [],
   "source": [
    "# Removing duplicates and delete 'is_duplicated' column\n",
    "df_motos_raw = df_motos_raw.loc[df_motos_raw['is_duplicated']==False]\n",
    "df_motos_raw = df_motos_raw.drop('is_duplicated', 1)\n",
    "df_motos_raw.shape"
   ]
  },
  {
   "cell_type": "code",
   "execution_count": null,
   "metadata": {},
   "outputs": [],
   "source": [
    "# Lets investigate column by column the NaNs we have in the dataframe\n",
    "for column in df_motos_raw.columns:\n",
    "    n_nan = df_motos_raw[column]=='nan'\n",
    "    print column + \" %d -- > %f\" %(n_nan.sum(), (n_nan.sum()*1.0)/df_motos_raw.shape[0]*100)"
   ]
  },
  {
   "cell_type": "code",
   "execution_count": null,
   "metadata": {},
   "outputs": [],
   "source": [
    "# Lets investigate the unique values we have in the columns\n",
    "for column in ['city', 'brand', 'model', 'type', 'color', 'year']:\n",
    "    column_uv = df_motos_raw[column].unique()\n",
    "    print column + \" --> \" + \"%d unique values\" %len(sorted(column_uv))"
   ]
  },
  {
   "cell_type": "markdown",
   "metadata": {},
   "source": [
    "Merge some data"
   ]
  },
  {
   "cell_type": "code",
   "execution_count": null,
   "metadata": {
    "collapsed": true
   },
   "outputs": [],
   "source": [
    "#In order to calculate our first metric, we will use the following columns:\n",
    "# \"lon\" and \"lat\" : These are the longitude and latitude of the corresponding city. We will add them later.\n",
    "# \"brand\", \"model\", \"type\", \"year\""
   ]
  },
  {
   "cell_type": "code",
   "execution_count": null,
   "metadata": {
    "collapsed": true
   },
   "outputs": [],
   "source": [
    "# Calculating the longitude and latitude of the cities\n",
    "import geopy\n",
    "from geopy.geocoders import Nominatim\n",
    "geolocator = Nominatim()"
   ]
  },
  {
   "cell_type": "code",
   "execution_count": null,
   "metadata": {
    "collapsed": true
   },
   "outputs": [],
   "source": [
    "cities = df_motos_raw['city'].unique()\n",
    "locations_rows = []\n",
    "for city in cities:\n",
    "    location = geolocator.geocode([city], timeout = 15)\n",
    "    locations_rows.append([city, location.latitude, location.longitude])\n",
    "#Save into a csv\n",
    "df_locations = pd.DataFrame(locations_rows, columns = ['city', 'lat', 'lon'])\n",
    "#df_locations.to_csv('auxiliary_data/locations_coords.csv', index = False)"
   ]
  },
  {
   "cell_type": "code",
   "execution_count": null,
   "metadata": {},
   "outputs": [],
   "source": [
    "df_locations.head(3)"
   ]
  },
  {
   "cell_type": "code",
   "execution_count": null,
   "metadata": {
    "collapsed": true
   },
   "outputs": [],
   "source": [
    "# Merge df_locations with df_motos_raw\n",
    "df_motos_raw_coord = pd.merge(df_motos_raw, df_locations, on = 'city')\n",
    "#Save into a csv\n",
    "#df_motos_raw_coord.to_csv('df_motos_raw_coord.csv', index = False)"
   ]
  },
  {
   "cell_type": "code",
   "execution_count": null,
   "metadata": {
    "collapsed": true
   },
   "outputs": [],
   "source": [
    "# We have created two csv files with a rank for the motos brands and types\n",
    "# called rank_motos_brands.csv and rank_motos_types.csv\n",
    "\n",
    "# With the first one, rank_motos_brands.csv, we are gint to create another  column, with a score to the corresponding brand\n",
    "df_rank_moto_brand = pd.read_csv('scraped_data/rank_moto_brands.csv', sep=';')\n",
    "df_motos_raw_coord_brand = pd.merge(df_motos_raw_coord, df_rank_moto_brand, on = 'brand', how = 'left')\n",
    "#If the brand does not exist, the rank value will be zero\n",
    "#!!OJO, AÑADIR MARCAS DE MOTOS QUE FALTAN ANTES DE PONER UN CERO!!!!!!!!!!!!!!!!!\n",
    "df_motos_raw_coord_brand.brand_score.fillna(0, inplace=True)\n",
    "# Save into a csv\n",
    "df_motos_raw_coord_brand.to_csv('df_motos_coord_brand.csv', index = False)\n",
    "\n",
    "# With the second one, rank_moto_types.csv, we are going to create another column, with a score to the corresponding type\n",
    "df_rank_moto_type = pd.read_csv('auxiliary_data/rank_moto_types.csv', sep=';')\n",
    "df_motos_raw_coord_brand_types = pd.merge(df_motos_raw_coord_brand, df_rank_moto_type, on = 'type', how = 'left')\n",
    "#Save into a csv\n",
    "df_motos_raw_coord_brand_types.to_csv('df_motos_raw_coord_brand_type.csv', index = False)"
   ]
  },
  {
   "cell_type": "code",
   "execution_count": null,
   "metadata": {},
   "outputs": [],
   "source": [
    "df_motos_raw_coord_brand_types.head(3)"
   ]
  },
  {
   "cell_type": "code",
   "execution_count": null,
   "metadata": {},
   "outputs": [],
   "source": [
    "sorted(df_motos_raw_coord_brand_types.brand.unique())"
   ]
  },
  {
   "cell_type": "code",
   "execution_count": null,
   "metadata": {
    "collapsed": true
   },
   "outputs": [],
   "source": [
    "# OK!, so we have a first version of the data we will use to recommend vehicles\n",
    "# df_motos_raw_coord_brand_types\n",
    "# Lets try to calculate the metric only with some fields. We are going to add these distances:\n",
    "# cities distance, brand_distance, type_distance, year_distance\n",
    "# We need to create some functions:\n",
    "\n",
    "def cities_distance(city_lat, city_lon, user_lat, user_lon):\n",
    "    \"\"\"    \n",
    "    :param city_lat: the value in the dataset's lat column to the corresponding city\n",
    "    :param city_lon: the value in the dataset's lon column to the corresponding city\n",
    "    :param user_lat: The corresponding lat value in the location dataset of the city selected by the user\n",
    "    :param user_lon: The corresponding lon value in the location dataset of the city selected by the user\n",
    "    \n",
    "    :return: The value in kilometers of the distance between the two cities.\n",
    "    \n",
    "    Usage of the Vicenty distance\n",
    "    \"\"\"\n",
    "    \n",
    "    from geopy.distance import vincenty\n",
    "    \n",
    "    column_city = (city_lat, city_lon)\n",
    "    user_city = (user_lat, user_lon)\n",
    "    \n",
    "    return (vincenty(column_city, user_city).km)\n",
    "\n",
    "def distance_abs_value(a_value, b_value):\n",
    "    return abs(a_value - b_value)\n",
    "\n",
    "def w_s(city_row, brand_row, type_row, year_row):\n",
    "    import numpy as np\n",
    "    weigth = 100\n",
    "    brand_weight = 40\n",
    "    type_weight = 40\n",
    "    year_weight = 10\n",
    "    city_weight = 10\n",
    "    \n",
    "    params = np.array([city_row, brand_row, type_row, year_row])\n",
    "    weights = np.array([city_weight, brand_weight, type_weight, year_weight])\n",
    "    \n",
    "    num = sum(params * weights) * 1.0\n",
    "    return num/weigth"
   ]
  },
  {
   "cell_type": "code",
   "execution_count": null,
   "metadata": {
    "collapsed": true
   },
   "outputs": [],
   "source": [
    "#Example of request of a user\n",
    "user_request = ('madrid', 'bmw', 'custom', 2000)\n",
    "\n",
    "# We need to calculate some variables:\n",
    "user_lat = float(df_locations[df_locations['city'] == user_request[0]].lat)\n",
    "user_lon = float(df_locations[df_locations['city'] == user_request[0]].lon)\n",
    "user_brand = int(df_rank_moto_brand[df_rank_moto_brand['brand'] == user_request[1]].brand_score)\n",
    "user_type = int(df_rank_moto_type[df_rank_moto_type['type'] == user_request[2]].type_score)\n",
    "user_year = user_request[3]\n",
    "\n",
    "user_vars = [user_brand, user_type, user_year]\n",
    "score_columns = ['brand_score', 'type_score', 'year']"
   ]
  },
  {
   "cell_type": "code",
   "execution_count": null,
   "metadata": {},
   "outputs": [],
   "source": [
    "df_motos_raw_coord_brand_types['city_metric'] = df_motos_raw_coord_brand_types.apply(lambda row: cities_distance(row['lat'], row['lon'], user_lat, user_lon), axis=1)\n",
    "\n",
    "for i, element in enumerate(['brand', 'type', 'year']):\n",
    "    new_column = element + '_metric'\n",
    "    print new_column, score_columns[i], user_vars[i]\n",
    "    df_motos_raw_coord_brand_types[new_column] = df_motos_raw_coord_brand_types.apply(lambda row: distance_abs_value(int(row[score_columns[i]]), user_vars[i]), axis=1)\n",
    "    \n",
    "#!!! Revisar ranking de motos, falta alguna, por eso aparenden NAN en la columna brand_score al hacer el merge\n",
    "\n",
    "df_motos_raw_coord_brand_types['total_metric_pond'] = df_motos_raw_coord_brand_types.apply(lambda row: w_s(row['city_metric'], row['brand_metric'], row['type_metric'], row['year_metric']), axis = 1)"
   ]
  },
  {
   "cell_type": "code",
   "execution_count": null,
   "metadata": {
    "collapsed": true
   },
   "outputs": [],
   "source": [
    "results = df_motos_raw_coord_brand_types.sort_values(by = ['total_metric_pond'], ascending=True)"
   ]
  },
  {
   "cell_type": "code",
   "execution_count": null,
   "metadata": {},
   "outputs": [],
   "source": [
    "results.head(10)"
   ]
  },
  {
   "cell_type": "code",
   "execution_count": null,
   "metadata": {},
   "outputs": [],
   "source": [
    "df_motos_raw_coord_brand_types.type.unique()"
   ]
  },
  {
   "cell_type": "code",
   "execution_count": null,
   "metadata": {
    "collapsed": true
   },
   "outputs": [],
   "source": [
    "df_motos_raw_coord_brand_types[df_motos_raw_coord_brand_types.type=='con_marchas']"
   ]
  },
  {
   "cell_type": "code",
   "execution_count": null,
   "metadata": {
    "collapsed": true
   },
   "outputs": [],
   "source": [
    "import pandas as pd\n",
    "test = pd.read_csv('df_motos_raw_coord_brand_type.csv', sep=',', encoding = 'utf-8')"
   ]
  },
  {
   "cell_type": "code",
   "execution_count": null,
   "metadata": {},
   "outputs": [],
   "source": [
    "if df_rank_moto_brand[df_rank_moto_brand['brand'] == 'periquito'].brand_score.empty:\n",
    "    print \"none\""
   ]
  },
  {
   "cell_type": "code",
   "execution_count": null,
   "metadata": {},
   "outputs": [],
   "source": [
    "user_brand"
   ]
  },
  {
   "cell_type": "code",
   "execution_count": null,
   "metadata": {
    "collapsed": true
   },
   "outputs": [],
   "source": [
    "brand_in_df_list = [(brand, 'N/A') for brand in sorted(df_motos_raw_coord_brand_types.brand.unique())]"
   ]
  },
  {
   "cell_type": "code",
   "execution_count": null,
   "metadata": {
    "collapsed": true
   },
   "outputs": [],
   "source": [
    "df_brand_in_df_list = pd.DataFrame.from_records(brand_in_df_list, columns = ['brand', 'brand_score'])"
   ]
  },
  {
   "cell_type": "code",
   "execution_count": null,
   "metadata": {
    "scrolled": true
   },
   "outputs": [],
   "source": [
    "df_brand_in_df_list.head(5)"
   ]
  },
  {
   "cell_type": "code",
   "execution_count": null,
   "metadata": {},
   "outputs": [],
   "source": [
    "df_rank_moto_brand.head()"
   ]
  },
  {
   "cell_type": "code",
   "execution_count": null,
   "metadata": {
    "collapsed": true
   },
   "outputs": [],
   "source": [
    "df_rank_final = pd.merge(df_brand_in_df_list, df_rank_moto_brand, on = 'brand', how = 'left')"
   ]
  },
  {
   "cell_type": "code",
   "execution_count": null,
   "metadata": {},
   "outputs": [],
   "source": [
    "df_rank_final.head(5)"
   ]
  },
  {
   "cell_type": "code",
   "execution_count": null,
   "metadata": {
    "collapsed": true
   },
   "outputs": [],
   "source": [
    "rank_values = df_rank_moto_brand.values.tolist()\n",
    "brands_rank_values =  df_rank_moto_brand.brand.values\n",
    "for df_brand in brand_in_df_list:\n",
    "    if df_brand[0] not in brands_rank_values:\n",
    "        rank_values.append([df_brand[0],0])"
   ]
  },
  {
   "cell_type": "code",
   "execution_count": null,
   "metadata": {},
   "outputs": [],
   "source": [
    "rank_values"
   ]
  },
  {
   "cell_type": "code",
   "execution_count": 4,
   "metadata": {},
   "outputs": [
    {
     "name": "stderr",
     "output_type": "stream",
     "text": [
      "/usr/local/lib/python2.7/dist-packages/ipykernel_launcher.py:1: ExtDeprecationWarning: Importing flask.ext.bootstrap is deprecated, use flask_bootstrap instead.\n",
      "  \"\"\"Entry point for launching an IPython kernel.\n"
     ]
    }
   ],
   "source": [
    "from flask.ext.bootstrap import Bootstrap"
   ]
  },
  {
   "cell_type": "code",
   "execution_count": 5,
   "metadata": {
    "collapsed": true
   },
   "outputs": [],
   "source": [
    "from flask_bootstrap import Bootstrap"
   ]
  },
  {
   "cell_type": "code",
   "execution_count": null,
   "metadata": {
    "collapsed": true
   },
   "outputs": [],
   "source": []
  }
 ],
 "metadata": {
  "kernelspec": {
   "display_name": "Python 2",
   "language": "python",
   "name": "python2"
  },
  "language_info": {
   "codemirror_mode": {
    "name": "ipython",
    "version": 2
   },
   "file_extension": ".py",
   "mimetype": "text/x-python",
   "name": "python",
   "nbconvert_exporter": "python",
   "pygments_lexer": "ipython2",
   "version": "2.7.12"
  }
 },
 "nbformat": 4,
 "nbformat_minor": 1
}
