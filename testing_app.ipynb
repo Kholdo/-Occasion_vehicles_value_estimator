{
 "cells": [
  {
   "cell_type": "code",
   "execution_count": 1,
   "metadata": {},
   "outputs": [
    {
     "data": {
      "text/plain": [
       "u'/home/koldo/Dropbox/Proyectos/Data_Science/Second-hand_vehicles_price_estimator'"
      ]
     },
     "execution_count": 1,
     "metadata": {},
     "output_type": "execute_result"
    }
   ],
   "source": [
    "%pwd"
   ]
  },
  {
   "cell_type": "code",
   "execution_count": 5,
   "metadata": {},
   "outputs": [
    {
     "data": {
      "text/plain": [
       "(26511, 10)"
      ]
     },
     "execution_count": 5,
     "metadata": {},
     "output_type": "execute_result"
    }
   ],
   "source": [
    "import pandas as pd\n",
    "df_motos_raw = pd.read_csv('scraped_data/motos_raw_data.csv', sep=';')\n",
    "df_motos_raw.shape"
   ]
  },
  {
   "cell_type": "code",
   "execution_count": 6,
   "metadata": {},
   "outputs": [
    {
     "data": {
      "text/html": [
       "<div>\n",
       "<style>\n",
       "    .dataframe thead tr:only-child th {\n",
       "        text-align: right;\n",
       "    }\n",
       "\n",
       "    .dataframe thead th {\n",
       "        text-align: left;\n",
       "    }\n",
       "\n",
       "    .dataframe tbody tr th {\n",
       "        vertical-align: top;\n",
       "    }\n",
       "</style>\n",
       "<table border=\"1\" class=\"dataframe\">\n",
       "  <thead>\n",
       "    <tr style=\"text-align: right;\">\n",
       "      <th></th>\n",
       "      <th>city</th>\n",
       "      <th>brand</th>\n",
       "      <th>model</th>\n",
       "      <th>type</th>\n",
       "      <th>cc</th>\n",
       "      <th>color</th>\n",
       "      <th>km</th>\n",
       "      <th>year</th>\n",
       "      <th>price</th>\n",
       "      <th>url</th>\n",
       "    </tr>\n",
       "  </thead>\n",
       "  <tbody>\n",
       "    <tr>\n",
       "      <th>0</th>\n",
       "      <td>Madrid</td>\n",
       "      <td>BMW</td>\n",
       "      <td>R 1200 GS</td>\n",
       "      <td>Trail</td>\n",
       "      <td>1170.0</td>\n",
       "      <td>ROJO</td>\n",
       "      <td>57400.0</td>\n",
       "      <td>2004</td>\n",
       "      <td>7490</td>\n",
       "      <td>http://motos.net/ocasion/bmw/r_1200_gs/2004-en...</td>\n",
       "    </tr>\n",
       "    <tr>\n",
       "      <th>1</th>\n",
       "      <td>Navarra</td>\n",
       "      <td>KYMCO</td>\n",
       "      <td>Agility 125</td>\n",
       "      <td>Scooter 125cc</td>\n",
       "      <td>125.0</td>\n",
       "      <td>NaN</td>\n",
       "      <td>7000.0</td>\n",
       "      <td>2014</td>\n",
       "      <td>1600</td>\n",
       "      <td>http://motos.net/ocasion/kymco/agility_125/201...</td>\n",
       "    </tr>\n",
       "    <tr>\n",
       "      <th>2</th>\n",
       "      <td>Navarra</td>\n",
       "      <td>KTM</td>\n",
       "      <td>390 Duke</td>\n",
       "      <td>Naked</td>\n",
       "      <td>375.0</td>\n",
       "      <td>NaN</td>\n",
       "      <td>9400.0</td>\n",
       "      <td>2014</td>\n",
       "      <td>4700</td>\n",
       "      <td>http://motos.net/ocasion/ktm/390_duke/2014-en-...</td>\n",
       "    </tr>\n",
       "    <tr>\n",
       "      <th>3</th>\n",
       "      <td>Navarra</td>\n",
       "      <td>HONDA</td>\n",
       "      <td>CBR 125R</td>\n",
       "      <td>Sport</td>\n",
       "      <td>125.0</td>\n",
       "      <td>NaN</td>\n",
       "      <td>2100.0</td>\n",
       "      <td>2014</td>\n",
       "      <td>2800</td>\n",
       "      <td>http://motos.net/ocasion/honda/cbr_125r/2014-e...</td>\n",
       "    </tr>\n",
       "    <tr>\n",
       "      <th>4</th>\n",
       "      <td>Granada</td>\n",
       "      <td>SUZUKI</td>\n",
       "      <td>BURGMAN 250</td>\n",
       "      <td>Scooters +125cc</td>\n",
       "      <td>250.0</td>\n",
       "      <td>NaN</td>\n",
       "      <td>57000.0</td>\n",
       "      <td>2006</td>\n",
       "      <td>1300</td>\n",
       "      <td>http://motos.net/ocasion/suzuki/burgman_250/20...</td>\n",
       "    </tr>\n",
       "  </tbody>\n",
       "</table>\n",
       "</div>"
      ],
      "text/plain": [
       "      city   brand        model             type      cc color       km  year  \\\n",
       "0   Madrid     BMW    R 1200 GS            Trail  1170.0  ROJO  57400.0  2004   \n",
       "1  Navarra   KYMCO  Agility 125    Scooter 125cc   125.0   NaN   7000.0  2014   \n",
       "2  Navarra     KTM     390 Duke            Naked   375.0   NaN   9400.0  2014   \n",
       "3  Navarra   HONDA     CBR 125R            Sport   125.0   NaN   2100.0  2014   \n",
       "4  Granada  SUZUKI  BURGMAN 250  Scooters +125cc   250.0   NaN  57000.0  2006   \n",
       "\n",
       "   price                                                url  \n",
       "0   7490  http://motos.net/ocasion/bmw/r_1200_gs/2004-en...  \n",
       "1   1600  http://motos.net/ocasion/kymco/agility_125/201...  \n",
       "2   4700  http://motos.net/ocasion/ktm/390_duke/2014-en-...  \n",
       "3   2800  http://motos.net/ocasion/honda/cbr_125r/2014-e...  \n",
       "4   1300  http://motos.net/ocasion/suzuki/burgman_250/20...  "
      ]
     },
     "execution_count": 6,
     "metadata": {},
     "output_type": "execute_result"
    }
   ],
   "source": [
    "df_motos_raw.head(5)"
   ]
  },
  {
   "cell_type": "markdown",
   "metadata": {},
   "source": [
    "Data cleaning"
   ]
  },
  {
   "cell_type": "code",
   "execution_count": 7,
   "metadata": {
    "collapsed": true
   },
   "outputs": [],
   "source": [
    "# Convert the dataframe to lower case\n",
    "df_motos_raw = df_motos_raw.apply(lambda x: x.astype(str).str.lower())"
   ]
  },
  {
   "cell_type": "code",
   "execution_count": 8,
   "metadata": {
    "collapsed": true
   },
   "outputs": [],
   "source": [
    "#Join the words in the 'model' and 'type' fields with an underscore\n",
    "df_motos_raw['model'] = df_motos_raw['model'].str.replace(' ', '_')\n",
    "df_motos_raw['type'] = df_motos_raw['type'].str.replace(' ', '_')"
   ]
  },
  {
   "cell_type": "code",
   "execution_count": 9,
   "metadata": {},
   "outputs": [
    {
     "name": "stdout",
     "output_type": "stream",
     "text": [
      "93 duplicates\n"
     ]
    }
   ],
   "source": [
    "# Looking for duplicates\n",
    "df_motos_raw['is_duplicated'] = df_motos_raw.duplicated()\n",
    "duplicates = df_motos_raw['is_duplicated'].sum()\n",
    "print '%d duplicates' %duplicates"
   ]
  },
  {
   "cell_type": "code",
   "execution_count": 10,
   "metadata": {},
   "outputs": [
    {
     "data": {
      "text/plain": [
       "(26418, 10)"
      ]
     },
     "execution_count": 10,
     "metadata": {},
     "output_type": "execute_result"
    }
   ],
   "source": [
    "# Removing duplicates and delete 'is_duplicated' column\n",
    "df_motos_raw = df_motos_raw.loc[df_motos_raw['is_duplicated']==False]\n",
    "df_motos_raw = df_motos_raw.drop('is_duplicated', 1)\n",
    "df_motos_raw.shape"
   ]
  },
  {
   "cell_type": "code",
   "execution_count": 11,
   "metadata": {},
   "outputs": [
    {
     "name": "stdout",
     "output_type": "stream",
     "text": [
      "city 0 -- > 0.000000\n",
      "brand 0 -- > 0.000000\n",
      "model 0 -- > 0.000000\n",
      "type 0 -- > 0.000000\n",
      "cc 95 -- > 0.359603\n",
      "color 7212 -- > 27.299568\n",
      "km 1631 -- > 6.173821\n",
      "year 0 -- > 0.000000\n",
      "price 0 -- > 0.000000\n",
      "url 0 -- > 0.000000\n"
     ]
    }
   ],
   "source": [
    "# Lets investigate column by column the NaNs we have in the dataframe\n",
    "for column in df_motos_raw.columns:\n",
    "    n_nan = df_motos_raw[column]=='nan'\n",
    "    print column + \" %d -- > %f\" %(n_nan.sum(), (n_nan.sum()*1.0)/df_motos_raw.shape[0]*100)"
   ]
  },
  {
   "cell_type": "code",
   "execution_count": 12,
   "metadata": {},
   "outputs": [
    {
     "name": "stdout",
     "output_type": "stream",
     "text": [
      "city --> 52 unique values\n",
      "brand --> 148 unique values\n",
      "model --> 3011 unique values\n",
      "type --> 15 unique values\n",
      "color --> 1923 unique values\n",
      "year --> 48 unique values\n"
     ]
    }
   ],
   "source": [
    "# Lets investigate the unique values we have in the columns\n",
    "for column in ['city', 'brand', 'model', 'type', 'color', 'year']:\n",
    "    column_uv = df_motos_raw[column].unique()\n",
    "    print column + \" --> \" + \"%d unique values\" %len(sorted(column_uv))"
   ]
  },
  {
   "cell_type": "markdown",
   "metadata": {},
   "source": [
    "Merge some data"
   ]
  },
  {
   "cell_type": "code",
   "execution_count": 13,
   "metadata": {
    "collapsed": true
   },
   "outputs": [],
   "source": [
    "#In order to calculate our first metric, we will use the following columns:\n",
    "# \"lon\" and \"lat\" : These are the longitude and latitude of the corresponding city. We will add them later.\n",
    "# \"brand\", \"model\", \"type\", \"year\""
   ]
  },
  {
   "cell_type": "code",
   "execution_count": 14,
   "metadata": {
    "collapsed": true
   },
   "outputs": [],
   "source": [
    "# Calculating the longitude and latitude of the cities\n",
    "import geopy\n",
    "from geopy.geocoders import Nominatim\n",
    "geolocator = Nominatim()"
   ]
  },
  {
   "cell_type": "code",
   "execution_count": 15,
   "metadata": {
    "collapsed": true
   },
   "outputs": [],
   "source": [
    "cities = df_motos_raw['city'].unique()\n",
    "locations_rows = []\n",
    "for city in cities:\n",
    "    location = geolocator.geocode([city], timeout = 15)\n",
    "    locations_rows.append([city, location.latitude, location.longitude])\n",
    "#Save into a csv\n",
    "df_locations = pd.DataFrame(locations_rows, columns = ['city', 'lat', 'lon'])\n",
    "df_locations.to_csv('auxiliary_data/locations_coords.csv', index = False)"
   ]
  },
  {
   "cell_type": "code",
   "execution_count": 16,
   "metadata": {},
   "outputs": [
    {
     "data": {
      "text/html": [
       "<div>\n",
       "<style>\n",
       "    .dataframe thead tr:only-child th {\n",
       "        text-align: right;\n",
       "    }\n",
       "\n",
       "    .dataframe thead th {\n",
       "        text-align: left;\n",
       "    }\n",
       "\n",
       "    .dataframe tbody tr th {\n",
       "        vertical-align: top;\n",
       "    }\n",
       "</style>\n",
       "<table border=\"1\" class=\"dataframe\">\n",
       "  <thead>\n",
       "    <tr style=\"text-align: right;\">\n",
       "      <th></th>\n",
       "      <th>city</th>\n",
       "      <th>lat</th>\n",
       "      <th>lon</th>\n",
       "    </tr>\n",
       "  </thead>\n",
       "  <tbody>\n",
       "    <tr>\n",
       "      <th>0</th>\n",
       "      <td>madrid</td>\n",
       "      <td>40.416705</td>\n",
       "      <td>-3.703582</td>\n",
       "    </tr>\n",
       "    <tr>\n",
       "      <th>1</th>\n",
       "      <td>navarra</td>\n",
       "      <td>42.612549</td>\n",
       "      <td>-1.830791</td>\n",
       "    </tr>\n",
       "    <tr>\n",
       "      <th>2</th>\n",
       "      <td>granada</td>\n",
       "      <td>37.183020</td>\n",
       "      <td>-3.602192</td>\n",
       "    </tr>\n",
       "  </tbody>\n",
       "</table>\n",
       "</div>"
      ],
      "text/plain": [
       "      city        lat       lon\n",
       "0   madrid  40.416705 -3.703582\n",
       "1  navarra  42.612549 -1.830791\n",
       "2  granada  37.183020 -3.602192"
      ]
     },
     "execution_count": 16,
     "metadata": {},
     "output_type": "execute_result"
    }
   ],
   "source": [
    "df_locations.head(3)"
   ]
  },
  {
   "cell_type": "code",
   "execution_count": 17,
   "metadata": {
    "collapsed": true
   },
   "outputs": [],
   "source": [
    "# Merge df_locations with df_motos_raw\n",
    "df_motos_raw_coord = pd.merge(df_motos_raw, df_locations, on = 'city')\n",
    "#Save into a csv\n",
    "df_motos_raw_coord.to_csv('df_motos_raw_coord.csv', index = False)"
   ]
  },
  {
   "cell_type": "code",
   "execution_count": 18,
   "metadata": {
    "collapsed": true
   },
   "outputs": [],
   "source": [
    "# We have created two csv files with a rank for the motos brands and types\n",
    "# called rank_motos_brands.csv and rank_motos_types.csv\n",
    "\n",
    "# With the first one, rank_motos_brands.csv, we are gint to create another  column, with a score to the corresponding brand\n",
    "df_rank_moto_brand = pd.read_csv('scraped_data/rank_moto_brands.csv', sep=';')\n",
    "df_motos_raw_coord_brand = pd.merge(df_motos_raw_coord, df_rank_moto_brand, on = 'brand', how = 'left')\n",
    "#If the brand does not exist, the rank value will be zero\n",
    "#!!OJO, AÑADIR MARCAS DE MOTOS QUE FALTAN ANTES DE PONER UN CERO!!!!!!!!!!!!!!!!!\n",
    "df_motos_raw_coord_brand.brand_score.fillna(0, inplace=True)\n",
    "# Save into a csv\n",
    "df_motos_raw_coord_brand.to_csv('df_motos_coord_brand.csv', index = False)\n",
    "\n",
    "# With the second one, rank_moto_types.csv, we are going to create another column, with a score to the corresponding type\n",
    "df_rank_moto_type = pd.read_csv('auxiliary_data/rank_moto_types.csv', sep=';')\n",
    "df_motos_raw_coord_brand_types = pd.merge(df_motos_raw_coord_brand, df_rank_moto_type, on = 'type', how = 'left')\n",
    "#Save into a csv\n",
    "df_motos_raw_coord_brand_types.to_csv('df_motos_raw_coord_brand_type.csv', index = False)"
   ]
  },
  {
   "cell_type": "code",
   "execution_count": 19,
   "metadata": {},
   "outputs": [
    {
     "data": {
      "text/html": [
       "<div>\n",
       "<style>\n",
       "    .dataframe thead tr:only-child th {\n",
       "        text-align: right;\n",
       "    }\n",
       "\n",
       "    .dataframe thead th {\n",
       "        text-align: left;\n",
       "    }\n",
       "\n",
       "    .dataframe tbody tr th {\n",
       "        vertical-align: top;\n",
       "    }\n",
       "</style>\n",
       "<table border=\"1\" class=\"dataframe\">\n",
       "  <thead>\n",
       "    <tr style=\"text-align: right;\">\n",
       "      <th></th>\n",
       "      <th>city</th>\n",
       "      <th>brand</th>\n",
       "      <th>model</th>\n",
       "      <th>type</th>\n",
       "      <th>cc</th>\n",
       "      <th>color</th>\n",
       "      <th>km</th>\n",
       "      <th>year</th>\n",
       "      <th>price</th>\n",
       "      <th>url</th>\n",
       "      <th>lat</th>\n",
       "      <th>lon</th>\n",
       "      <th>brand_score</th>\n",
       "      <th>type_score</th>\n",
       "    </tr>\n",
       "  </thead>\n",
       "  <tbody>\n",
       "    <tr>\n",
       "      <th>0</th>\n",
       "      <td>madrid</td>\n",
       "      <td>bmw</td>\n",
       "      <td>r_1200_gs</td>\n",
       "      <td>trail</td>\n",
       "      <td>1170.0</td>\n",
       "      <td>rojo</td>\n",
       "      <td>57400.0</td>\n",
       "      <td>2004</td>\n",
       "      <td>7490</td>\n",
       "      <td>http://motos.net/ocasion/bmw/r_1200_gs/2004-en...</td>\n",
       "      <td>40.416705</td>\n",
       "      <td>-3.703582</td>\n",
       "      <td>356.0</td>\n",
       "      <td>14</td>\n",
       "    </tr>\n",
       "    <tr>\n",
       "      <th>1</th>\n",
       "      <td>madrid</td>\n",
       "      <td>ducati</td>\n",
       "      <td>monster_696+</td>\n",
       "      <td>naked</td>\n",
       "      <td>696.0</td>\n",
       "      <td>blanco</td>\n",
       "      <td>18166.0</td>\n",
       "      <td>2011</td>\n",
       "      <td>5999</td>\n",
       "      <td>http://motos.net/ocasion/ducati/monster_696/20...</td>\n",
       "      <td>40.416705</td>\n",
       "      <td>-3.703582</td>\n",
       "      <td>473.0</td>\n",
       "      <td>15</td>\n",
       "    </tr>\n",
       "    <tr>\n",
       "      <th>2</th>\n",
       "      <td>madrid</td>\n",
       "      <td>kymco</td>\n",
       "      <td>super_dink_300i_abs</td>\n",
       "      <td>scooters_+125cc</td>\n",
       "      <td>299.0</td>\n",
       "      <td>blanco</td>\n",
       "      <td>9644.0</td>\n",
       "      <td>2011</td>\n",
       "      <td>3299</td>\n",
       "      <td>http://motos.net/ocasion/kymco/super_dink_300i...</td>\n",
       "      <td>40.416705</td>\n",
       "      <td>-3.703582</td>\n",
       "      <td>37.0</td>\n",
       "      <td>10</td>\n",
       "    </tr>\n",
       "  </tbody>\n",
       "</table>\n",
       "</div>"
      ],
      "text/plain": [
       "     city   brand                model             type      cc   color  \\\n",
       "0  madrid     bmw            r_1200_gs            trail  1170.0    rojo   \n",
       "1  madrid  ducati         monster_696+            naked   696.0  blanco   \n",
       "2  madrid   kymco  super_dink_300i_abs  scooters_+125cc   299.0  blanco   \n",
       "\n",
       "        km  year price                                                url  \\\n",
       "0  57400.0  2004  7490  http://motos.net/ocasion/bmw/r_1200_gs/2004-en...   \n",
       "1  18166.0  2011  5999  http://motos.net/ocasion/ducati/monster_696/20...   \n",
       "2   9644.0  2011  3299  http://motos.net/ocasion/kymco/super_dink_300i...   \n",
       "\n",
       "         lat       lon  brand_score  type_score  \n",
       "0  40.416705 -3.703582        356.0          14  \n",
       "1  40.416705 -3.703582        473.0          15  \n",
       "2  40.416705 -3.703582         37.0          10  "
      ]
     },
     "execution_count": 19,
     "metadata": {},
     "output_type": "execute_result"
    }
   ],
   "source": [
    "df_motos_raw_coord_brand_types.head(3)"
   ]
  },
  {
   "cell_type": "code",
   "execution_count": 20,
   "metadata": {},
   "outputs": [
    {
     "data": {
      "text/plain": [
       "array(['dorton', 'mv agusta', 'quadro', 'indian', 'hanway', 'lml',\n",
       "       'jonway', 'qingqi', 'royal enfield', 'riya', 'monkey bike', 'znen',\n",
       "       'motor hispania', 'fantic', 'fb mondial', 'imr', 'hudson boss',\n",
       "       'rav', 'jin lun', 'oset', 'orcal', 'big dog', 'brp', 'montesa',\n",
       "       'ural', 'kinroad', 'mtr', 'zero', 'mash', 'mxonda', 'ksr moto',\n",
       "       'puch', 'jianshe', 'innocenti', 'arctic cat', 'zongshen',\n",
       "       'ridley motorcycles', 'american ironhorse', 'young rider', 'orion',\n",
       "       'mobilette', 'tm', 'torrot', 'vespino', 'moto morini',\n",
       "       'apollo orion', 'rebel', 'megelli', 'cooltra', 'lem', 'ossa',\n",
       "       'zero motorcycles', 'vertigo', 'govecs', 'can-am', 'kangxin',\n",
       "       'zms motors', 'hm', 'dh haotian', 'alpina renania', 'gowinn',\n",
       "       'xmotos', 'lambretta', 'brammo', 'scomadi', 'aeon', 'lifan', 'ycf',\n",
       "       'elmoto', 'renault', 'ajp', 'wildlander', 'sumo', 'mecatecno',\n",
       "       'wottan', 'lemev', 'e-max', 'samada', 'btm', 'vmoto', 'tbq', 'mtm',\n",
       "       'lanvertti', 'roan', 'chopper nation', 'motogac', 'adly',\n",
       "       'via scooter', 'hsun', 'dak', 'xingyue', 'cfmoto', 'lectric'], dtype=object)"
      ]
     },
     "execution_count": 20,
     "metadata": {},
     "output_type": "execute_result"
    }
   ],
   "source": [
    "df_motos_raw_coord_brand_types[df_motos_raw_coord_brand_types.brand_score==0].brand.unique()"
   ]
  },
  {
   "cell_type": "code",
   "execution_count": 21,
   "metadata": {
    "collapsed": true
   },
   "outputs": [],
   "source": [
    "# OK!, so we have a first version of the data we will use to recommend vehicles\n",
    "# df_motos_raw_coord_brand_types\n",
    "# Lets try to calculate the metric only with some fields. We are going to add these distances:\n",
    "# cities distance, brand_distance, type_distance, year_distance\n",
    "# We need to create some functions:\n",
    "\n",
    "def cities_distance(city_lat, city_lon, user_lat, user_lon):\n",
    "    \"\"\"    \n",
    "    :param city_lat: the value in the dataset's lat column to the corresponding city\n",
    "    :param city_lon: the value in the dataset's lon column to the corresponding city\n",
    "    :param user_lat: The corresponding lat value in the location dataset of the city selected by the user\n",
    "    :param user_lon: The corresponding lon value in the location dataset of the city selected by the user\n",
    "    \n",
    "    :return: The value in kilometers of the distance between the two cities.\n",
    "    \n",
    "    Usage of the Vicenty distance\n",
    "    \"\"\"\n",
    "    \n",
    "    from geopy.distance import vincenty\n",
    "    \n",
    "    column_city = (city_lat, city_lon)\n",
    "    user_city = (user_lat, user_lon)\n",
    "    \n",
    "    return (vincenty(column_city, user_city).km)\n",
    "\n",
    "def distance_abs_value(a_value, b_value):\n",
    "    return abs(a_value - b_value)\n",
    "\n",
    "def w_s(city_row, brand_row, type_row, year_row):\n",
    "    import numpy as np\n",
    "    weigth = 100\n",
    "    brand_weight = 40\n",
    "    type_weight = 40\n",
    "    year_weight = 10\n",
    "    city_weight = 10\n",
    "    \n",
    "    params = np.array([city_row, brand_row, type_row, year_row])\n",
    "    weights = np.array([city_weight, brand_weight, type_weight, year_weight])\n",
    "    \n",
    "    num = sum(params * weights) * 1.0\n",
    "    return num/weigth"
   ]
  },
  {
   "cell_type": "code",
   "execution_count": 26,
   "metadata": {
    "collapsed": true
   },
   "outputs": [],
   "source": [
    "#Example of request of a user\n",
    "user_request = ('madrid', 'bmw', 'custom', 2000)\n",
    "\n",
    "# We need to calculate some variables:\n",
    "user_lat = float(df_locations[df_locations['city'] == user_request[0]].lat)\n",
    "user_lon = float(df_locations[df_locations['city'] == user_request[0]].lon)\n",
    "user_brand = int(df_rank_moto_brand[df_rank_moto_brand['brand'] == user_request[1]].brand_score)\n",
    "user_type = int(df_rank_moto_type[df_rank_moto_type['type'] == user_request[2]].type_score)\n",
    "user_year = user_request[3]\n",
    "\n",
    "user_vars = [user_brand, user_type, user_year]\n",
    "score_columns = ['brand_score', 'type_score', 'year']"
   ]
  },
  {
   "cell_type": "code",
   "execution_count": 27,
   "metadata": {},
   "outputs": [
    {
     "name": "stdout",
     "output_type": "stream",
     "text": [
      "brand_metric brand_score 356\n",
      "type_metric type_score 13\n",
      "year_metric year 2000\n"
     ]
    }
   ],
   "source": [
    "df_motos_raw_coord_brand_types['city_metric'] = df_motos_raw_coord_brand_types.apply(lambda row: cities_distance(row['lat'], row['lon'], user_lat, user_lon), axis=1)\n",
    "\n",
    "for i, element in enumerate(['brand', 'type', 'year']):\n",
    "    new_column = element + '_metric'\n",
    "    print new_column, score_columns[i], user_vars[i]\n",
    "    df_motos_raw_coord_brand_types[new_column] = df_motos_raw_coord_brand_types.apply(lambda row: distance_abs_value(int(row[score_columns[i]]), user_vars[i]), axis=1)\n",
    "    \n",
    "#!!! Revisar ranking de motos, falta alguna, por eso aparenden NAN en la columna brand_score al hacer el merge\n",
    "\n",
    "df_motos_raw_coord_brand_types['total_metric_pond'] = df_motos_raw_coord_brand_types.apply(lambda row: w_s(row['city_metric'], row['brand_metric'], row['type_metric'], row['year_metric']), axis = 1)"
   ]
  },
  {
   "cell_type": "code",
   "execution_count": 28,
   "metadata": {
    "collapsed": true
   },
   "outputs": [],
   "source": [
    "results = df_motos_raw_coord_brand_types.sort_values(by = ['total_metric_pond'], ascending=True)"
   ]
  },
  {
   "cell_type": "code",
   "execution_count": 29,
   "metadata": {},
   "outputs": [
    {
     "data": {
      "text/html": [
       "<div>\n",
       "<style>\n",
       "    .dataframe thead tr:only-child th {\n",
       "        text-align: right;\n",
       "    }\n",
       "\n",
       "    .dataframe thead th {\n",
       "        text-align: left;\n",
       "    }\n",
       "\n",
       "    .dataframe tbody tr th {\n",
       "        vertical-align: top;\n",
       "    }\n",
       "</style>\n",
       "<table border=\"1\" class=\"dataframe\">\n",
       "  <thead>\n",
       "    <tr style=\"text-align: right;\">\n",
       "      <th></th>\n",
       "      <th>city</th>\n",
       "      <th>brand</th>\n",
       "      <th>model</th>\n",
       "      <th>type</th>\n",
       "      <th>cc</th>\n",
       "      <th>color</th>\n",
       "      <th>km</th>\n",
       "      <th>year</th>\n",
       "      <th>price</th>\n",
       "      <th>url</th>\n",
       "      <th>lat</th>\n",
       "      <th>lon</th>\n",
       "      <th>brand_score</th>\n",
       "      <th>type_score</th>\n",
       "      <th>city_metric</th>\n",
       "      <th>brand_metric</th>\n",
       "      <th>type_metric</th>\n",
       "      <th>year_metric</th>\n",
       "      <th>total_metric_pond</th>\n",
       "    </tr>\n",
       "  </thead>\n",
       "  <tbody>\n",
       "    <tr>\n",
       "      <th>4920</th>\n",
       "      <td>madrid</td>\n",
       "      <td>bmw</td>\n",
       "      <td>r_1200_c_classic</td>\n",
       "      <td>custom</td>\n",
       "      <td>1170.0</td>\n",
       "      <td>cobre</td>\n",
       "      <td>33000.0</td>\n",
       "      <td>2000</td>\n",
       "      <td>9800</td>\n",
       "      <td>http://motos.net/ocasion/bmw/r_1200_c_classic/...</td>\n",
       "      <td>40.416705</td>\n",
       "      <td>-3.703582</td>\n",
       "      <td>356.0</td>\n",
       "      <td>13</td>\n",
       "      <td>0.0</td>\n",
       "      <td>0</td>\n",
       "      <td>0</td>\n",
       "      <td>0</td>\n",
       "      <td>0.0</td>\n",
       "    </tr>\n",
       "    <tr>\n",
       "      <th>1921</th>\n",
       "      <td>madrid</td>\n",
       "      <td>bmw</td>\n",
       "      <td>f_650</td>\n",
       "      <td>trail</td>\n",
       "      <td>652.0</td>\n",
       "      <td>rojo</td>\n",
       "      <td>40848.0</td>\n",
       "      <td>2000</td>\n",
       "      <td>3000</td>\n",
       "      <td>http://motos.net/ocasion/bmw/f_650/2000-en-mad...</td>\n",
       "      <td>40.416705</td>\n",
       "      <td>-3.703582</td>\n",
       "      <td>356.0</td>\n",
       "      <td>14</td>\n",
       "      <td>0.0</td>\n",
       "      <td>0</td>\n",
       "      <td>1</td>\n",
       "      <td>0</td>\n",
       "      <td>0.4</td>\n",
       "    </tr>\n",
       "    <tr>\n",
       "      <th>567</th>\n",
       "      <td>madrid</td>\n",
       "      <td>bmw</td>\n",
       "      <td>r_1200_c_montauk</td>\n",
       "      <td>custom</td>\n",
       "      <td>1200.0</td>\n",
       "      <td>nan</td>\n",
       "      <td>148000.0</td>\n",
       "      <td>2004</td>\n",
       "      <td>7300</td>\n",
       "      <td>http://motos.net/ocasion/bmw/r_1200_c_montauk/...</td>\n",
       "      <td>40.416705</td>\n",
       "      <td>-3.703582</td>\n",
       "      <td>356.0</td>\n",
       "      <td>13</td>\n",
       "      <td>0.0</td>\n",
       "      <td>0</td>\n",
       "      <td>0</td>\n",
       "      <td>4</td>\n",
       "      <td>0.4</td>\n",
       "    </tr>\n",
       "    <tr>\n",
       "      <th>2011</th>\n",
       "      <td>madrid</td>\n",
       "      <td>bmw</td>\n",
       "      <td>f_650_gs_dakar</td>\n",
       "      <td>trail</td>\n",
       "      <td>652.0</td>\n",
       "      <td>blanca</td>\n",
       "      <td>75000.0</td>\n",
       "      <td>2000</td>\n",
       "      <td>2990</td>\n",
       "      <td>http://motos.net/ocasion/bmw/f_650_gs_dakar/20...</td>\n",
       "      <td>40.416705</td>\n",
       "      <td>-3.703582</td>\n",
       "      <td>356.0</td>\n",
       "      <td>14</td>\n",
       "      <td>0.0</td>\n",
       "      <td>0</td>\n",
       "      <td>1</td>\n",
       "      <td>0</td>\n",
       "      <td>0.4</td>\n",
       "    </tr>\n",
       "    <tr>\n",
       "      <th>2363</th>\n",
       "      <td>madrid</td>\n",
       "      <td>bmw</td>\n",
       "      <td>r_1200_c</td>\n",
       "      <td>custom</td>\n",
       "      <td>1170.0</td>\n",
       "      <td>negro</td>\n",
       "      <td>16000.0</td>\n",
       "      <td>2004</td>\n",
       "      <td>9500</td>\n",
       "      <td>http://motos.net/ocasion/bmw/r_1200_c/2004-en-...</td>\n",
       "      <td>40.416705</td>\n",
       "      <td>-3.703582</td>\n",
       "      <td>356.0</td>\n",
       "      <td>13</td>\n",
       "      <td>0.0</td>\n",
       "      <td>0</td>\n",
       "      <td>0</td>\n",
       "      <td>4</td>\n",
       "      <td>0.4</td>\n",
       "    </tr>\n",
       "  </tbody>\n",
       "</table>\n",
       "</div>"
      ],
      "text/plain": [
       "        city brand             model    type      cc   color        km  year  \\\n",
       "4920  madrid   bmw  r_1200_c_classic  custom  1170.0   cobre   33000.0  2000   \n",
       "1921  madrid   bmw             f_650   trail   652.0    rojo   40848.0  2000   \n",
       "567   madrid   bmw  r_1200_c_montauk  custom  1200.0     nan  148000.0  2004   \n",
       "2011  madrid   bmw    f_650_gs_dakar   trail   652.0  blanca   75000.0  2000   \n",
       "2363  madrid   bmw          r_1200_c  custom  1170.0   negro   16000.0  2004   \n",
       "\n",
       "     price                                                url        lat  \\\n",
       "4920  9800  http://motos.net/ocasion/bmw/r_1200_c_classic/...  40.416705   \n",
       "1921  3000  http://motos.net/ocasion/bmw/f_650/2000-en-mad...  40.416705   \n",
       "567   7300  http://motos.net/ocasion/bmw/r_1200_c_montauk/...  40.416705   \n",
       "2011  2990  http://motos.net/ocasion/bmw/f_650_gs_dakar/20...  40.416705   \n",
       "2363  9500  http://motos.net/ocasion/bmw/r_1200_c/2004-en-...  40.416705   \n",
       "\n",
       "           lon  brand_score  type_score  city_metric  brand_metric  \\\n",
       "4920 -3.703582        356.0          13          0.0             0   \n",
       "1921 -3.703582        356.0          14          0.0             0   \n",
       "567  -3.703582        356.0          13          0.0             0   \n",
       "2011 -3.703582        356.0          14          0.0             0   \n",
       "2363 -3.703582        356.0          13          0.0             0   \n",
       "\n",
       "      type_metric  year_metric  total_metric_pond  \n",
       "4920            0            0                0.0  \n",
       "1921            1            0                0.4  \n",
       "567             0            4                0.4  \n",
       "2011            1            0                0.4  \n",
       "2363            0            4                0.4  "
      ]
     },
     "execution_count": 29,
     "metadata": {},
     "output_type": "execute_result"
    }
   ],
   "source": [
    "results.head(5)"
   ]
  },
  {
   "cell_type": "code",
   "execution_count": null,
   "metadata": {
    "collapsed": true
   },
   "outputs": [],
   "source": []
  }
 ],
 "metadata": {
  "kernelspec": {
   "display_name": "Python 2",
   "language": "python",
   "name": "python2"
  },
  "language_info": {
   "codemirror_mode": {
    "name": "ipython",
    "version": 2
   },
   "file_extension": ".py",
   "mimetype": "text/x-python",
   "name": "python",
   "nbconvert_exporter": "python",
   "pygments_lexer": "ipython2",
   "version": "2.7.12"
  }
 },
 "nbformat": 4,
 "nbformat_minor": 2
}
